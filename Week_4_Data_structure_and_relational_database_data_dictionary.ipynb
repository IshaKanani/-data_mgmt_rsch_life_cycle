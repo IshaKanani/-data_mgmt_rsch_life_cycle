{
  "nbformat": 4,
  "nbformat_minor": 0,
  "metadata": {
    "colab": {
      "name": "Week 4_Data structure and relational database/data dictionary.ipynb",
      "version": "0.3.2",
      "provenance": [],
      "include_colab_link": true
    },
    "kernelspec": {
      "name": "python3",
      "display_name": "Python 3"
    },
    "accelerator": "GPU"
  },
  "cells": [
    {
      "cell_type": "markdown",
      "metadata": {
        "id": "view-in-github",
        "colab_type": "text"
      },
      "source": [
        "<a href=\"https://colab.research.google.com/github/IshaKanani/-data_mgmt_rsch_life_cycle/blob/master/Week_4_Data_structure_and_relational_database_data_dictionary.ipynb\" target=\"_parent\"><img src=\"https://colab.research.google.com/assets/colab-badge.svg\" alt=\"Open In Colab\"/></a>"
      ]
    },
    {
      "metadata": {
        "id": "yisisI-VEqHm",
        "colab_type": "text"
      },
      "cell_type": "markdown",
      "source": [
        "# Learning objectives\n",
        "\n",
        "* Introduction to [Lists](https://docs.python.org/3/tutorial/datastructures.html), [Sets ](https://docs.python.org/2/library/sets.html)and [Dictionaries](https://www.w3schools.com/python/python_dictionaries.asp)\n",
        "* Understanding String and Tuples and taking an optional quiz to evaluate the understanding\n",
        "* Presenting information in Text Cells (Markdown)\n",
        "* Using Tables and Equations to better represent the documentation"
      ]
    },
    {
      "metadata": {
        "id": "4ELnmY8qb28m",
        "colab_type": "text"
      },
      "cell_type": "markdown",
      "source": [
        "##Lists\n",
        "\n",
        "* List is a data structure storing multiple values\n",
        "* It is one dimentional in nature\n",
        "* Not convinient for relational variables\n",
        "\n",
        "###List Functions\n",
        "\n",
        "1. Append: Add item on the last\n",
        "2. Extend\n",
        "3. Insert\n",
        "4. Remove\n",
        "5. Pop\n",
        "6. Clear\n",
        "\n",
        "many more.."
      ]
    },
    {
      "metadata": {
        "id": "PQTE8hIqdAyT",
        "colab_type": "code",
        "outputId": "769ff1ff-2f54-4b3a-8b94-20cd26d2e8ba",
        "colab": {
          "base_uri": "https://localhost:8080/",
          "height": 34
        }
      },
      "cell_type": "code",
      "source": [
        "A = [4, 5, 7, 0]\n",
        "print(type(A))"
      ],
      "execution_count": 0,
      "outputs": [
        {
          "output_type": "stream",
          "text": [
            "<class 'list'>\n"
          ],
          "name": "stdout"
        }
      ]
    },
    {
      "metadata": {
        "id": "rao2zfhyehlo",
        "colab_type": "text"
      },
      "cell_type": "markdown",
      "source": [
        "###Functions Used\n",
        "\n",
        "[List Functions](https://www.programiz.com/python-programming/list)\n",
        "\n",
        "1. **index**: Gives the posiiton of the value searched, Note: In python, the first element has the index position 0\n",
        "2. **append**: Adds the value to the end of the list\n",
        "3.  **insert(i, x)**: Inserts the value x at the ith index, and shift all the later values by one index."
      ]
    },
    {
      "metadata": {
        "id": "xJwiZFT2dFtA",
        "colab_type": "code",
        "outputId": "9455a82c-3d6f-40c4-db89-cabda3296662",
        "colab": {
          "base_uri": "https://localhost:8080/",
          "height": 85
        }
      },
      "cell_type": "code",
      "source": [
        "A.append(3)\n",
        "print(A)\n",
        "\n",
        "print(A.index(5))\n",
        "\n",
        "A.insert(1, 9)\n",
        "print(A)\n",
        "print(A.index(5))"
      ],
      "execution_count": 0,
      "outputs": [
        {
          "output_type": "stream",
          "text": [
            "[4, 5, 7, 0, 3]\n",
            "1\n",
            "[4, 9, 5, 7, 0, 3]\n",
            "2\n"
          ],
          "name": "stdout"
        }
      ]
    },
    {
      "metadata": {
        "id": "UsuDaGEDE6e4",
        "colab_type": "text"
      },
      "cell_type": "markdown",
      "source": [
        "##In-Class Practice:\n",
        "\n",
        "1. Create a list containing name of the data sources you have used for THA1\n",
        "2. Use the function append to add potential data source you considered for THA1\n",
        "3. Use [Remove](https://www.programiz.com/python-programming/methods/list/remove) to delete the potential data source considered but not used for THA1\n",
        "4. Use [Delete](https://www.programiz.com/python-programming/list) to remove another data source & understand the difference between remove and delete functions."
      ]
    },
    {
      "metadata": {
        "id": "jnKLeZXadfJF",
        "colab_type": "text"
      },
      "cell_type": "markdown",
      "source": [
        "## Dictionary\n",
        "\n",
        "* It is unordered collection\n",
        "* The entries are usually in the form of pairs: **keys** and **values**\n",
        "* Written between curly braces, pairs separated by comma"
      ]
    },
    {
      "metadata": {
        "id": "ZKAhd6l7d9p_",
        "colab_type": "code",
        "outputId": "d7af2f06-b989-4447-d7e2-3bb36d853148",
        "colab": {
          "base_uri": "https://localhost:8080/",
          "height": 34
        }
      },
      "cell_type": "code",
      "source": [
        "this_class = {\n",
        "    \"name\": \"Data Mgmt/ Rsch LifeCycle\",\n",
        "    \"code\": \"PA 397C\",\n",
        "    \"Timings\": \"Fri 10 am - 1 pm\",\n",
        "    \"Instrcutor\": \"Dr. Ji Ma\"\n",
        "}\n",
        "\n",
        "print(this_class)\n"
      ],
      "execution_count": 0,
      "outputs": [
        {
          "output_type": "stream",
          "text": [
            "{'name': 'Data Mgmt/ Rsch LifeCycle', 'code': 'PA 397C', 'Timings': 'Fri 10 am - 1 pm', 'Instrcutor': 'Dr. Ji Ma'}\n"
          ],
          "name": "stdout"
        }
      ]
    },
    {
      "metadata": {
        "id": "kQldemrtfG5s",
        "colab_type": "text"
      },
      "cell_type": "markdown",
      "source": [
        "###Functions Used\n",
        "\n",
        "[Dictionary Functions](https://www.programiz.com/python-programming/dictionary)\n",
        "\n",
        "\n",
        "1. **dict_name[key_name]**: To access the value corresponding to the key\n",
        "2. Change values to the keys\n",
        "3. Looping through the dictionary for each value"
      ]
    },
    {
      "metadata": {
        "id": "Wh3gkb3sfEgD",
        "colab_type": "code",
        "outputId": "39711fdc-db6b-4853-a26e-b0ebc16ed820",
        "colab": {
          "base_uri": "https://localhost:8080/",
          "height": 51
        }
      },
      "cell_type": "code",
      "source": [
        "print(this_class[\"name\"])\n",
        "\n",
        "this_class[\"name\"] = \"Data Management & Research Life Cycle\"\n",
        "print(this_class[\"name\"])"
      ],
      "execution_count": 0,
      "outputs": [
        {
          "output_type": "stream",
          "text": [
            "Data Mgmt/ Rsch LifeCycle\n",
            "Data Management & Research Life Cycle\n"
          ],
          "name": "stdout"
        }
      ]
    },
    {
      "metadata": {
        "id": "NAXm4nIpfv7k",
        "colab_type": "code",
        "outputId": "4bf183ff-55cf-420b-acbf-d172fb5176e2",
        "colab": {
          "base_uri": "https://localhost:8080/",
          "height": 153
        }
      },
      "cell_type": "code",
      "source": [
        "for eachkey in this_class:\n",
        "  print(eachkey)\n",
        "\n",
        "  \n",
        "for eachkey in this_class:\n",
        "  print(this_class[eachkey])\n",
        "  \n",
        "  "
      ],
      "execution_count": 0,
      "outputs": [
        {
          "output_type": "stream",
          "text": [
            "name\n",
            "code\n",
            "Timings\n",
            "Instrcutor\n",
            "Data Management & Research Life Cycle\n",
            "PA 397C\n",
            "Fri 10 am - 1 pm\n",
            "Dr. Ji Ma\n"
          ],
          "name": "stdout"
        }
      ]
    },
    {
      "metadata": {
        "id": "yyfdh7p5Gwo3",
        "colab_type": "text"
      },
      "cell_type": "markdown",
      "source": [
        "##In-Class Practice\n",
        "\n",
        "1. Create a dictonary containing name, file type and source of the three datasets used for THA1\n",
        "2. Print the whoel dictionary usinf for loop as demonstrated above\n",
        "3. Use the function \"popitem\" (Search dictionary.popitem()) & understand what the functions gives as an output."
      ]
    },
    {
      "metadata": {
        "id": "ry67xiK_gYQG",
        "colab_type": "text"
      },
      "cell_type": "markdown",
      "source": [
        "##Set\n",
        "\n",
        "* All elememts must be **unique**\n",
        "* Repeated values are not considered.\n",
        "* Unordered structure"
      ]
    },
    {
      "metadata": {
        "id": "LEW5hhPQijra",
        "colab_type": "code",
        "outputId": "b2555e08-752c-43b4-908e-c56b2438242d",
        "colab": {
          "base_uri": "https://localhost:8080/",
          "height": 34
        }
      },
      "cell_type": "code",
      "source": [
        "sample_set = {3, 7, 9, 7, 13}\n",
        "print(sample_set)"
      ],
      "execution_count": 0,
      "outputs": [
        {
          "output_type": "stream",
          "text": [
            "{9, 3, 13, 7}\n"
          ],
          "name": "stdout"
        }
      ]
    },
    {
      "metadata": {
        "id": "FU1Z-7hxMW_D",
        "colab_type": "text"
      },
      "cell_type": "markdown",
      "source": [
        "#Practice for datatypes:\n",
        "\n",
        "Understand basic functions explained for [Numbers](https://www.programiz.com/python-programming/numbers), [List](https://www.programiz.com/python-programming/list), [Tuple](https://www.programiz.com/python-programming/tuple), [String](https://www.programiz.com/python-programming/string), [Set](https://www.programiz.com/python-programming/set) & [Dictionary](https://www.programiz.com/python-programming/dictionary)\n",
        "\n",
        "Optional: Take this [QUIZ](https://www.programiz.com/python-programming/quiz/native-data-types/take/1) to evaluate your understanding of datatypes."
      ]
    },
    {
      "metadata": {
        "id": "Uz3CpdgJgfGr",
        "colab_type": "text"
      },
      "cell_type": "markdown",
      "source": [
        "#Markdown\n",
        "\n",
        "* The language used in the text cell of Colaboratory is called [Markdown](https://colab.research.google.com/notebooks/markdown_guide.ipynb#scrollTo=tPqPXAKKkzaM)\n",
        "* Various Text Formatting functions\n",
        "\n",
        "##**Basic Formatting**:\n",
        "\n",
        "1. \\**italics*\\* and \\__italics_\\_\n",
        "\n",
        "2. **\\*\\*bold\\*\\***\n",
        "\n",
        "3. \\~\\~~~strikethrough~~\\~\\~\n",
        "\n",
        "4. \\``monospace`\\`\n"
      ]
    },
    {
      "metadata": {
        "id": "V09k9DQejgjZ",
        "colab_type": "text"
      },
      "cell_type": "markdown",
      "source": [
        "##Headings & Indents\n",
        "\n",
        "* Markdown uses # for titles, the number of #s used determines the level of the heading\n",
        "* One # represents entire section, followed by ## for the subsections and so-on\n",
        "\n",
        "* \\> used for indent\n",
        "> One indent\n",
        ">> Two indents"
      ]
    },
    {
      "metadata": {
        "id": "VoBCijhFlSxL",
        "colab_type": "text"
      },
      "cell_type": "markdown",
      "source": [
        "##URLs and Images\n",
        "\n",
        "* Either a direct url or a hyperlink can be added.\n",
        "> Direct URL: https://www.utexas.edu/\n",
        "> Hyperlinks using \\[text\\](link), e.g. [UT Austin](https://www.utexas.edu/)\n",
        "\n",
        "\n",
        "\n",
        ">![UT's logo](https://www.medpace.com/wp-content/uploads/2017/01/UT-Austin.jpg)"
      ]
    },
    {
      "metadata": {
        "id": "z_s4eut26PkV",
        "colab_type": "text"
      },
      "cell_type": "markdown",
      "source": [
        "##Tables & Rulers\n",
        "\n",
        "###Table:\n",
        "\n",
        "1. Tables are documented in a pre-determined format\n",
        "2. Useful to explain comparisons, analyses or results\n",
        "\n",
        "Sample table:\n",
        "\n",
        ">Data Source Name | File Format | Common Column\n",
        ">--- | --- | ---\n",
        "> IRS | CSV | EID\n",
        ">NTEE | JSON | EID\n",
        "\n",
        "\n",
        "###Horizontal rule:\n",
        "---\n",
        "    Used for separation of document/code cell\n",
        "    Implemented with three dashes (\\-\\-\\-):\n",
        "\n",
        "---"
      ]
    },
    {
      "metadata": {
        "id": "yefjlnH-CBK_",
        "colab_type": "text"
      },
      "cell_type": "markdown",
      "source": [
        "##Equations\n",
        "\n",
        "[LaTex mathematics for equations](https://en.wikibooks.org/wiki/LaTeX/Mathematics) is the format used by Colab to write equations in the markdown cell\n",
        "\n",
        "Examples of basic equations:\n",
        "\n",
        ">$y=x^2$\n",
        "\n",
        ">$e^{i\\pi} + 1 = 0$\n",
        "\n",
        ">$A_{m,n} =\n",
        " \\begin{pmatrix}\n",
        "  a_{1,1} & a_{1,2} & \\cdots & a_{1,n} \\\\\n",
        "  a_{2,1} & a_{2,2} & \\cdots & a_{2,n} \\\\\n",
        "  \\vdots  & \\vdots  & \\ddots & \\vdots  \\\\\n",
        "  a_{m,1} & a_{m,2} & \\cdots & a_{m,n}\n",
        " \\end{pmatrix}$"
      ]
    },
    {
      "metadata": {
        "id": "xd4si8gGmqwu",
        "colab_type": "text"
      },
      "cell_type": "markdown",
      "source": [
        "Sources:\n",
        "\n",
        "[Markdown](https://colab.research.google.com/notebooks/markdown_guide.ipynb#scrollTo=tPqPXAKKkzaM)\n",
        "\n",
        "[LaTex mathematics for equations](https://en.wikibooks.org/wiki/LaTeX/Mathematics)\n"
      ]
    }
  ]
}