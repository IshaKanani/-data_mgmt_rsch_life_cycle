{
  "nbformat": 4,
  "nbformat_minor": 0,
  "metadata": {
    "colab": {
      "name": "Week 2_Data management and research lifecycle.ipynb",
      "version": "0.3.2",
      "provenance": [],
      "collapsed_sections": [],
      "toc_visible": true,
      "include_colab_link": true
    },
    "kernelspec": {
      "name": "python3",
      "display_name": "Python 3"
    }
  },
  "cells": [
    {
      "cell_type": "markdown",
      "metadata": {
        "id": "view-in-github",
        "colab_type": "text"
      },
      "source": [
        "<a href=\"https://colab.research.google.com/github/IshaKanani/-data_mgmt_rsch_life_cycle/blob/master/Week_2_Data_management_and_research_lifecycle.ipynb\" target=\"_parent\"><img src=\"https://colab.research.google.com/assets/colab-badge.svg\" alt=\"Open In Colab\"/></a>"
      ]
    },
    {
      "metadata": {
        "id": "aX52r4CEqhj2",
        "colab_type": "text"
      },
      "cell_type": "markdown",
      "source": [
        "# Introduction\n",
        "\n",
        "** Objectives of this lab session. **\n",
        "* Complete week 1\n",
        "* Learn core data types in Python\n",
        "* Introduction to pandas, use pandas dataframe to import data from file formats like .csv, .excel, .json. Specific functions include:\n",
        "\n",
        ">File Type | Read Functions | Write Functions\n",
        ">--- | --- | ----\n",
        ">CSV | [`pandas.read_csv`](https://pandas.pydata.org/pandas-docs/stable/reference/api/pandas.read_csv.html) | [pandas.to_csv](https://pandas.pydata.org/pandas-docs/stable/reference/api/pandas.DataFrame.to_csv.html)\n",
        ">JSON |  [`pandas.read_json`](https://pandas.pydata.org/pandas-docs/stable/reference/api/pandas.read_json.html) | [pandas.to_json](https://pandas.pydata.org/pandas-docs/stable/reference/api/pandas.DataFrame.to_json.html)\n",
        "> Python Pickle | [`pandas.read_pickle`](https://pandas.pydata.org/pandas-docs/stable/reference/api/pandas.read_pickle.html) | [pandas.to_pickle](https://pandas.pydata.org/pandas-docs/stable/reference/api/pandas.DataFrame.to_pickle.html)\n",
        ">MS Excel | [`pandas.read_excel`](https://pandas.pydata.org/pandas-docs/stable/reference/api/pandas.read_excel.html) | [pandas.to_excel](https://pandas.pydata.org/pandas-docs/stable/reference/api/pandas.DataFrame.to_excel.html)\n",
        " \n",
        "* Write data from Pandas dataframe to different file formats\n",
        "* Use compressed files and learn objectives of the same\n",
        "\n",
        "**By the end of this session, a student should be able to complete the following**\n",
        "\n",
        "* Generate new Pandas string and dataframe objects\n",
        "* Read and write from different file formats like csv, json, and pickle.\n",
        "* Undersatnd the pros of compression and implement them"
      ]
    },
    {
      "metadata": {
        "id": "G-bdAABV-V5q",
        "colab_type": "text"
      },
      "cell_type": "markdown",
      "source": [
        "## Core data types in Python\n",
        "\n",
        "* Numbers\n",
        "* Strings\n",
        "\n",
        "## Core data structures\n",
        "* List\n",
        "* Dictonaries\n",
        "* Tuples\n",
        "* Sets\n",
        "\n",
        "Function used in the code cell below:\n",
        "* [type()](https://www.geeksforgeeks.org/python-type-function/) : The function returns the data type of the variable.\n",
        "\n",
        "Reference:\n",
        "* [_Introduction to Python: Data types_ by Kranthi Varala](https://www.purdue.edu/hla/sites/varalalab/wp-content/uploads/sites/20/2018/03/Lecture_8.pdf)"
      ]
    },
    {
      "metadata": {
        "id": "ntUF7gIoUr9T",
        "colab_type": "code",
        "outputId": "246d2382-1043-40bb-b4de-4e9949754fcf",
        "colab": {
          "base_uri": "https://localhost:8080/",
          "height": 102
        }
      },
      "cell_type": "code",
      "source": [
        "A = 5\n",
        "B = 5.12\n",
        "D = \"UT Austin\"\n",
        "E = {1, 2, 3, 4}\n",
        "C = [1, 2, 3, 4]\n",
        "\n",
        "print(\"A: \", A, \", type(A): \",type(A))\n",
        "print(\"B: \", B, \", type(B): \",type(B))\n",
        "print(\"C: \", C, \", type(C): \",type(C))\n",
        "print(\"D: \", D, \", type(D): \",type(D))\n",
        "print(\"E: \", E, \", type(E): \",type(E))"
      ],
      "execution_count": 0,
      "outputs": [
        {
          "output_type": "stream",
          "text": [
            "A:  5 , type(A):  <class 'int'>\n",
            "B:  5.12 , type(B):  <class 'float'>\n",
            "C:  [1, 2, 3, 4] , type(C):  <class 'list'>\n",
            "D:  UT Austin , type(D):  <class 'str'>\n",
            "E:  {1, 2, 3, 4} , type(E):  <class 'set'>\n"
          ],
          "name": "stdout"
        }
      ]
    },
    {
      "metadata": {
        "id": "4rD-0vTiy7SD",
        "colab_type": "text"
      },
      "cell_type": "markdown",
      "source": [
        "## Pandas \n",
        "\n",
        "* Package providing **flexible** data structures\n",
        "* Work with data - Structured or unstructured\n",
        "* Perform different functions on data structures using **queries** or in-built functions\n",
        "\n"
      ]
    },
    {
      "metadata": {
        "id": "vqHnAgdz67SM",
        "colab_type": "text"
      },
      "cell_type": "markdown",
      "source": [
        "## Primary Data structure Types \n",
        "\n",
        "1. **Series** -  One dimentional data structure, list like\n",
        "     * Examples of 1D structures: \n",
        "        \n",
        "\n",
        "2. **Data Frame** - Two dimentional data structure, table like\n",
        "\n",
        "      * rows as observatios, columns as attributes\n",
        "      * Examples of 1D structures: \n",
        "      \n",
        " Functions used:\n",
        " 1. [pd.Series](https://www.tutorialspoint.com/python_pandas/python_pandas_series.htm): Creates a Series data sctructure\n",
        " 2. [pd.DataFrame](https://www.tutorialspoint.com/python_pandas/python_pandas_dataframe.htm): Creates a DataFrame data structure"
      ]
    },
    {
      "metadata": {
        "id": "to25W51J0miY",
        "colab_type": "code",
        "outputId": "47f6e4a5-fbc2-41cd-d0c1-bd19bd57e89e",
        "colab": {
          "base_uri": "https://localhost:8080/",
          "height": 454
        }
      },
      "cell_type": "code",
      "source": [
        "import pandas as pd\n",
        "\n",
        "A = pd.Series([\"Data\", \"MgMt\", \"Rsch\", \"LifeCycle\"])\n",
        "print(A)\n",
        "\n",
        "A.index = [\"a\", \"b\", \"c\", \"d\"]\n",
        "print(\"\\n\")\n",
        "print(A)\n",
        "\n",
        "B = pd.Series([\"Jan\", \"Feb\", \"March\"], index=[\"J\", \"F\", \"M\"])\n",
        "print(\"\\n\")\n",
        "print(B)\n",
        "\n",
        "num = {\"a\": 10, \"b\": 20, \"c\": 30, \"d\": 40}\n",
        "C = pd.Series(num)\n",
        "print(\"\\n\")\n",
        "print(C)"
      ],
      "execution_count": 0,
      "outputs": [
        {
          "output_type": "stream",
          "text": [
            "0         Data\n",
            "1         MgMt\n",
            "2         Rsch\n",
            "3    LifeCycle\n",
            "dtype: object\n",
            "\n",
            "\n",
            "a         Data\n",
            "b         MgMt\n",
            "c         Rsch\n",
            "d    LifeCycle\n",
            "dtype: object\n",
            "\n",
            "\n",
            "J      Jan\n",
            "F      Feb\n",
            "M    March\n",
            "dtype: object\n",
            "\n",
            "\n",
            "a    10\n",
            "b    20\n",
            "c    30\n",
            "d    40\n",
            "dtype: int64\n"
          ],
          "name": "stdout"
        }
      ]
    },
    {
      "metadata": {
        "id": "rYYXE_gAF1Wf",
        "colab_type": "code",
        "outputId": "b61b5e26-df4f-4c02-c95e-ec8a65ab6f7d",
        "colab": {
          "base_uri": "https://localhost:8080/",
          "height": 142
        }
      },
      "cell_type": "code",
      "source": [
        "people = pd.DataFrame([[\"Emily\",\"Present\"], [\"Chinelo\",\"Present\"], [\"Rokcy\", \"Absent\"]], columns=[\"Name\", \"Week1\"])\n",
        "\n",
        "people"
      ],
      "execution_count": 0,
      "outputs": [
        {
          "output_type": "execute_result",
          "data": {
            "text/html": [
              "<div>\n",
              "<style scoped>\n",
              "    .dataframe tbody tr th:only-of-type {\n",
              "        vertical-align: middle;\n",
              "    }\n",
              "\n",
              "    .dataframe tbody tr th {\n",
              "        vertical-align: top;\n",
              "    }\n",
              "\n",
              "    .dataframe thead th {\n",
              "        text-align: right;\n",
              "    }\n",
              "</style>\n",
              "<table border=\"1\" class=\"dataframe\">\n",
              "  <thead>\n",
              "    <tr style=\"text-align: right;\">\n",
              "      <th></th>\n",
              "      <th>Name</th>\n",
              "      <th>Week1</th>\n",
              "    </tr>\n",
              "  </thead>\n",
              "  <tbody>\n",
              "    <tr>\n",
              "      <th>0</th>\n",
              "      <td>Emily</td>\n",
              "      <td>Present</td>\n",
              "    </tr>\n",
              "    <tr>\n",
              "      <th>1</th>\n",
              "      <td>Chinelo</td>\n",
              "      <td>Present</td>\n",
              "    </tr>\n",
              "    <tr>\n",
              "      <th>2</th>\n",
              "      <td>Rokcy</td>\n",
              "      <td>Absent</td>\n",
              "    </tr>\n",
              "  </tbody>\n",
              "</table>\n",
              "</div>"
            ],
            "text/plain": [
              "      Name    Week1\n",
              "0    Emily  Present\n",
              "1  Chinelo  Present\n",
              "2    Rokcy   Absent"
            ]
          },
          "metadata": {
            "tags": []
          },
          "execution_count": 12
        }
      ]
    },
    {
      "metadata": {
        "id": "mfslmS3oICQp",
        "colab_type": "text"
      },
      "cell_type": "markdown",
      "source": [
        "#File Types\n",
        "\n",
        "**Text Files**\n",
        "* CSV: Comma Separated Values\n",
        "* TSV: Tab Separated Values\n",
        "    1.  Advantage of using TSV: More clarity distinguishing separator and text\n",
        "* JSON\n",
        "\n",
        "** Binary Files**\n",
        "* Python Pickle\n",
        "* Excel"
      ]
    },
    {
      "metadata": {
        "id": "PhVpG1lKHXxX",
        "colab_type": "text"
      },
      "cell_type": "markdown",
      "source": [
        "##I/O files\n",
        "\n",
        "* Pandas lets you read from **[14 different file formats](https://pandas.pydata.org/pandas-docs/stable/user_guide/io.html)**, and one can write the data from pandas dataframe to the same 14 file formats as well.\n",
        "* Once read from any file, the data is put into the DataFrame format, which makes it easier to perform different operations on them provided by Pandas.\n",
        "* While writing to different file formats, many formats can also be written in the compressed extension format, hence reducing the disk storage occupied by the file.\n",
        "\n"
      ]
    },
    {
      "metadata": {
        "id": "sTWaiThSKS2e",
        "colab_type": "text"
      },
      "cell_type": "markdown",
      "source": [
        "##CSV files\n",
        "\n",
        "* .csv (Comma separated Values) is one of the most common file formats used while transeferring data online.\n",
        "* The code below demonstrates reading from a .csv file, and writing a part of it to a new .csv file.\n",
        "\n",
        "Functions Used:\n",
        "*  [DataFrame.head(n)](https://pandas.pydata.org/pandas-docs/stable/reference/api/pandas.DataFrame.head.html): Provides the first n records of the DataFrame. If n is not provided, by default it shows first 5 rows."
      ]
    },
    {
      "metadata": {
        "id": "34rW2DYmIs-K",
        "colab_type": "code",
        "outputId": "28b109dc-9dce-4f48-9621-22aac706811f",
        "colab": {
          "base_uri": "https://localhost:8080/",
          "height": 904
        }
      },
      "cell_type": "code",
      "source": [
        "import pandas as pd\n",
        "nccs_2015 = pd.read_csv(\"https://nccs-data.urban.org/data/core/2015/nccs.core2015pc.csv\")\n",
        "\n",
        "print(nccs_2015.head(10))\n",
        "\n",
        "sample = nccs_2015.head()\n",
        "\n",
        "sample.to_csv(\"sample_data/nccs_2015.csv\")"
      ],
      "execution_count": 0,
      "outputs": [
        {
          "output_type": "stream",
          "text": [
            "/usr/local/lib/python3.6/dist-packages/IPython/core/interactiveshell.py:2718: DtypeWarning: Columns (1,2,3,4,6,9,12,14,20,22,29,30,31,69,73,87,95,102,120,141) have mixed types. Specify dtype option on import or set low_memory=False.\n",
            "  interactivity=interactivity, compiler=compiler, result=result)\n"
          ],
          "name": "stderr"
        },
        {
          "output_type": "stream",
          "text": [
            "        EIN ACCPER ACTIV1 ACTIV2 ACTIV3                    ADDRESS AFCD  \\\n",
            "0  10015091     12      0      0      0                  PO BOX 13    3   \n",
            "1  10017496     12    149      0      0                 PO BOX 534    3   \n",
            "2  10130427      6    150      0      0     29 LOWELL STREET BOX A    3   \n",
            "3  10132610     12    900    901      0              167 ROGERS RD    3   \n",
            "4  10133442     12    995     65      0                 PO BOX 193    3   \n",
            "5  10145133     12     59    904     62         499 BLACK POINT RD    3   \n",
            "6  10153128      8     30      0      0                 PO BOX 239    3   \n",
            "7  10153960      9    150    179      0                35 MILES ST    3   \n",
            "8  10177170      9    150      0      0  118 NORTHPORT AVE BOX 287    3   \n",
            "9  10179500      9    150      0      0                 PO BOX 626    3   \n",
            "\n",
            "       ASS_BOY      ASS_EOY       BLOCK   ...        TOTREV2      TOTREVP  \\\n",
            "0      72859.0      57145.0  3.4027e+14   ...       109998.0     121129.0   \n",
            "1     236791.0     235622.0  2.3031e+14   ...       110522.0     116010.0   \n",
            "2   55845412.0   57577945.0  2.3001e+14   ...     52152619.0   54444259.0   \n",
            "3          NaN     697033.0  2.3031e+14   ...        35271.0          NaN   \n",
            "4     908993.0     824589.0  2.3018e+14   ...       393145.0     367180.0   \n",
            "5     879487.0     894096.0  2.3005e+14   ...       268849.0     361815.0   \n",
            "6     120105.0     131405.0  2.3018e+14   ...       260375.0     121476.0   \n",
            "7   72203797.0   73562345.0  2.3016e+14   ...     77456603.0   71234249.0   \n",
            "8  121584679.0  131382834.0  2.3027e+14   ...     88135671.0   77314498.0   \n",
            "9  277082693.0  264543529.0  2.3031e+14   ...    256889291.0  232222932.0   \n",
            "\n",
            "  TOTSUPP509 TXEXMPTBNDSPROCEEDS TXREVNUELEVIED170  TXREVNUELEVIED509  \\\n",
            "0   481126.0                 0.0               0.0                0.0   \n",
            "1   549713.0                 0.0               0.0                0.0   \n",
            "2        0.0                 0.0               0.0                0.0   \n",
            "3     8780.0                 0.0               0.0                0.0   \n",
            "4  3575918.0                 0.0               0.0                0.0   \n",
            "5  1606112.0                 0.0               0.0                0.0   \n",
            "6  1101434.0                 0.0               0.0                0.0   \n",
            "7        0.0                 0.0               0.0                0.0   \n",
            "8        0.0                 0.0               0.0                0.0   \n",
            "9        0.0                 0.0               0.0                0.0   \n",
            "\n",
            "   UNSECUREDNOTESEND  VALIDATION_STATE         ZIP    ZIP5  \n",
            "0                0.0               0.0  07927-0013  7927.0  \n",
            "1                0.0               0.0  03911-0534  3911.0  \n",
            "2                0.0               0.0  04240-7639  4240.0  \n",
            "3                0.0               0.0  03904-1449  3904.0  \n",
            "4                0.0               0.0  04268-0193  4268.0  \n",
            "5                0.0               0.0  04074-8616  4074.0  \n",
            "6                0.0               0.0  04276-0239  4276.0  \n",
            "7                0.0               0.0  04543-4047  4543.0  \n",
            "8           214422.0               0.0  04915-6009  4915.0  \n",
            "9                0.0               0.0  04005-0626  4005.0  \n",
            "\n",
            "[10 rows x 154 columns]\n"
          ],
          "name": "stdout"
        }
      ]
    },
    {
      "metadata": {
        "id": "W7Ef1zX-DPVL",
        "colab_type": "text"
      },
      "cell_type": "markdown",
      "source": [
        "##JSON Files\n",
        "\n",
        "* Reading a .json file: https://s3.amazonaws.com/irs-form-990/index_2011.json\n",
        "* Printing dataframe to observe the retrieved data\n",
        "* Writing to a .json file"
      ]
    },
    {
      "metadata": {
        "id": "5hkkUMy4DbXH",
        "colab_type": "code",
        "outputId": "4459292a-33c0-4241-f69c-867dd5bcf5c1",
        "colab": {
          "base_uri": "https://localhost:8080/",
          "height": 119
        }
      },
      "cell_type": "code",
      "source": [
        "import pandas as pd\n",
        "\n",
        "json_df = pd.read_json(\"https://s3.amazonaws.com/irs-form-990/index_2011.json\")\n",
        "\n",
        "print(json_df.head())\n",
        "\n",
        "json_df.head().to_json(\"sample_data/json_df.json\")"
      ],
      "execution_count": 0,
      "outputs": [
        {
          "output_type": "stream",
          "text": [
            "                                         Filings2011\n",
            "0  {'EIN': '591971002', 'TaxPeriod': '201009', 'D...\n",
            "1  {'EIN': '251713602', 'TaxPeriod': '201106', 'D...\n",
            "2  {'EIN': '232705170', 'TaxPeriod': '201012', 'D...\n",
            "3  {'EIN': '581805618', 'TaxPeriod': '201106', 'D...\n",
            "4  {'EIN': '581876019', 'TaxPeriod': '201106', 'D...\n"
          ],
          "name": "stdout"
        }
      ]
    },
    {
      "metadata": {
        "id": "qU3IWmYxKMh2",
        "colab_type": "text"
      },
      "cell_type": "markdown",
      "source": [
        "##Pickle files\n",
        "\n",
        "* Pickle files use .pkl extension, it can only be read and modified through Python.\n",
        "* Not visible for any kind of analysis unless presented in Python console.\n",
        "\n"
      ]
    },
    {
      "metadata": {
        "id": "8zk8JtFSK3eQ",
        "colab_type": "code",
        "outputId": "6a3a2f54-a39f-4b2c-d94b-9030ed088df5",
        "colab": {
          "base_uri": "https://localhost:8080/",
          "height": 476
        }
      },
      "cell_type": "code",
      "source": [
        "import pandas as pd\n",
        "\n",
        "# The following line starting with \"!\" is Linux command which downloads dataset from remote GitHub repository.\n",
        "!cd sample_data/; wget https://github.com/ma-ji/data_mgmt/raw/master/datasets/MasterData_2015.pkl.gz\n",
        "\n",
        "# The following two lines are Python codes.\n",
        "pkl_sample = pd.read_pickle(\"sample_data/MasterData_2015.pkl.gz\")\n",
        "pkl_sample.head()\n",
        "\n",
        "# You can see notebook is very powerful, you don't have to run a seperate commandline terminal."
      ],
      "execution_count": 0,
      "outputs": [
        {
          "output_type": "stream",
          "text": [
            "--2019-02-09 04:54:00--  https://github.com/ma-ji/data_mgmt/raw/master/datasets/MasterData_2015.pkl.gz\n",
            "Resolving github.com (github.com)... 192.30.255.113, 192.30.255.112\n",
            "Connecting to github.com (github.com)|192.30.255.113|:443... connected.\n",
            "HTTP request sent, awaiting response... 302 Found\n",
            "Location: https://raw.githubusercontent.com/ma-ji/data_mgmt/master/datasets/MasterData_2015.pkl.gz [following]\n",
            "--2019-02-09 04:54:01--  https://raw.githubusercontent.com/ma-ji/data_mgmt/master/datasets/MasterData_2015.pkl.gz\n",
            "Resolving raw.githubusercontent.com (raw.githubusercontent.com)... 151.101.0.133, 151.101.64.133, 151.101.128.133, ...\n",
            "Connecting to raw.githubusercontent.com (raw.githubusercontent.com)|151.101.0.133|:443... connected.\n",
            "HTTP request sent, awaiting response... 200 OK\n",
            "Length: 13025331 (12M) [application/octet-stream]\n",
            "Saving to: ‘MasterData_2015.pkl.gz.2’\n",
            "\n",
            "MasterData_2015.pkl 100%[===================>]  12.42M  --.-KB/s    in 0.09s   \n",
            "\n",
            "2019-02-09 04:54:01 (139 MB/s) - ‘MasterData_2015.pkl.gz.2’ saved [13025331/13025331]\n",
            "\n"
          ],
          "name": "stdout"
        },
        {
          "output_type": "execute_result",
          "data": {
            "text/html": [
              "<div>\n",
              "<style scoped>\n",
              "    .dataframe tbody tr th:only-of-type {\n",
              "        vertical-align: middle;\n",
              "    }\n",
              "\n",
              "    .dataframe tbody tr th {\n",
              "        vertical-align: top;\n",
              "    }\n",
              "\n",
              "    .dataframe thead th {\n",
              "        text-align: right;\n",
              "    }\n",
              "</style>\n",
              "<table border=\"1\" class=\"dataframe\">\n",
              "  <thead>\n",
              "    <tr style=\"text-align: right;\">\n",
              "      <th></th>\n",
              "      <th>EIN</th>\n",
              "      <th>NTEE</th>\n",
              "      <th>IRS_URL</th>\n",
              "      <th>TEXT</th>\n",
              "      <th>TEXTTYPE</th>\n",
              "      <th>YEAR</th>\n",
              "      <th>NTEECC</th>\n",
              "    </tr>\n",
              "  </thead>\n",
              "  <tbody>\n",
              "    <tr>\n",
              "      <th>0</th>\n",
              "      <td>261531747</td>\n",
              "      <td>F</td>\n",
              "      <td>https://s3.amazonaws.com/irs-form-990/20152090...</td>\n",
              "      <td>NaN</td>\n",
              "      <td>NaN</td>\n",
              "      <td>2015</td>\n",
              "      <td>F60</td>\n",
              "    </tr>\n",
              "    <tr>\n",
              "      <th>1</th>\n",
              "      <td>261532321</td>\n",
              "      <td>E</td>\n",
              "      <td>https://s3.amazonaws.com/irs-form-990/20150043...</td>\n",
              "      <td>CLAIBORNE HEALTHCARE FOUNDATION PROVIDES AN AV...</td>\n",
              "      <td>activityormissiondesc</td>\n",
              "      <td>2015</td>\n",
              "      <td>E11</td>\n",
              "    </tr>\n",
              "    <tr>\n",
              "      <th>2</th>\n",
              "      <td>261533139</td>\n",
              "      <td>T</td>\n",
              "      <td>https://s3.amazonaws.com/irs-form-990/20152056...</td>\n",
              "      <td>RENOVATION OF A COMMUNITY BUILDING AND THE IMP...</td>\n",
              "      <td>activityormissiondesc</td>\n",
              "      <td>2015</td>\n",
              "      <td>T31</td>\n",
              "    </tr>\n",
              "    <tr>\n",
              "      <th>3</th>\n",
              "      <td>261534877</td>\n",
              "      <td>X</td>\n",
              "      <td>https://s3.amazonaws.com/irs-form-990/20151236...</td>\n",
              "      <td>NaN</td>\n",
              "      <td>NaN</td>\n",
              "      <td>2015</td>\n",
              "      <td>X20</td>\n",
              "    </tr>\n",
              "    <tr>\n",
              "      <th>4</th>\n",
              "      <td>261535342</td>\n",
              "      <td>E</td>\n",
              "      <td>https://s3.amazonaws.com/irs-form-990/20154226...</td>\n",
              "      <td>NaN</td>\n",
              "      <td>NaN</td>\n",
              "      <td>2015</td>\n",
              "      <td>E86</td>\n",
              "    </tr>\n",
              "  </tbody>\n",
              "</table>\n",
              "</div>"
            ],
            "text/plain": [
              "         EIN NTEE                                            IRS_URL  \\\n",
              "0  261531747    F  https://s3.amazonaws.com/irs-form-990/20152090...   \n",
              "1  261532321    E  https://s3.amazonaws.com/irs-form-990/20150043...   \n",
              "2  261533139    T  https://s3.amazonaws.com/irs-form-990/20152056...   \n",
              "3  261534877    X  https://s3.amazonaws.com/irs-form-990/20151236...   \n",
              "4  261535342    E  https://s3.amazonaws.com/irs-form-990/20154226...   \n",
              "\n",
              "                                                TEXT               TEXTTYPE  \\\n",
              "0                                                NaN                    NaN   \n",
              "1  CLAIBORNE HEALTHCARE FOUNDATION PROVIDES AN AV...  activityormissiondesc   \n",
              "2  RENOVATION OF A COMMUNITY BUILDING AND THE IMP...  activityormissiondesc   \n",
              "3                                                NaN                    NaN   \n",
              "4                                                NaN                    NaN   \n",
              "\n",
              "   YEAR NTEECC  \n",
              "0  2015    F60  \n",
              "1  2015    E11  \n",
              "2  2015    T31  \n",
              "3  2015    X20  \n",
              "4  2015    E86  "
            ]
          },
          "metadata": {
            "tags": []
          },
          "execution_count": 9
        }
      ]
    },
    {
      "metadata": {
        "id": "-UCL2oZsIuAb",
        "colab_type": "text"
      },
      "cell_type": "markdown",
      "source": [
        "##Excel Files\n",
        "\n",
        "* Binary file type unless opened using a tool\n",
        "* Tool: MS Excel\n",
        "* read_exel & to_excel to read and write files"
      ]
    },
    {
      "metadata": {
        "id": "w7GqT-oJLc2O",
        "colab_type": "code",
        "outputId": "93b13de2-01fa-46ca-cd38-a49b583ec76f",
        "colab": {
          "base_uri": "https://localhost:8080/",
          "height": 530
        }
      },
      "cell_type": "code",
      "source": [
        "import pandas as pd\n",
        "# You can directly read an Excel file on Internet, i.e., the file does not have to be downloaded.\n",
        "sample = pd.read_excel(\"http://www.esi.utexas.edu/files/Capstone-Topic-and-Mentor-Database.xlsx\")\n",
        "sample.sample(5)"
      ],
      "execution_count": 0,
      "outputs": [
        {
          "output_type": "execute_result",
          "data": {
            "text/html": [
              "<div>\n",
              "<style scoped>\n",
              "    .dataframe tbody tr th:only-of-type {\n",
              "        vertical-align: middle;\n",
              "    }\n",
              "\n",
              "    .dataframe tbody tr th {\n",
              "        vertical-align: top;\n",
              "    }\n",
              "\n",
              "    .dataframe thead th {\n",
              "        text-align: right;\n",
              "    }\n",
              "</style>\n",
              "<table border=\"1\" class=\"dataframe\">\n",
              "  <thead>\n",
              "    <tr style=\"text-align: right;\">\n",
              "      <th></th>\n",
              "      <th>Research Title</th>\n",
              "      <th>Student</th>\n",
              "      <th>Student Track</th>\n",
              "      <th>Graduating Class</th>\n",
              "      <th>Research Mentor</th>\n",
              "      <th>Mentor Department/Organization</th>\n",
              "      <th>Mentor Website</th>\n",
              "      <th>Mentor Research Keywords</th>\n",
              "      <th>Mentor Email</th>\n",
              "    </tr>\n",
              "  </thead>\n",
              "  <tbody>\n",
              "    <tr>\n",
              "      <th>56</th>\n",
              "      <td>Life History of Pseudopityophthorus species at...</td>\n",
              "      <td>Heidi Harper</td>\n",
              "      <td>Biology</td>\n",
              "      <td>2014.0</td>\n",
              "      <td>John Abbott</td>\n",
              "      <td>Department of Integrative Biology, College of ...</td>\n",
              "      <td>No longer at UT Austin</td>\n",
              "      <td>NaN</td>\n",
              "      <td>jcabbott@utexas.edu</td>\n",
              "    </tr>\n",
              "    <tr>\n",
              "      <th>44</th>\n",
              "      <td>Health Disparities and the Environment</td>\n",
              "      <td>Alice Jean</td>\n",
              "      <td>Biology</td>\n",
              "      <td>2015.0</td>\n",
              "      <td>David Eaton</td>\n",
              "      <td>Lyndon B Johnson School of Public Affairs</td>\n",
              "      <td>https://lbj.utexas.edu/directory/faculty/david...</td>\n",
              "      <td>U.S.-Mexico environmental cooperation; air pol...</td>\n",
              "      <td>eaton@mail.utexas.edu</td>\n",
              "    </tr>\n",
              "    <tr>\n",
              "      <th>43</th>\n",
              "      <td>Groundwater, Surface Water Interactions Along ...</td>\n",
              "      <td>Kendall Yates</td>\n",
              "      <td>Geology</td>\n",
              "      <td>NaN</td>\n",
              "      <td>Marcus Gary</td>\n",
              "      <td>Department of Geological Sciences, Jackson Sch...</td>\n",
              "      <td>https://www.jsg.utexas.edu/researcher/marcus_gary</td>\n",
              "      <td>karst hydrogeology; natural resource managemen...</td>\n",
              "      <td>mgary@edwardsaquifer.org</td>\n",
              "    </tr>\n",
              "    <tr>\n",
              "      <th>42</th>\n",
              "      <td>Green Roof Thermal Responses</td>\n",
              "      <td>Ryan Soutter</td>\n",
              "      <td>Geology</td>\n",
              "      <td>2014.0</td>\n",
              "      <td>Kevan Moffett</td>\n",
              "      <td>Department of Geological Sciences, Jackson Sch...</td>\n",
              "      <td>https://www.jsg.utexas.edu/researcher/kevan_mo...</td>\n",
              "      <td>hydrologic dynamics; ecohydrology; landscape d...</td>\n",
              "      <td>kbmofett@jsg.utexas.edu</td>\n",
              "    </tr>\n",
              "    <tr>\n",
              "      <th>65</th>\n",
              "      <td>Network architecture underlying protein function</td>\n",
              "      <td>Michael Schnebly</td>\n",
              "      <td>Biology</td>\n",
              "      <td>2015.0</td>\n",
              "      <td>Norma Fowler</td>\n",
              "      <td>Department of Integrative Biology, College of ...</td>\n",
              "      <td>http://www.sbs.utexas.edu/fowler</td>\n",
              "      <td>plant population ecology; plant community ecol...</td>\n",
              "      <td>nfowler@austin.utexas.edu</td>\n",
              "    </tr>\n",
              "  </tbody>\n",
              "</table>\n",
              "</div>"
            ],
            "text/plain": [
              "                                       Research Title           Student  \\\n",
              "56  Life History of Pseudopityophthorus species at...      Heidi Harper   \n",
              "44             Health Disparities and the Environment        Alice Jean   \n",
              "43  Groundwater, Surface Water Interactions Along ...     Kendall Yates   \n",
              "42                       Green Roof Thermal Responses      Ryan Soutter   \n",
              "65   Network architecture underlying protein function  Michael Schnebly   \n",
              "\n",
              "   Student Track  Graduating Class Research Mentor  \\\n",
              "56       Biology            2014.0     John Abbott   \n",
              "44       Biology            2015.0     David Eaton   \n",
              "43       Geology               NaN     Marcus Gary   \n",
              "42       Geology            2014.0   Kevan Moffett   \n",
              "65       Biology            2015.0    Norma Fowler   \n",
              "\n",
              "                       Mentor Department/Organization  \\\n",
              "56  Department of Integrative Biology, College of ...   \n",
              "44          Lyndon B Johnson School of Public Affairs   \n",
              "43  Department of Geological Sciences, Jackson Sch...   \n",
              "42  Department of Geological Sciences, Jackson Sch...   \n",
              "65  Department of Integrative Biology, College of ...   \n",
              "\n",
              "                                       Mentor Website  \\\n",
              "56                             No longer at UT Austin   \n",
              "44  https://lbj.utexas.edu/directory/faculty/david...   \n",
              "43  https://www.jsg.utexas.edu/researcher/marcus_gary   \n",
              "42  https://www.jsg.utexas.edu/researcher/kevan_mo...   \n",
              "65                   http://www.sbs.utexas.edu/fowler   \n",
              "\n",
              "                             Mentor Research Keywords  \\\n",
              "56                                                NaN   \n",
              "44  U.S.-Mexico environmental cooperation; air pol...   \n",
              "43  karst hydrogeology; natural resource managemen...   \n",
              "42  hydrologic dynamics; ecohydrology; landscape d...   \n",
              "65  plant population ecology; plant community ecol...   \n",
              "\n",
              "                 Mentor Email  \n",
              "56        jcabbott@utexas.edu  \n",
              "44      eaton@mail.utexas.edu  \n",
              "43   mgary@edwardsaquifer.org  \n",
              "42    kbmofett@jsg.utexas.edu  \n",
              "65  nfowler@austin.utexas.edu  "
            ]
          },
          "metadata": {
            "tags": []
          },
          "execution_count": 16
        }
      ]
    },
    {
      "metadata": {
        "id": "T2Ra-SGTPSWA",
        "colab_type": "text"
      },
      "cell_type": "markdown",
      "source": [
        "##Compressed files\n",
        "\n",
        "* Compressed files are the zipped files that need to be unzipped for the view access.\n",
        "* Can be used for GitHub upload - file size not to exceed 50 MB (recommended) or 100 MB (required)."
      ]
    },
    {
      "metadata": {
        "id": "PGSFKaHWTxv5",
        "colab_type": "code",
        "colab": {}
      },
      "cell_type": "code",
      "source": [
        "sample.to_pickle(\"sample_data/california_housing_train_head.pkl.gz\")\n",
        "\n",
        "sample.to_csv(\"sample_data/california_housing_train_head.csv.gzip\")"
      ],
      "execution_count": 0,
      "outputs": []
    },
    {
      "metadata": {
        "id": "kl221HjWUdzA",
        "colab_type": "text"
      },
      "cell_type": "markdown",
      "source": [
        "#In-Class Practice:\n",
        "\n",
        "1. Find data file of any format mentioned above, online or through your device, read it in Python Pandas, students can use the following file for this assignment: https://s3.amazonaws.com/irs-form-990/index_2015.json\n",
        "2. Print the Dataframe\n",
        "3. Save the new dataframe to a file format \".pkl.gz\""
      ]
    },
    {
      "metadata": {
        "id": "FIvhXcxj8tNO",
        "colab_type": "text"
      },
      "cell_type": "markdown",
      "source": [
        "# Soucres\n",
        "\n",
        "[Why Pandas](http://pandas.pydata.org/pandas-docs/stable/)\n",
        "\n",
        "[Pandas Data Structures](https://pandas.pydata.org/pandas-docs/stable/dsintro.html)\n",
        "\n",
        "[Pandas I/O Tools](https://pandas.pydata.org/pandas-docs/stable/user_guide/io.html)\n",
        "\n"
      ]
    },
    {
      "metadata": {
        "id": "0V2f71AtVlp_",
        "colab_type": "code",
        "outputId": "1aa0f92d-403b-4842-c8fe-ca0944bcb824",
        "colab": {
          "base_uri": "https://localhost:8080/",
          "height": 85
        }
      },
      "cell_type": "code",
      "source": [
        "import pandas as pd\n",
        "\n",
        "people = pd.DataFrame([[\"Emily\",\"Present\"], [\"Chinelo\",\"Present\"], [\"Rokcy\", \"Absent\"]], columns=[\"Name\", \"Week1\"])\n",
        "print(people)"
      ],
      "execution_count": 0,
      "outputs": [
        {
          "output_type": "stream",
          "text": [
            "      Name    Week1\n",
            "0    Emily  Present\n",
            "1  Chinelo  Present\n",
            "2    Rokcy   Absent\n"
          ],
          "name": "stdout"
        }
      ]
    }
  ]
}