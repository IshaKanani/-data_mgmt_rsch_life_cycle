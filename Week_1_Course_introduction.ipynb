{
  "nbformat": 4,
  "nbformat_minor": 0,
  "metadata": {
    "colab": {
      "name": "Week 1_Course introduction.ipynb",
      "version": "0.3.2",
      "provenance": [],
      "collapsed_sections": [
        "1oEtHjqEIB13"
      ],
      "include_colab_link": true
    },
    "kernelspec": {
      "name": "python3",
      "display_name": "Python 3"
    },
    "accelerator": "GPU"
  },
  "cells": [
    {
      "cell_type": "markdown",
      "metadata": {
        "id": "view-in-github",
        "colab_type": "text"
      },
      "source": [
        "<a href=\"https://colab.research.google.com/github/IshaKanani/-data_mgmt_rsch_life_cycle/blob/master/Week_1_Course_introduction.ipynb\" target=\"_parent\"><img src=\"https://colab.research.google.com/assets/colab-badge.svg\" alt=\"Open In Colab\"/></a>"
      ]
    },
    {
      "metadata": {
        "id": "tVlAGlCBDpaM",
        "colab_type": "text"
      },
      "cell_type": "markdown",
      "source": [
        "# Introduction\n",
        "\n",
        "** Objectives of this lab session. **\n",
        "* Familiarize the colaboratory interface\n",
        "* Learn to save and share notebooks in Colab through drive\n",
        "* Get basic understanding of Python: Syntax, Import, Error Handling\n",
        "\n",
        "\n",
        "** By the end of this session, a student should be able to: **\n",
        "* Understand configurations of colaboratory\n",
        "* Create a notebook with text and code cells\n",
        "* Work on the same notebook with others\n",
        "* Run few Python operations"
      ]
    },
    {
      "metadata": {
        "id": "KsHImjiPDsCV",
        "colab_type": "text"
      },
      "cell_type": "markdown",
      "source": [
        "##Why Colaboratory\n",
        "\n",
        "\n",
        "\n",
        "*   No Python installation required\n",
        "*   Work in collaboration\n",
        "*   Connected to Drive as well as GitHub\n",
        "\n",
        "\n"
      ]
    },
    {
      "metadata": {
        "id": "z88uIt4fD2f_",
        "colab_type": "text"
      },
      "cell_type": "markdown",
      "source": [
        "##Interface\n",
        "\n",
        "\n",
        "\n",
        "*   Toolbar\n",
        "*   Notebook Settings\n",
        "*   Sharing\n"
      ]
    },
    {
      "metadata": {
        "id": "1oEtHjqEIB13",
        "colab_type": "text"
      },
      "cell_type": "markdown",
      "source": [
        "## Cells\n",
        "\n",
        "Types of cells\n",
        "\n",
        "*   **Text** Cell\n",
        "*   **Code** Cell\n",
        "\n",
        "\n",
        "Adding a Cell\n",
        "\n",
        "\n",
        "1.   **+ CODE** and **+ TEXT** buttons in the toolbar\n",
        "2.   **+ CODE** and **+ TEXT** buttons while hovering over a cell\n",
        "\n",
        "Moving a Cell\n",
        "\n",
        "1. **Cell Up** or **Cell Down** in the top toolbar\n",
        "\n",
        "Selecting Cells\n",
        "\n",
        "1. **Dragging** from ourside cells\n",
        "2. **Control** for non-adjacent cells\n",
        "3. **Shift** for group of cells\n",
        "\n",
        "\n",
        "\n",
        "\n",
        "\n"
      ]
    },
    {
      "metadata": {
        "id": "bBL7AbXsIuE4",
        "colab_type": "text"
      },
      "cell_type": "markdown",
      "source": [
        "###Text Cell\n",
        "\n",
        "This is a **text cell**. You can **double-click** to edit this cell. Text cells\n",
        "use markdown syntax. To learn more, see our [markdown\n",
        "guide](/notebooks/markdown_guide.ipynb).\n",
        "\n",
        "How to use it for math: You can also add math to text cells using [LaTeX](http://www.latex-project.org/)\n",
        "to be rendered by [MathJax](https://www.mathjax.org). Just place the statement\n",
        "within a pair of **\\$** signs. For example `$\\sqrt{3x-1}+(1+x)^2$` becomes\n",
        "$\\sqrt{3x-1}+(1+x)^2.$\n",
        "\n"
      ]
    },
    {
      "metadata": {
        "id": "b9E3c-0XKIUO",
        "colab_type": "text"
      },
      "cell_type": "markdown",
      "source": [
        "### Code Cell\n",
        "Below is a **code cell**. Once the toolbar button indicates CONNECTED, click in the cell to select it and execute the contents in the following ways:\n",
        "\n",
        "* Click the **Play icon** in the left gutter of the cell;\n",
        "* Type **Cmd/Ctrl+Enter** to run the cell in place;\n",
        "* Type **Shift+Enter** to run the cell and move focus to the next cell (adding one if none exists); or\n",
        "* Type **Alt+Enter** to run the cell and insert a new code cell immediately below it.\n",
        "\n",
        "There are additional options for running some or all cells in the **Runtime** menu."
      ]
    },
    {
      "metadata": {
        "id": "URHSDmT9J5Dm",
        "colab_type": "code",
        "outputId": "04a42fb6-20eb-4c17-cbc4-e64db61c8afd",
        "colab": {
          "base_uri": "https://localhost:8080/",
          "height": 34
        }
      },
      "cell_type": "code",
      "source": [
        "Course = \"Data Management and Research Life Cycle\"\n",
        "Course"
      ],
      "execution_count": 0,
      "outputs": [
        {
          "output_type": "execute_result",
          "data": {
            "text/plain": [
              "'Data Management and Research Life Cycle'"
            ]
          },
          "metadata": {
            "tags": []
          },
          "execution_count": 2
        }
      ]
    },
    {
      "metadata": {
        "id": "XVSSgsNHnH4F",
        "colab_type": "text"
      },
      "cell_type": "markdown",
      "source": [
        "# Python\n",
        "\n",
        "Colaboratory is built on top of [Jupyter Notebook](https://jupyter.org/). Below are some examples provided that demonstrates how to import and use a function."
      ]
    },
    {
      "metadata": {
        "id": "Tjafev_soK_8",
        "colab_type": "code",
        "outputId": "b17364f4-e76f-4491-b790-8b515f864b6d",
        "colab": {
          "base_uri": "https://localhost:8080/",
          "height": 52
        }
      },
      "cell_type": "code",
      "source": [
        "print(\"Hello World\")\n",
        "\n",
        "A = \"Jan\"\n",
        "\n",
        "print(\"Hello\", A, \"jiehr\")"
      ],
      "execution_count": 0,
      "outputs": [
        {
          "output_type": "stream",
          "text": [
            "Hello World\n",
            "Hello Jan jiehr\n"
          ],
          "name": "stdout"
        }
      ]
    },
    {
      "metadata": {
        "id": "Sg3nRbq4paMR",
        "colab_type": "text"
      },
      "cell_type": "markdown",
      "source": [
        "##Importing a Package\n",
        "\n",
        "Python uses the command **import** to import any package in the script. One can use **as** to give the other name to the original package while using it throughout the script."
      ]
    },
    {
      "metadata": {
        "id": "poZ-YR0pne99",
        "colab_type": "code",
        "outputId": "cd52c56e-7f03-4ecf-b2b5-404fe06187f2",
        "colab": {
          "base_uri": "https://localhost:8080/",
          "height": 34
        }
      },
      "cell_type": "code",
      "source": [
        "import numpy as np\n",
        "\n",
        "print(np.sqrt(1127))"
      ],
      "execution_count": 0,
      "outputs": [
        {
          "output_type": "stream",
          "text": [
            "33.57082066318904\n"
          ],
          "name": "stdout"
        }
      ]
    },
    {
      "metadata": {
        "id": "izkX_FlypDrs",
        "colab_type": "text"
      },
      "cell_type": "markdown",
      "source": [
        "##Exploring packages\n",
        "\n",
        "Use **Tab** to see different functions available in each package. For example, in the code cell below, use Tab after np., and it will give the list of possible functions to be used by the package."
      ]
    },
    {
      "metadata": {
        "id": "MEwmQUExpSfU",
        "colab_type": "code",
        "colab": {}
      },
      "cell_type": "code",
      "source": [
        "np."
      ],
      "execution_count": 0,
      "outputs": []
    },
    {
      "metadata": {
        "id": "Cdlu7m9sps7e",
        "colab_type": "text"
      },
      "cell_type": "markdown",
      "source": [
        "##Dealing with exceptions\n",
        "\n",
        "When a script has a part of wrong code and it is run, the exceptions are mentioned instead of the desired results. These exceptions are usually self-explanatory and one can modify the code accordingly. \n",
        "\n",
        "Colab also provides the option of searching an error on **Stack Overflow**"
      ]
    },
    {
      "metadata": {
        "id": "cv1btHudp6L6",
        "colab_type": "code",
        "outputId": "27350619-2aca-4664-ee98-f222a7073e25",
        "colab": {
          "base_uri": "https://localhost:8080/",
          "height": 198
        }
      },
      "cell_type": "code",
      "source": [
        "k = 0\n",
        "result = 100/k\n",
        "result"
      ],
      "execution_count": 0,
      "outputs": [
        {
          "output_type": "error",
          "ename": "ZeroDivisionError",
          "evalue": "ignored",
          "traceback": [
            "\u001b[0;31m---------------------------------------------------------------------------\u001b[0m",
            "\u001b[0;31mZeroDivisionError\u001b[0m                         Traceback (most recent call last)",
            "\u001b[0;32m<ipython-input-16-74ce906e2123>\u001b[0m in \u001b[0;36m<module>\u001b[0;34m()\u001b[0m\n\u001b[1;32m      1\u001b[0m \u001b[0mk\u001b[0m \u001b[0;34m=\u001b[0m \u001b[0;36m0\u001b[0m\u001b[0;34m\u001b[0m\u001b[0;34m\u001b[0m\u001b[0m\n\u001b[0;32m----> 2\u001b[0;31m \u001b[0mresult\u001b[0m \u001b[0;34m=\u001b[0m \u001b[0;36m100\u001b[0m\u001b[0;34m/\u001b[0m\u001b[0mk\u001b[0m\u001b[0;34m\u001b[0m\u001b[0;34m\u001b[0m\u001b[0m\n\u001b[0m\u001b[1;32m      3\u001b[0m \u001b[0mresult\u001b[0m\u001b[0;34m\u001b[0m\u001b[0;34m\u001b[0m\u001b[0m\n",
            "\u001b[0;31mZeroDivisionError\u001b[0m: division by zero"
          ]
        }
      ]
    },
    {
      "metadata": {
        "id": "7uDaB4SEwV7v",
        "colab_type": "text"
      },
      "cell_type": "markdown",
      "source": [
        "## If and For loops\n",
        "\n",
        "Conditional requirements are coded using **if** statements, and interations over the same function is carried out using **for** commands.\n",
        "\n",
        "The code below shows\n",
        "1. Using **if** to print only even numbers in the range of 1 to 10 \n",
        "2. If statement to be checked for the range using **for**"
      ]
    },
    {
      "metadata": {
        "id": "GSZHt7ldxOp5",
        "colab_type": "code",
        "outputId": "4b1ad6bc-7b3f-482c-c84c-bc4ede1f74be",
        "colab": {
          "base_uri": "https://localhost:8080/",
          "height": 221
        }
      },
      "cell_type": "code",
      "source": [
        "print(\"Understanding the range: 1 to 10\")\n",
        "for i in range(1,10):\n",
        "  if(i%2 == 0):\n",
        "    print(i)\n",
        "\n",
        "print(\"\\nReplacing with the range: 1 to 11\")\n",
        "for i in range(1,11):\n",
        "  if(i%2 == 0):\n",
        "    print(i)"
      ],
      "execution_count": 0,
      "outputs": [
        {
          "output_type": "stream",
          "text": [
            "Understanding the range: 1 to 10\n",
            "2\n",
            "4\n",
            "6\n",
            "8\n",
            "\n",
            "Replacing with the range: 1 to 11\n",
            "2\n",
            "4\n",
            "6\n",
            "8\n",
            "10\n"
          ],
          "name": "stdout"
        }
      ]
    },
    {
      "metadata": {
        "id": "3vBak_ru068I",
        "colab_type": "text"
      },
      "cell_type": "markdown",
      "source": [
        "#Using Google Drive\n",
        "\n",
        "All the notebooks get saved in the folder named **Colab Notebooks** in the google drive of account associated. \n",
        "\n",
        "The **File** section in the toolbar on the top-left part of the web-page provides different functions to save the notebook in the drive."
      ]
    },
    {
      "metadata": {
        "id": "3lMvRpJlwEhF",
        "colab_type": "text"
      },
      "cell_type": "markdown",
      "source": [
        "# In-Class Assignment\n",
        "\n",
        "Task: In the range of 1 to 100, print numbers whose square root is a whole number\n",
        "\n",
        "Help: Use the function numpy.sqrt\n",
        "\n",
        "[What is a Whole Number?](https://www.mathsisfun.com/definitions/whole-number.html)\n",
        "\n",
        "How to check whole number: If the number divided by 1 leaves no fraction\n",
        "\n",
        "Output: 1, 4, 9, 14, 25, 36, 49, 64, 81, 100"
      ]
    },
    {
      "metadata": {
        "id": "aULiWlrioSIO",
        "colab_type": "text"
      },
      "cell_type": "markdown",
      "source": [
        "#Sources\n",
        "\n",
        "[Colaboratory basics](https://colab.research.google.com/notebooks/basic_features_overview.ipynb#scrollTo=GOwlZRXEQSHZ)\n",
        "\n",
        "[Python 3 Basic Syntax](https://www.tutorialspoint.com/python3/python_basic_syntax.htm)"
      ]
    }
  ]
}