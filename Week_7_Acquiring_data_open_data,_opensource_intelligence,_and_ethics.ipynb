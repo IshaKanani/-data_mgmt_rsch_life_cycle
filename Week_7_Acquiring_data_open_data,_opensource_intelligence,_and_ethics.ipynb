{
  "nbformat": 4,
  "nbformat_minor": 0,
  "metadata": {
    "colab": {
      "name": "Week 7_Acquiring data: open data, opensource intelligence, and ethics.ipynb",
      "version": "0.3.2",
      "provenance": [],
      "collapsed_sections": [],
      "toc_visible": true,
      "include_colab_link": true
    },
    "kernelspec": {
      "name": "python3",
      "display_name": "Python 3"
    }
  },
  "cells": [
    {
      "cell_type": "markdown",
      "metadata": {
        "id": "view-in-github",
        "colab_type": "text"
      },
      "source": [
        "<a href=\"https://colab.research.google.com/github/IshaKanani/-data_mgmt_rsch_life_cycle/blob/master/Week_7_Acquiring_data_open_data%2C_opensource_intelligence%2C_and_ethics.ipynb\" target=\"_parent\"><img src=\"https://colab.research.google.com/assets/colab-badge.svg\" alt=\"Open In Colab\"/></a>"
      ]
    },
    {
      "metadata": {
        "id": "wVMFasVXFZE8",
        "colab_type": "text"
      },
      "cell_type": "markdown",
      "source": [
        "### Learning objectives\n",
        "* Introduction to Web [Requests](http://docs.python-requests.org/en/master/user/quickstart/)\n",
        "* Building simple GET requests using the requests package\n",
        "* Use [newspaper3k](https://pypi.org/project/newspaper3k/) to extract information from articles\n",
        "* Implement the in-built functionality provided with ewspaper: Natural Language Precessing"
      ]
    },
    {
      "metadata": {
        "id": "uBFjTn7QUodx",
        "colab_type": "text"
      },
      "cell_type": "markdown",
      "source": [
        "#Requests\n",
        "\n",
        "* Used to retrieve the data online.\n",
        "* Two main methods: **Get** and **Post** "
      ]
    },
    {
      "metadata": {
        "id": "zipXRTZW8Idw",
        "colab_type": "code",
        "colab": {}
      },
      "cell_type": "code",
      "source": [
        "import requests\n",
        "import pandas as pd\n",
        "\n",
        "urls = [\"http://www.huffingtonpost.com/david-bank/bill-gates-doubles-down-t_b_9146778.html\",\n",
        "        \"https://observer.com/2019/03/bill-gates-mkbhd-youtube-interview-tesla-elon-musk/\",\n",
        "        \"https://finance.yahoo.com/news/bill-gates-paid-10b-taxes-195528098.html\",\n",
        "        \"https://www.geekwire.com/2019/bill-gates-salutes-paul-allen-speech-celebration-new-uw-computer-science-building/\",\n",
        "        \"http://mynorthwest.com/1287104/bill-gates-reddit-ama-2019/\",\n",
        "        \"https://www.entrepreneur.com/article/329214\",\n",
        "        \"https://pharmaphorum.com/partner-content/an-interview-with-chris-damman-bill-melinda-gates-foundation/\",\n",
        "        \"http://fortune.com/2019/02/26/bill-gates-admits-wealth-has-made-him-happier-in-reddit-ama-chat/\",\n",
        "        \"https://www.celebritynetworth.com/articles/billionaire-news/bill-gates-has-paid-10-billion-in-taxes-and-thinks-other-rich-people-should-too/\",\n",
        "        \"https://www.marketwatch.com/story/bill-gates-being-free-from-worry-about-financial-things-is-a-real-blessing-2019-02-25\",\n",
        "        \"http://thenationonlineng.net/gates-foundation-names-new-africa-director/\"]\n"
      ],
      "execution_count": 0,
      "outputs": []
    },
    {
      "metadata": {
        "id": "dgv6AaxUVsX6",
        "colab_type": "text"
      },
      "cell_type": "markdown",
      "source": [
        "##Using requests to get the content of a url\n",
        "\n",
        "Functions used:\n",
        "\n",
        "1. requests.get(): A function used to get the web source of a link provided."
      ]
    },
    {
      "metadata": {
        "id": "37DWgJseVziB",
        "colab_type": "code",
        "outputId": "5f39e2db-4969-4cd3-85ed-472da3804705",
        "colab": {
          "base_uri": "https://localhost:8080/",
          "height": 54
        }
      },
      "cell_type": "code",
      "source": [
        "content = requests.get(urls[0])\n",
        "content.content"
      ],
      "execution_count": 0,
      "outputs": [
        {
          "output_type": "execute_result",
          "data": {
            "text/plain": [
              "b'<?xml version=\"1.0\" encoding=\"iso-8859-1\"?>\\n<!DOCTYPE html PUBLIC \"-//W3C//DTD XHTML 1.0 Transitional//EN\"\\n         \"http://www.w3.org/TR/xhtml1/DTD/xhtml1-transitional.dtd\">\\n<html xmlns=\"http://www.w3.org/1999/xhtml\" xml:lang=\"en\" lang=\"en\">\\n\\t<head>\\n\\t\\t<title>403 - Forbidden</title>\\n\\t</head>\\n\\t<body>\\n\\t\\t<h1>403 - Forbidden</h1>\\n\\t</body>\\n</html>\\n'"
            ]
          },
          "metadata": {
            "tags": []
          },
          "execution_count": 53
        }
      ]
    },
    {
      "metadata": {
        "id": "w1P1KjnWWkXo",
        "colab_type": "text"
      },
      "cell_type": "markdown",
      "source": [
        "##Drawbacks of request\n",
        "\n",
        "1. Retrieves the html page code: source code\n",
        "2. Diificult to understand the content\n",
        "3. More programming required to better udnerstabd the data\n",
        "\n",
        "* Substitute: **newspaper**"
      ]
    },
    {
      "metadata": {
        "id": "BE9ti-r-XT2L",
        "colab_type": "text"
      },
      "cell_type": "markdown",
      "source": [
        "#Newspaper\n",
        "\n",
        "[Newspaper Demo](http://newspaper-demo.herokuapp.com/)\n",
        "\n",
        "* Easier method to study an article\n",
        "* Divides the article details in subparts like authors, text\n",
        "* In-built natural language precessing"
      ]
    },
    {
      "metadata": {
        "id": "YsXk1XW-Knlt",
        "colab_type": "code",
        "outputId": "48c1010b-8c77-405b-b109-a15343fa8b39",
        "colab": {
          "base_uri": "https://localhost:8080/",
          "height": 391
        }
      },
      "cell_type": "code",
      "source": [
        "!pip install newspaper3k"
      ],
      "execution_count": 0,
      "outputs": [
        {
          "output_type": "stream",
          "text": [
            "Requirement already satisfied: newspaper3k in /usr/local/lib/python3.6/dist-packages (0.2.8)\n",
            "Requirement already satisfied: python-dateutil>=2.5.3 in /usr/local/lib/python3.6/dist-packages (from newspaper3k) (2.5.3)\n",
            "Requirement already satisfied: beautifulsoup4>=4.4.1 in /usr/local/lib/python3.6/dist-packages (from newspaper3k) (4.6.3)\n",
            "Requirement already satisfied: nltk>=3.2.1 in /usr/local/lib/python3.6/dist-packages (from newspaper3k) (3.2.5)\n",
            "Requirement already satisfied: lxml>=3.6.0 in /usr/local/lib/python3.6/dist-packages (from newspaper3k) (4.2.6)\n",
            "Requirement already satisfied: cssselect>=0.9.2 in /usr/local/lib/python3.6/dist-packages (from newspaper3k) (1.0.3)\n",
            "Requirement already satisfied: jieba3k>=0.35.1 in /usr/local/lib/python3.6/dist-packages (from newspaper3k) (0.35.1)\n",
            "Requirement already satisfied: tinysegmenter==0.3 in /usr/local/lib/python3.6/dist-packages (from newspaper3k) (0.3)\n",
            "Requirement already satisfied: PyYAML>=3.11 in /usr/local/lib/python3.6/dist-packages (from newspaper3k) (3.13)\n",
            "Requirement already satisfied: feedparser>=5.2.1 in /usr/local/lib/python3.6/dist-packages (from newspaper3k) (5.2.1)\n",
            "Requirement already satisfied: tldextract>=2.0.1 in /usr/local/lib/python3.6/dist-packages (from newspaper3k) (2.2.1)\n",
            "Requirement already satisfied: Pillow>=3.3.0 in /usr/local/lib/python3.6/dist-packages (from newspaper3k) (4.1.1)\n",
            "Requirement already satisfied: feedfinder2>=0.0.4 in /usr/local/lib/python3.6/dist-packages (from newspaper3k) (0.0.4)\n",
            "Requirement already satisfied: requests>=2.10.0 in /usr/local/lib/python3.6/dist-packages (from newspaper3k) (2.18.4)\n",
            "Requirement already satisfied: six>=1.5 in /usr/local/lib/python3.6/dist-packages (from python-dateutil>=2.5.3->newspaper3k) (1.11.0)\n",
            "Requirement already satisfied: idna in /usr/local/lib/python3.6/dist-packages (from tldextract>=2.0.1->newspaper3k) (2.6)\n",
            "Requirement already satisfied: setuptools in /usr/local/lib/python3.6/dist-packages (from tldextract>=2.0.1->newspaper3k) (40.8.0)\n",
            "Requirement already satisfied: requests-file>=1.4 in /usr/local/lib/python3.6/dist-packages (from tldextract>=2.0.1->newspaper3k) (1.4.3)\n",
            "Requirement already satisfied: olefile in /usr/local/lib/python3.6/dist-packages (from Pillow>=3.3.0->newspaper3k) (0.46)\n",
            "Requirement already satisfied: chardet<3.1.0,>=3.0.2 in /usr/local/lib/python3.6/dist-packages (from requests>=2.10.0->newspaper3k) (3.0.4)\n",
            "Requirement already satisfied: urllib3<1.23,>=1.21.1 in /usr/local/lib/python3.6/dist-packages (from requests>=2.10.0->newspaper3k) (1.22)\n",
            "Requirement already satisfied: certifi>=2017.4.17 in /usr/local/lib/python3.6/dist-packages (from requests>=2.10.0->newspaper3k) (2018.11.29)\n"
          ],
          "name": "stdout"
        }
      ]
    },
    {
      "metadata": {
        "id": "4cOzxsuFuDTf",
        "colab_type": "text"
      },
      "cell_type": "markdown",
      "source": [
        "##Newspaper functions used\n",
        "\n",
        "1. download\n",
        "2. parse\n",
        "\n",
        "##Keys accesed\n",
        "\n",
        "1. authors\n",
        "2. publish_date\n",
        "3. text"
      ]
    },
    {
      "metadata": {
        "id": "xxKNvJvrLYOL",
        "colab_type": "code",
        "outputId": "8247c56d-5b96-423f-c998-b42d2bc9c303",
        "colab": {
          "base_uri": "https://localhost:8080/",
          "height": 751
        }
      },
      "cell_type": "code",
      "source": [
        "billgates = Article(urls[0])\n",
        "billgates.download()\n",
        "billgates.parse()\n",
        "\n",
        "print(\"Whole data: \", billgates)\n",
        "print(\"Authors: \",billgates.authors)\n",
        "print(\"Publish Date: \", billgates.publish_date)\n",
        "print(\"Article Text: \", billgates.text)"
      ],
      "execution_count": 0,
      "outputs": [
        {
          "output_type": "stream",
          "text": [
            "Whole data:  <newspaper.article.Article object at 0x7f0657ff99e8>\n",
            "Authors:  ['Editor']\n",
            "Publish Date:  2016-02-04 13:59:18-05:00\n",
            "Article Text:  ImpactAlpha.com -- When Bill Gates agreed a couple years ago to put a small piece of his personal fortune into a fund that invests in companies serving low-income customers in India, he invited the fund managers to return with a plan to scale up their investments and their social impact.\n",
            "\n",
            "The fund managers recently took such a plan to Gates, and have again come away with not only a check, but an endorsement from the world's richest man. Gates also co-chairs the world's biggest philanthropy, but his new personal investment in the Capria Accelerator Fund is about business, not charity.\n",
            "\n",
            "\"I've been a long-term proponent of the view that any of society's problems that can be solved with market-based solutions must be solved that way,\" Gates said in a statement. He said he was excited to invest in Capria Accelerator \"as a means to scale global efforts around impact investing.\"\n",
            "\n",
            "Capria Accelerator is the second fund of two former software executives, including Will Poole, who once worked for Gates at Microsoft Corp. (The other manager, Dave Richards, worked for rival Real Networks and once testified against Microsoft in its antitrust trial.) Their first fund, Unitus Seed Fund, has made nearly two-dozen early-stage investments in companies providing education, health care and livelihoods for low-income Indians. The seed investments help the companies bridge \"the pioneer gap\" between small startup financing, often from friends or family, and venture-capital style institutional capital.\n",
            "\n",
            "The first fund tried to prove that businesses that meet the basic needs of emerging consumers can be compelling investments. Domestic consumption, including education and health care, is relatively immune from global market swings. \"Businesses that service those fundamental needs, as the population grows and grows in prosperity, are going to do well,\" Poole says. \"When we talk about emerging economies with young populations, simply the passage of time will cause those populations to gain purchasing power.\"\n",
            "\n",
            "First-time Funds\n",
            "\n",
            "But rather than just raise their own second fund, Poole and Richards set out to catalyze capital for such enterprises more generally. That meant supporting fund managers focused on helping build companies targeting low-income populations in developing countries. And that required attention to obstacles faced by first-time fund managers who, without a track record, struggle to find investors and close deals.\n",
            "\n",
            "Capria Accelerator will invest in such first-fund managers -- taking a stake in the general partnership -- and run them through a month-long training program and stake them to some capital to close their first few deals. That enables them to approach potential limited partners with both an anchor investor and a portfolio already under construction. Capria generally invests between $250,000 and $500,000 in each new fund manager.\n",
            "\n",
            "The first three managers, one each from east and west Africa and one from Latin America, will arrive in March for a month of training in Seattle. They will prepare their first deals and get introduced to Poole and Richards' extensive network, though probably not to Gates. The three fund managers were selected from among 66 applicants from 24 countries; Capria is selecting a second cohort for the fall.\n",
            "\n",
            "\"These guys have been working at establishing their funds for some time. They're tenacious guys, because it's tough going,\" Poole says. \"Just like entrepreneurs building businesses, they are building financial services businesses\"\n",
            "\n",
            "Track Record\n",
            "\n",
            "Pule Taukobong, co-founder of CRE Venture Capital in Johannesburg, says he wishes Capria had been around three years ago as he struggled to raise his first fund. In mid-2013, Taukobong quit his banking job in New York and spent eight months fundraising. He came away with only $20,000 -- less than his expenses. So he cashed out his pension, sold his house and bought stakes in eight companies on his own. He claims those companies have gone on to raise more $25 million in follow-on financing, generated $8 million in revenues and created 600 jobs.\n",
            "\n",
            "Now, he says, he has the track record to raise a seed-stage fund to invest in technology entrepreneurs in sub-Saharan Africa, including at least one-quarter women. He closed an initial round of $2 million last year and hopes to finish fundraising next month.\n",
            "\n",
            "\"With Capria we would have had capital to start and been able to show a real portfolio,\" Taukobong said. \"Not every fund manager should have to sell his house or liquidate his retirement fund, or you going to limit the number of people willing to do that.\"\n",
            "\n",
            "Risk Factors\n",
            "\n",
            "There's some evidence that the conventional wisdom about first-time impact funds may be wrong. A benchmarking study by the Global Impact Investing Network and Cambridge Associates found that smaller funds tend to outperform larger ones, and first funds tend to be smaller. The 13 first funds under $100 million, the survey found, had a pooled rate of return of 12.9%. well above their comparable peers.\n",
            "\n",
            "Poole pitches the Capria Acclerator fund as \"market rate\" but with an elevated level of risk. That's where the fund's impact thesis kicks in. Capria's other investors include the Crystal Springs Foundation, the Sall Family Foundation and Mohandas Pai and Ranjan Pai, prominent Indian investors and entrepreneurs. The size of Gates' investment was not disclosed.\n",
            "\n",
            "\"Most people will still think of the risk of a first-time fund manager in the emerging market and they will not make this decision on purely economic basis,\" Poole says.\n",
            "\n",
            "Capria expects to raise about $10 million over the next five years. Poole claims that may catalyze as much as $500 million in capital for businesses meeting the basic needs of low-income customers with higher-quality, lower-cost goods and services. The math is somewhat speculative, based on 10 funds that raise $10 million for their first funds, $25-30 million in follow-on funds, and bring other investors as well.\n",
            "\n",
            "But Bill Gates was sold. \"Bill is all about scaleability,\" Poole said. \"That was my pitch to him.\"\n"
          ],
          "name": "stdout"
        }
      ]
    },
    {
      "metadata": {
        "id": "Aui1NOOskuIn",
        "colab_type": "text"
      },
      "cell_type": "markdown",
      "source": [
        "##In-class Activity 1:\n",
        "\n",
        "1. Install newspaper, and download any article using Newspaper\n",
        "2. Print the authors, publish date and text"
      ]
    },
    {
      "metadata": {
        "id": "bZtRDRnNMcqt",
        "colab_type": "text"
      },
      "cell_type": "markdown",
      "source": [
        "##Natural Language Preocessing using \"Article\""
      ]
    },
    {
      "metadata": {
        "id": "A00-c9UKMh6-",
        "colab_type": "code",
        "colab": {}
      },
      "cell_type": "code",
      "source": [
        "billgates.nlp()"
      ],
      "execution_count": 0,
      "outputs": []
    },
    {
      "metadata": {
        "id": "o-cpRgPFM0Gl",
        "colab_type": "code",
        "outputId": "ffee7f08-a6f3-4964-c9f9-c631b007ea6a",
        "colab": {
          "base_uri": "https://localhost:8080/",
          "height": 139
        }
      },
      "cell_type": "code",
      "source": [
        "import nltk\n",
        "#nltk.download('punkt')\n",
        "\n",
        "billgates.nlp()\n",
        "print(\"Keywords of the article: \", billgates.keywords)\n",
        "print(\"Article Summary: \", billgates.summary)"
      ],
      "execution_count": 0,
      "outputs": [
        {
          "output_type": "stream",
          "text": [
            "Keywords of the article:  ['africa', 'gates', 'melinda', 'foundation', 'names', 'work', 'development', 'bill', 'seydi', 'foundations', 'director']\n",
            "Article Summary:  The Bill and Melinda Gates Foundation have named Cheikh Oumar Seydi the new Africa Director as it deepens work in the continent.\n",
            "Before his appointment, Seydi, from Senegal, was the regional director for sub-Saharan Africa at the International Finance Corporation (IFC) of the World Bank Group in Nairobi.\n",
            "He also served as IFC’s director for eastern and southern Africa and as its global director of human resources covering IFC offices worldwide and has had work experience with Ernst & Young in New York, and the United States Agency for International Development (USAID).\n",
            "With the Foundation expanding its work in Nigeria and Ethiopia, Chris Elias, president, Global Development at the Bill & Melinda Gates Foundation, said in a statement that Seydi would “play a central role in the foundation’s work across the world’s second largest continent.”Speaking on the work ahead of him, Seydi said: “I am looking forward to working with our partners and exploring new strategies that will help increase the foundation’s impact on the continent.”Seydi added that he was excited to join the foundation’s efforts to support Africa’s development.\n",
            "“This is a critical time in Africa’s development and I am excited to join an organisation that is committed to supporting African countries in meeting their development goals.”In the last two years, the Bill and Melinda Gates Foundation has grown its activities in Africa, employing twice as many workers in the process of seeking solutions to health, economic and other challenges on collaboration with other partners.\n"
          ],
          "name": "stdout"
        }
      ]
    },
    {
      "metadata": {
        "id": "XUFiAaRBKxux",
        "colab_type": "code",
        "outputId": "de1dd91c-1d4f-4272-83d0-90823f3d73a1",
        "colab": {
          "base_uri": "https://localhost:8080/",
          "height": 577
        }
      },
      "cell_type": "code",
      "source": [
        "from newspaper import Article\n",
        "\n",
        "details_np = pd.DataFrame(columns=[\"url\", \"authors\", \"publish_date\", \"text\", \"keywords\", \"summary\"])\n",
        "\n",
        "for link in urls:\n",
        "  details = []\n",
        "  \n",
        "  #Adding the url\n",
        "  details.append(link)\n",
        "  \n",
        "  #Giving article link to newspaper\n",
        "  billgates = Article(link)\n",
        "  \n",
        "  #Dowloading the article\n",
        "  billgates.download()\n",
        "  \n",
        "  #Parsing the article\n",
        "  billgates.parse()\n",
        "  \n",
        "  #Retrieving name of the authors\n",
        "  details.append(billgates.authors)\n",
        "  \n",
        "  #Adding the publish date\n",
        "  details.append(str(billgates.publish_date))\n",
        "  \n",
        "  #Adding the text\n",
        "  details.append(billgates.text)\n",
        "  \n",
        "  #Implementing Natural Language Processing\n",
        "  billgates.nlp()\n",
        "  \n",
        "  #Idetifying keywords\n",
        "  details.append(billgates.keywords)\n",
        "  \n",
        "  #Summary of the article\n",
        "  details.append(billgates.summary)\n",
        "  \n",
        "  #Search for a key using a tab after .\n",
        "  #billgates.\n",
        "  \n",
        "  details_np.loc[len(details_np)] = details\n",
        "\n",
        "  \n",
        "details_np"
      ],
      "execution_count": 0,
      "outputs": [
        {
          "output_type": "execute_result",
          "data": {
            "text/html": [
              "<div>\n",
              "<style scoped>\n",
              "    .dataframe tbody tr th:only-of-type {\n",
              "        vertical-align: middle;\n",
              "    }\n",
              "\n",
              "    .dataframe tbody tr th {\n",
              "        vertical-align: top;\n",
              "    }\n",
              "\n",
              "    .dataframe thead th {\n",
              "        text-align: right;\n",
              "    }\n",
              "</style>\n",
              "<table border=\"1\" class=\"dataframe\">\n",
              "  <thead>\n",
              "    <tr style=\"text-align: right;\">\n",
              "      <th></th>\n",
              "      <th>url</th>\n",
              "      <th>authors</th>\n",
              "      <th>publish_date</th>\n",
              "      <th>text</th>\n",
              "      <th>keywords</th>\n",
              "      <th>summary</th>\n",
              "    </tr>\n",
              "  </thead>\n",
              "  <tbody>\n",
              "    <tr>\n",
              "      <th>0</th>\n",
              "      <td>http://www.huffingtonpost.com/david-bank/bill-...</td>\n",
              "      <td>[Editor]</td>\n",
              "      <td>2016-02-04 13:59:18-05:00</td>\n",
              "      <td>ImpactAlpha.com -- When Bill Gates agreed a co...</td>\n",
              "      <td>[doubles, companies, gates, poole, investing, ...</td>\n",
              "      <td>He said he was excited to invest in Capria Acc...</td>\n",
              "    </tr>\n",
              "    <tr>\n",
              "      <th>1</th>\n",
              "      <td>https://observer.com/2019/03/bill-gates-mkbhd-...</td>\n",
              "      <td>[Sissi Cao, Sissi Cao Is A Business Reporter F...</td>\n",
              "      <td>2019-03-05 16:11:37+00:00</td>\n",
              "      <td>It’s every journalist’s dream to score a sit-d...</td>\n",
              "      <td>[youtube, cars, vehicles, gates, california, s...</td>\n",
              "      <td>It’s every journalist’s dream to score a sit-d...</td>\n",
              "    </tr>\n",
              "    <tr>\n",
              "      <th>2</th>\n",
              "      <td>https://finance.yahoo.com/news/bill-gates-paid...</td>\n",
              "      <td>[Sean Dennison]</td>\n",
              "      <td>2019-02-28 19:55:28+00:00</td>\n",
              "      <td>Microsoft founder Bill Gates hosted his sevent...</td>\n",
              "      <td>[gates, paid, wrote, worth, trampoline, billio...</td>\n",
              "      <td>Microsoft founder Bill Gates hosted his sevent...</td>\n",
              "    </tr>\n",
              "    <tr>\n",
              "      <th>3</th>\n",
              "      <td>https://www.geekwire.com/2019/bill-gates-salut...</td>\n",
              "      <td>[Taylor Soper]</td>\n",
              "      <td>2019-03-01 00:19:16-08:00</td>\n",
              "      <td>Bill Gates wanted to clear something up.\\n\\nSp...</td>\n",
              "      <td>[science, paul, cofounder, gates, opens, tribu...</td>\n",
              "      <td>“We borrowed the computer time.”Gates offered ...</td>\n",
              "    </tr>\n",
              "    <tr>\n",
              "      <th>4</th>\n",
              "      <td>http://mynorthwest.com/1287104/bill-gates-redd...</td>\n",
              "      <td>[Mynorthwest Staff]</td>\n",
              "      <td>2019-02-26 12:19:08-08:00</td>\n",
              "      <td>In case you’re wondering, Bill Gates’ current ...</td>\n",
              "      <td>[tax, countries, person, gates, ama, ask, bill...</td>\n",
              "      <td>In case you’re wondering, Bill Gates’ current ...</td>\n",
              "    </tr>\n",
              "    <tr>\n",
              "      <th>5</th>\n",
              "      <td>https://www.entrepreneur.com/article/329214</td>\n",
              "      <td>[Nina Zipkin]</td>\n",
              "      <td>2019-02-28 17:09:00+00:00</td>\n",
              "      <td>The billionaire philanthropist weighed in on t...</td>\n",
              "      <td>[future, develop, climate, gates, questions, t...</td>\n",
              "      <td>Recently, the MIT Technology Review asked the ...</td>\n",
              "    </tr>\n",
              "    <tr>\n",
              "      <th>6</th>\n",
              "      <td>https://pharmaphorum.com/partner-content/an-in...</td>\n",
              "      <td>[Microbiome Movement]</td>\n",
              "      <td>2019-03-04 17:32:46+00:00</td>\n",
              "      <td>The Microbiome Movement recently had the delig...</td>\n",
              "      <td>[gates, microbiome, movement, melinda, foundat...</td>\n",
              "      <td>The Microbiome Movement recently had the delig...</td>\n",
              "    </tr>\n",
              "    <tr>\n",
              "      <th>7</th>\n",
              "      <td>http://fortune.com/2019/02/26/bill-gates-admit...</td>\n",
              "      <td>[Emily Price]</td>\n",
              "      <td>2019-02-26 00:00:00</td>\n",
              "      <td>It turns out being rich does make you happier,...</td>\n",
              "      <td>[things, think, gates, happier, trampoline, am...</td>\n",
              "      <td>It turns out being rich does make you happier,...</td>\n",
              "    </tr>\n",
              "    <tr>\n",
              "      <th>8</th>\n",
              "      <td>https://www.celebritynetworth.com/articles/bil...</td>\n",
              "      <td>[Amy Lamare, Brian Warner, Alex Chan]</td>\n",
              "      <td>2019-03-04 12:01:38+00:00</td>\n",
              "      <td>There's a debate about whether or not rich peo...</td>\n",
              "      <td>[tax, gates, paid, capital, thinks, billion, m...</td>\n",
              "      <td>Billionaire Bill Gates said on February 25th t...</td>\n",
              "    </tr>\n",
              "    <tr>\n",
              "      <th>9</th>\n",
              "      <td>https://www.marketwatch.com/story/bill-gates-b...</td>\n",
              "      <td>[Nicole Lyn Pesce]</td>\n",
              "      <td>2019-02-25 00:00:00</td>\n",
              "      <td>Microsoft MSFT, +0.04% co-founder Bill Gates i...</td>\n",
              "      <td>[things, blessing, climate, gates, wrote, meli...</td>\n",
              "      <td>Being free from worry about financial things i...</td>\n",
              "    </tr>\n",
              "    <tr>\n",
              "      <th>10</th>\n",
              "      <td>http://thenationonlineng.net/gates-foundation-...</td>\n",
              "      <td>[]</td>\n",
              "      <td>2019-02-22 15:36:22+00:00</td>\n",
              "      <td>The Bill and Melinda Gates Foundation have nam...</td>\n",
              "      <td>[africa, gates, melinda, foundation, names, wo...</td>\n",
              "      <td>The Bill and Melinda Gates Foundation have nam...</td>\n",
              "    </tr>\n",
              "  </tbody>\n",
              "</table>\n",
              "</div>"
            ],
            "text/plain": [
              "                                                  url  \\\n",
              "0   http://www.huffingtonpost.com/david-bank/bill-...   \n",
              "1   https://observer.com/2019/03/bill-gates-mkbhd-...   \n",
              "2   https://finance.yahoo.com/news/bill-gates-paid...   \n",
              "3   https://www.geekwire.com/2019/bill-gates-salut...   \n",
              "4   http://mynorthwest.com/1287104/bill-gates-redd...   \n",
              "5         https://www.entrepreneur.com/article/329214   \n",
              "6   https://pharmaphorum.com/partner-content/an-in...   \n",
              "7   http://fortune.com/2019/02/26/bill-gates-admit...   \n",
              "8   https://www.celebritynetworth.com/articles/bil...   \n",
              "9   https://www.marketwatch.com/story/bill-gates-b...   \n",
              "10  http://thenationonlineng.net/gates-foundation-...   \n",
              "\n",
              "                                              authors  \\\n",
              "0                                            [Editor]   \n",
              "1   [Sissi Cao, Sissi Cao Is A Business Reporter F...   \n",
              "2                                     [Sean Dennison]   \n",
              "3                                      [Taylor Soper]   \n",
              "4                                 [Mynorthwest Staff]   \n",
              "5                                       [Nina Zipkin]   \n",
              "6                               [Microbiome Movement]   \n",
              "7                                       [Emily Price]   \n",
              "8               [Amy Lamare, Brian Warner, Alex Chan]   \n",
              "9                                  [Nicole Lyn Pesce]   \n",
              "10                                                 []   \n",
              "\n",
              "                 publish_date  \\\n",
              "0   2016-02-04 13:59:18-05:00   \n",
              "1   2019-03-05 16:11:37+00:00   \n",
              "2   2019-02-28 19:55:28+00:00   \n",
              "3   2019-03-01 00:19:16-08:00   \n",
              "4   2019-02-26 12:19:08-08:00   \n",
              "5   2019-02-28 17:09:00+00:00   \n",
              "6   2019-03-04 17:32:46+00:00   \n",
              "7         2019-02-26 00:00:00   \n",
              "8   2019-03-04 12:01:38+00:00   \n",
              "9         2019-02-25 00:00:00   \n",
              "10  2019-02-22 15:36:22+00:00   \n",
              "\n",
              "                                                 text  \\\n",
              "0   ImpactAlpha.com -- When Bill Gates agreed a co...   \n",
              "1   It’s every journalist’s dream to score a sit-d...   \n",
              "2   Microsoft founder Bill Gates hosted his sevent...   \n",
              "3   Bill Gates wanted to clear something up.\\n\\nSp...   \n",
              "4   In case you’re wondering, Bill Gates’ current ...   \n",
              "5   The billionaire philanthropist weighed in on t...   \n",
              "6   The Microbiome Movement recently had the delig...   \n",
              "7   It turns out being rich does make you happier,...   \n",
              "8   There's a debate about whether or not rich peo...   \n",
              "9   Microsoft MSFT, +0.04% co-founder Bill Gates i...   \n",
              "10  The Bill and Melinda Gates Foundation have nam...   \n",
              "\n",
              "                                             keywords  \\\n",
              "0   [doubles, companies, gates, poole, investing, ...   \n",
              "1   [youtube, cars, vehicles, gates, california, s...   \n",
              "2   [gates, paid, wrote, worth, trampoline, billio...   \n",
              "3   [science, paul, cofounder, gates, opens, tribu...   \n",
              "4   [tax, countries, person, gates, ama, ask, bill...   \n",
              "5   [future, develop, climate, gates, questions, t...   \n",
              "6   [gates, microbiome, movement, melinda, foundat...   \n",
              "7   [things, think, gates, happier, trampoline, am...   \n",
              "8   [tax, gates, paid, capital, thinks, billion, m...   \n",
              "9   [things, blessing, climate, gates, wrote, meli...   \n",
              "10  [africa, gates, melinda, foundation, names, wo...   \n",
              "\n",
              "                                              summary  \n",
              "0   He said he was excited to invest in Capria Acc...  \n",
              "1   It’s every journalist’s dream to score a sit-d...  \n",
              "2   Microsoft founder Bill Gates hosted his sevent...  \n",
              "3   “We borrowed the computer time.”Gates offered ...  \n",
              "4   In case you’re wondering, Bill Gates’ current ...  \n",
              "5   Recently, the MIT Technology Review asked the ...  \n",
              "6   The Microbiome Movement recently had the delig...  \n",
              "7   It turns out being rich does make you happier,...  \n",
              "8   Billionaire Bill Gates said on February 25th t...  \n",
              "9   Being free from worry about financial things i...  \n",
              "10  The Bill and Melinda Gates Foundation have nam...  "
            ]
          },
          "metadata": {
            "tags": []
          },
          "execution_count": 69
        }
      ]
    },
    {
      "metadata": {
        "id": "bB3SaZMykgM3",
        "colab_type": "text"
      },
      "cell_type": "markdown",
      "source": [
        "##Parsing articles in other languauges"
      ]
    },
    {
      "metadata": {
        "id": "BgIzurcXX5ow",
        "colab_type": "code",
        "outputId": "9e024cd6-0ee7-4718-8847-d6d5ed6cc654",
        "colab": {
          "base_uri": "https://localhost:8080/",
          "height": 714
        }
      },
      "cell_type": "code",
      "source": [
        "import newspaper\n",
        "newspaper.languages()"
      ],
      "execution_count": 0,
      "outputs": [
        {
          "output_type": "stream",
          "text": [
            "\n",
            "Your available languages are:\n",
            "\n",
            "input code\t\tfull name\n",
            "  no\t\t\t  Norwegian\n",
            "  id\t\t\t  Indonesian\n",
            "  it\t\t\t  Italian\n",
            "  tr\t\t\t  Turkish\n",
            "  he\t\t\t  Hebrew\n",
            "  sw\t\t\t  Swahili\n",
            "  pt\t\t\t  Portuguese\n",
            "  hr\t\t\t  Croatian\n",
            "  hu\t\t\t  Hungarian\n",
            "  hi\t\t\t  Hindi\n",
            "  el\t\t\t  Greek\n",
            "  zh\t\t\t  Chinese\n",
            "  vi\t\t\t  Vietnamese\n",
            "  uk\t\t\t  Ukrainian\n",
            "  pl\t\t\t  Polish\n",
            "  sl\t\t\t  Slovenian\n",
            "  ro\t\t\t  Romanian\n",
            "  sr\t\t\t  Serbian\n",
            "  nb\t\t\t  Norwegian (Bokmål)\n",
            "  fi\t\t\t  Finnish\n",
            "  mk\t\t\t  Macedonian\n",
            "  es\t\t\t  Spanish\n",
            "  nl\t\t\t  Dutch\n",
            "  sv\t\t\t  Swedish\n",
            "  ru\t\t\t  Russian\n",
            "  de\t\t\t  German\n",
            "  et\t\t\t  Estonian\n",
            "  fr\t\t\t  French\n",
            "  da\t\t\t  Danish\n",
            "  en\t\t\t  English\n",
            "  ko\t\t\t  Korean\n",
            "  fa\t\t\t  Persian\n",
            "  bg\t\t\t  Bulgarian\n",
            "  be\t\t\t  Belarusian\n",
            "  ja\t\t\t  Japanese\n",
            "  ar\t\t\t  Arabic\n",
            "\n"
          ],
          "name": "stdout"
        }
      ]
    },
    {
      "metadata": {
        "id": "qVB13MFZM9Y3",
        "colab_type": "code",
        "outputId": "45d2d3fa-0a71-440f-c084-5540d2aaf478",
        "colab": {
          "base_uri": "https://localhost:8080/",
          "height": 544
        }
      },
      "cell_type": "code",
      "source": [
        "#newspaper tries to interpret the language when it is not specified\n",
        "\n",
        "#French or spanish or hindi\n",
        "\n",
        "url_hindi = \"https://www.bbc.com/hindi/science-47430424\"\n",
        "hindi = Article(url_hindi) #language=\"hi\"\n",
        "hindi.download()\n",
        "hindi.parse()\n",
        "print(\"Title: \", hindi.title)\n",
        "print(\"Authors: \", hindi.authors)\n",
        "print(\"Content: \",hindi.text)"
      ],
      "execution_count": 0,
      "outputs": [
        {
          "output_type": "stream",
          "text": [
            "Title:  अंतरिक्ष की सैर कराने के लिए स्पेस एक्स ने भरी उड़ान\n",
            "Authors:  []\n",
            "Content:  इमेज कॉपीरइट copyrightSPACEX Image caption कृत्रिम अंतरिक्ष यात्री\n",
            "\n",
            "स्पेस एक्स कंपनी ने फ़्लोरिडा के केनेडी स्पेस सेंटर से एक रॉकेट का सफलतापूर्वक परीक्षण किया है जो इंसानों को अंतरिक्ष में ले जाने के इरादे से बनाया गया है.\n",
            "\n",
            "इस रॉकेट में फिलहाल किसी इंसान को नहीं भेजा गया है लेकिन सब कुछ ठीक रहा तो अमरीकी स्पेस एजेंसी इसे मंज़ूरी दे सकती है जिसके बाद अंतरिक्ष यात्रियों को ले जाने का रास्ता साफ़ हो जाएगा.\n",
            "\n",
            "स्पेस एक्स के संस्थापक एलन मस्क ने कहा है कि स्पेस के कमर्शियल टूरिज़्म की दिशा से ये पहला क़दम साबित हो सकता है.\n",
            "\n",
            "साल 2011 में अपने शटल रिटायर होने के बाद अमरीका अपने बूते किसी अंतरिक्ष यात्री को अंतरिक्ष में नहीं भेज पाया है.\n",
            "\n",
            "अमरीका इसके लिए रूसी सोयूज़ यानों का इस्तेमाल कर रहा है.\n",
            "\n",
            "11 मिनिट के सफ़र के बाद स्पेस एक्स का फॉल्कन 9 रॉकेट और ड्रेगन क्रू कैप्सूल उस मार्ग पर थे जिस पर बढ़कर रविवार को एक निर्धारित समय और स्थान पर उसका इंटरनेशनल स्पेस स्टेशन से मेल होगा.\n",
            "\n",
            "इसमें भले ही कोई अंतरिक्ष यात्री नहीं है, लेकिन एक कृत्रिम अंतरिक्ष यात्री को इसमें ज़रूर भेजा गया है.\n",
            "\n",
            "इसमें सेंसर लगाए गए हैं जो ये बताएंगे कि इसमें सवार इंसान को किस तरह की परिस्थितियों का सामना करना पड़ेगा.\n",
            "\n",
            "इस कृत्रिम अंतरिक्ष यात्री को स्पेस एक्स ने 'रिपली' नाम दिया है जो एलियन मूवीज़ का एक किरदार है.\n",
            "\n",
            "स्पेस एक्स, कैलिफोर्निया की कंपनी है. एलन मस्क ने इसे स्पेस में कमर्शियल टूरिज्म के इरादे से बनाया है.\n",
            "\n",
            "इमेज कॉपीरइट NASA\n",
            "\n",
            "रॉकेट लांच के बाद एलन मस्क ने संवाददाताओं से कहा, ''साल 2002 से यहां तक पहुंचने में 17 साल लग गए. सच कहूं तो मैं भावनात्मक रूप से थोड़ा तनाव में आ गया था क्योंकि ये 'सुपर स्ट्रेसफुल' था.''\n",
            "\n",
            "उन्होंने कहा, ''हमारा फोकस नासा की ज़रूरतों को पूरा करने पर है. लेकिन ड्रैगन कैप्सूल ठीक से काम करने लगे, उसके बाद कमाई के हिसाब से कस्टमर्स की तलाश करेंगे. नासा का रवैया इस मामले में सकारात्मक रहा है.''\n",
            "\n",
            "(बीबीसी हिन्दी के एंड्रॉएड ऐप के लिए यहां क्लिक कर सकते हैं. हमें फ़ेसबुक, ट्विटर, इंस्टाग्राम और यूट्यूब पर फ़ॉलो भी कर सकते हैं.)\n"
          ],
          "name": "stdout"
        }
      ]
    },
    {
      "metadata": {
        "id": "6lFuAwPNT2tr",
        "colab_type": "code",
        "outputId": "ae3ab07b-f4ff-430c-efa9-1f0166f6e3ff",
        "colab": {
          "base_uri": "https://localhost:8080/",
          "height": 119
        }
      },
      "cell_type": "code",
      "source": [
        "hindi.nlp()\n",
        "print(\"Keywords: \",hindi.keywords)\n",
        "print(\"Summary: \", hindi.summary)"
      ],
      "execution_count": 0,
      "outputs": [
        {
          "output_type": "stream",
          "text": [
            "Keywords:  ['सपस', 'बद', 'लए', 'म', 'अतरकष', 'न', 'करन', 'पर', 'उडन', 'ह', 'स', 'क', 'एकस', 'सर', 'भर']\n",
            "Summary:  स्पेस एक्स के संस्थापक एलन मस्क ने कहा है कि स्पेस के कमर्शियल टूरिज़्म की दिशा से ये पहला क़दम साबित हो सकता है.\n",
            "साल 2011 में अपने शटल रिटायर होने के बाद अमरीका अपने बूते किसी अंतरिक्ष यात्री को अंतरिक्ष में नहीं भेज पाया है.\n",
            "इसमें सेंसर लगाए गए हैं जो ये बताएंगे कि इसमें सवार इंसान को किस तरह की परिस्थितियों का सामना करना पड़ेगा.\n",
            "इस कृत्रिम अंतरिक्ष यात्री को स्पेस एक्स ने 'रिपली' नाम दिया है जो एलियन मूवीज़ का एक किरदार है.\n",
            "उन्होंने कहा, ''हमारा फोकस नासा की ज़रूरतों को पूरा करने पर है.\n"
          ],
          "name": "stdout"
        }
      ]
    },
    {
      "metadata": {
        "id": "KGRpE-z0lH2x",
        "colab_type": "text"
      },
      "cell_type": "markdown",
      "source": [
        "##In-class Activity 2:\n",
        "\n",
        "Download article of your choice and get the results of nlp on the article."
      ]
    },
    {
      "metadata": {
        "id": "2u5m_lOTNHuu",
        "colab_type": "text"
      },
      "cell_type": "markdown",
      "source": [
        "#Resources\n",
        "\n",
        "[request](https://www.pythonforbeginners.com/requests/using-requests-in-python)\n",
        "\n",
        "[newspaper](https://pypi.org/project/newspaper3k/)"
      ]
    }
  ]
}