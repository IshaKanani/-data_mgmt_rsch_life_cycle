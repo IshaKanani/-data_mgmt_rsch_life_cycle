{
  "nbformat": 4,
  "nbformat_minor": 0,
  "metadata": {
    "colab": {
      "name": "Week 6_Documenting data and version controlipynb",
      "version": "0.3.2",
      "provenance": [],
      "toc_visible": true,
      "include_colab_link": true
    },
    "kernelspec": {
      "name": "python3",
      "display_name": "Python 3"
    },
    "accelerator": "GPU"
  },
  "cells": [
    {
      "cell_type": "markdown",
      "metadata": {
        "id": "view-in-github",
        "colab_type": "text"
      },
      "source": [
        "<a href=\"https://colab.research.google.com/github/IshaKanani/-data_mgmt_rsch_life_cycle/blob/master/Week_6_Documenting_data_and_version_controlipynb.ipynb\" target=\"_parent\"><img src=\"https://colab.research.google.com/assets/colab-badge.svg\" alt=\"Open In Colab\"/></a>"
      ]
    },
    {
      "metadata": {
        "id": "Rjbgd1igFSnu",
        "colab_type": "text"
      },
      "cell_type": "markdown",
      "source": [
        "### Learning objectives\n",
        "* Introduction to GitHub\n",
        "* Managing and sharing on GitHub\n",
        "* Pull, Add, Commit functions on GitHub\n",
        "* Using Colab with GitHub\n",
        "\n",
        "**To-do List**\n",
        "1. Fmiliarize with bing\n",
        "2. Find a key for bing using microsoft account"
      ]
    },
    {
      "metadata": {
        "id": "BxyVVbP2nVSP",
        "colab_type": "text"
      },
      "cell_type": "markdown",
      "source": [
        "#Introduction to Git\n",
        "\n",
        "* A distributed version control system\n",
        "* Easy to learn\n",
        "* Useful for updates document sharing\n",
        "\n",
        "Download Git for terminal from [here](https://git-scm.com/downloads)\n",
        "  * Downlaods available for Mac OS X, Windows and Unix/Linux\n",
        "  * Follow ReadMe file provided with the downloads for installation instructions\n",
        "\n",
        "Check the successful Installation:\n",
        "  * Write \"Git\" in your terminal, and make sure it generates no error\n",
        "  \n",
        " \n",
        "![Git Workflow](https://www3.ntu.edu.sg/home/ehchua/programming/howto/images/Git_StorageDataFlow.png)"
      ]
    },
    {
      "metadata": {
        "id": "ndw3WIjwwAol",
        "colab_type": "code",
        "outputId": "363a932f-6ab7-4942-c8ae-02e93b5b1700",
        "colab": {
          "base_uri": "https://localhost:8080/",
          "height": 731
        }
      },
      "cell_type": "code",
      "source": [
        "!git"
      ],
      "execution_count": 0,
      "outputs": [
        {
          "output_type": "stream",
          "text": [
            "usage: git [--version] [--help] [-C <path>] [-c <name>=<value>]\n",
            "           [--exec-path[=<path>]] [--html-path] [--man-path] [--info-path]\n",
            "           [-p | --paginate | --no-pager] [--no-replace-objects] [--bare]\n",
            "           [--git-dir=<path>] [--work-tree=<path>] [--namespace=<name>]\n",
            "           <command> [<args>]\n",
            "\n",
            "These are common Git commands used in various situations:\n",
            "\n",
            "start a working area (see also: git help tutorial)\n",
            "   clone      Clone a repository into a new directory\n",
            "   init       Create an empty Git repository or reinitialize an existing one\n",
            "\n",
            "work on the current change (see also: git help everyday)\n",
            "   add        Add file contents to the index\n",
            "   mv         Move or rename a file, a directory, or a symlink\n",
            "   reset      Reset current HEAD to the specified state\n",
            "   rm         Remove files from the working tree and from the index\n",
            "\n",
            "examine the history and state (see also: git help revisions)\n",
            "   bisect     Use binary search to find the commit that introduced a bug\n",
            "   grep       Print lines matching a pattern\n",
            "   log        Show commit logs\n",
            "   show       Show various types of objects\n",
            "   status     Show the working tree status\n",
            "\n",
            "grow, mark and tweak your common history\n",
            "   branch     List, create, or delete branches\n",
            "   checkout   Switch branches or restore working tree files\n",
            "   commit     Record changes to the repository\n",
            "   diff       Show changes between commits, commit and working tree, etc\n",
            "   merge      Join two or more development histories together\n",
            "   rebase     Reapply commits on top of another base tip\n",
            "   tag        Create, list, delete or verify a tag object signed with GPG\n",
            "\n",
            "collaborate (see also: git help workflows)\n",
            "   fetch      Download objects and refs from another repository\n",
            "   pull       Fetch from and integrate with another repository or a local branch\n",
            "   push       Update remote refs along with associated objects\n",
            "\n",
            "'git help -a' and 'git help -g' list available subcommands and some\n",
            "concept guides. See 'git help <command>' or 'git help <concept>'\n",
            "to read about a specific subcommand or concept.\n"
          ],
          "name": "stdout"
        }
      ]
    },
    {
      "metadata": {
        "id": "VM0z4CWXXh0r",
        "colab_type": "text"
      },
      "cell_type": "markdown",
      "source": [
        "##Creating a repository on GitHub\n",
        "\n",
        "* **Start a project** on [GitHub](https://github.com/)\n",
        "* Assign a name to your project e.g. THA2\n",
        "* Click **create repository** "
      ]
    },
    {
      "metadata": {
        "id": "IrJ_h_YLZNah",
        "colab_type": "text"
      },
      "cell_type": "markdown",
      "source": [
        "##In-class activity 1\n",
        "\n",
        "* Create your own empty repository on your github\n",
        "* Try to create a repository that you can use for the submission of Take Home Assignment 2"
      ]
    },
    {
      "metadata": {
        "id": "2SwWbEFVpZEs",
        "colab_type": "text"
      },
      "cell_type": "markdown",
      "source": [
        "##Creating an empty repository\n",
        "\n",
        "* [Init](https://git-scm.com/docs/git-init) initializes a new git repository\n",
        "* Configure to the path you want to make repository to\n",
        "* **Git init** creates an emoy repository in the folder .git\n",
        "* Parameters can be provided to customize the repository"
      ]
    },
    {
      "metadata": {
        "id": "ls5ie-jFbkWS",
        "colab_type": "code",
        "colab": {}
      },
      "cell_type": "code",
      "source": [
        "mkdir test_tha2"
      ],
      "execution_count": 0,
      "outputs": []
    },
    {
      "metadata": {
        "id": "1sDXKuwQbn4P",
        "colab_type": "code",
        "outputId": "974b9ebd-a488-49b7-a780-4f9c70e47ad2",
        "colab": {
          "base_uri": "https://localhost:8080/",
          "height": 35
        }
      },
      "cell_type": "code",
      "source": [
        "cd test_tha2"
      ],
      "execution_count": 0,
      "outputs": [
        {
          "output_type": "stream",
          "text": [
            "/content/test_tha2\n"
          ],
          "name": "stdout"
        }
      ]
    },
    {
      "metadata": {
        "id": "gPlOGE2lvjCf",
        "colab_type": "code",
        "outputId": "1b0e81ad-1698-4a2b-9616-5a513d336669",
        "colab": {
          "base_uri": "https://localhost:8080/",
          "height": 52
        }
      },
      "cell_type": "code",
      "source": [
        "!pwd\n",
        "!cd ~/\n",
        "\n",
        "#create an empty repo\n",
        "#!git init\n",
        "\n",
        "#Check the present working directory\n",
        "!pwd\n",
        "\n",
        "#Check the content of the directory\n",
        "#!ls -a\n"
      ],
      "execution_count": 0,
      "outputs": [
        {
          "output_type": "stream",
          "text": [
            "/content/test_tha2\n",
            "/content/test_tha2\n"
          ],
          "name": "stdout"
        }
      ]
    },
    {
      "metadata": {
        "id": "N_v-SbmXbvca",
        "colab_type": "code",
        "outputId": "c189e68e-675c-43c4-ca1e-3bfccf85d3f2",
        "colab": {
          "base_uri": "https://localhost:8080/",
          "height": 34
        }
      },
      "cell_type": "code",
      "source": [
        "!git init"
      ],
      "execution_count": 0,
      "outputs": [
        {
          "output_type": "stream",
          "text": [
            "Initialized empty Git repository in /content/.git/\n"
          ],
          "name": "stdout"
        }
      ]
    },
    {
      "metadata": {
        "id": "DHrCIOR4rBOT",
        "colab_type": "text"
      },
      "cell_type": "markdown",
      "source": [
        "##Cloning a repository\n",
        "\n",
        "* [Cloning](https://git-scm.com/docs/git-clone) indicates retrieving an existing repository to a new directory\n",
        "* Can be done for repository on local machine or on GitHub\n",
        "* **Git clone \"path/to/dir\" or \"link/to/dir\"** clones the directory\n",
        "* While cloning from server: Must be shared for authentication concerns"
      ]
    },
    {
      "metadata": {
        "id": "kvlgrYtZb11V",
        "colab_type": "code",
        "outputId": "5debdc42-c661-46fe-c67a-27b6665628a6",
        "colab": {
          "base_uri": "https://localhost:8080/",
          "height": 35
        }
      },
      "cell_type": "code",
      "source": [
        "cd .."
      ],
      "execution_count": 0,
      "outputs": [
        {
          "output_type": "stream",
          "text": [
            "/content\n"
          ],
          "name": "stdout"
        }
      ]
    },
    {
      "metadata": {
        "id": "mTsxcIwjwG3L",
        "colab_type": "code",
        "outputId": "e0e597a7-0adf-44f5-9ce6-0f15826d104e",
        "colab": {
          "base_uri": "https://localhost:8080/",
          "height": 51
        }
      },
      "cell_type": "code",
      "source": [
        "#Cloning a repository\n",
        "!git clone -v \"https://github.com/IshaKanani/THA2.git\""
      ],
      "execution_count": 0,
      "outputs": [
        {
          "output_type": "stream",
          "text": [
            "Cloning into 'THA2'...\n",
            "warning: You appear to have cloned an empty repository.\n"
          ],
          "name": "stdout"
        }
      ]
    },
    {
      "metadata": {
        "id": "cc-31SjNLpi5",
        "colab_type": "code",
        "outputId": "1820cb76-319c-40d4-f663-de16a5bb5551",
        "colab": {
          "base_uri": "https://localhost:8080/",
          "height": 34
        }
      },
      "cell_type": "code",
      "source": [
        "#Checking whether cloned repo is added\n",
        "!ls -a"
      ],
      "execution_count": 0,
      "outputs": [
        {
          "output_type": "stream",
          "text": [
            ".  ..  .config\t.git  sample_data  THA2\n"
          ],
          "name": "stdout"
        }
      ]
    },
    {
      "metadata": {
        "id": "ACs8Ww-FPlhk",
        "colab_type": "code",
        "outputId": "3ae65b7a-e427-405d-8f36-a42d94cfda3c",
        "colab": {
          "base_uri": "https://localhost:8080/",
          "height": 35
        }
      },
      "cell_type": "code",
      "source": [
        "#renaming a repository at the time of cloning\n",
        "\n",
        "#1. removing the existing one\n",
        "!rm THA2"
      ],
      "execution_count": 0,
      "outputs": [
        {
          "output_type": "stream",
          "text": [
            "rm: cannot remove 'THA2': Is a directory\n"
          ],
          "name": "stdout"
        }
      ]
    },
    {
      "metadata": {
        "id": "T08e88vmP2na",
        "colab_type": "code",
        "colab": {}
      },
      "cell_type": "code",
      "source": [
        "rm -r THA2\n"
      ],
      "execution_count": 0,
      "outputs": []
    },
    {
      "metadata": {
        "id": "pf3ht2vgQAm7",
        "colab_type": "code",
        "outputId": "bb0dde4d-23fd-4ea1-97eb-3d79bcb28afd",
        "colab": {
          "base_uri": "https://localhost:8080/",
          "height": 68
        }
      },
      "cell_type": "code",
      "source": [
        "#2. Cloning the repo\n",
        "!git clone \"https://github.com/IshaKanani/THA2\" assignment2\n",
        "!ls -a"
      ],
      "execution_count": 0,
      "outputs": [
        {
          "output_type": "stream",
          "text": [
            "Cloning into 'assignment2'...\n",
            "warning: You appear to have cloned an empty repository.\n",
            ".  ..  assignment2  .config  .git  sample_data\tTHA2\n"
          ],
          "name": "stdout"
        }
      ]
    },
    {
      "metadata": {
        "id": "bkh9FtptQMZV",
        "colab_type": "code",
        "outputId": "97999aa9-0340-4a76-b7af-b7a57954b88e",
        "colab": {
          "base_uri": "https://localhost:8080/",
          "height": 51
        }
      },
      "cell_type": "code",
      "source": [
        "#We will now move into the cloned ditrectory to add content\n",
        "!cd assigment2\n",
        "!ls -a"
      ],
      "execution_count": 0,
      "outputs": [
        {
          "output_type": "stream",
          "text": [
            "/bin/bash: line 0: cd: assigment2: No such file or directory\n",
            ".  ..  assignment2  .config  .git  sample_data\tTHA2\n"
          ],
          "name": "stdout"
        }
      ]
    },
    {
      "metadata": {
        "id": "yqXBSOMlY7Xy",
        "colab_type": "code",
        "outputId": "e27f4ed5-0218-4a69-a11e-ef2a8a74c456",
        "colab": {
          "base_uri": "https://localhost:8080/",
          "height": 34
        }
      },
      "cell_type": "code",
      "source": [
        "cd THA2"
      ],
      "execution_count": 0,
      "outputs": [
        {
          "output_type": "stream",
          "text": [
            "/content/THA2\n"
          ],
          "name": "stdout"
        }
      ]
    },
    {
      "metadata": {
        "id": "Oi57XAGYY-aJ",
        "colab_type": "code",
        "outputId": "5e3f67ce-432b-42d3-fff6-d7210c9d0832",
        "colab": {
          "base_uri": "https://localhost:8080/",
          "height": 35
        }
      },
      "cell_type": "code",
      "source": [
        "ls -a"
      ],
      "execution_count": 0,
      "outputs": [
        {
          "output_type": "stream",
          "text": [
            "\u001b[0m\u001b[01;34m.\u001b[0m/  \u001b[01;34m..\u001b[0m/  \u001b[01;34m.git\u001b[0m/\n"
          ],
          "name": "stdout"
        }
      ]
    },
    {
      "metadata": {
        "id": "qr9FuS1UZgcE",
        "colab_type": "text"
      },
      "cell_type": "markdown",
      "source": [
        "##In-class Activity 2\n",
        "\n",
        "* Clone the repository you created in the previous activity\n",
        "* Use commands **cd**, **pwd** and **ls -a** to validate the cloned repository "
      ]
    },
    {
      "metadata": {
        "id": "1asJ9jc0uAEc",
        "colab_type": "text"
      },
      "cell_type": "markdown",
      "source": [
        "##Adding content to a repository\n",
        "\n",
        "* The repo does not get updates unless you specifically ask for it\n",
        "* **Important to add** to update the repo: Refer to [add](https://git-scm.com/docs/git-add)\n",
        "* **Git-add** saves the current version of directory\n",
        "* A must step **before commit**\n"
      ]
    },
    {
      "metadata": {
        "id": "jLhB9Zfwb-GO",
        "colab_type": "code",
        "outputId": "cf817c87-027c-422c-bfd6-ae30c339a460",
        "colab": {
          "base_uri": "https://localhost:8080/",
          "height": 35
        }
      },
      "cell_type": "code",
      "source": [
        "cd test_tha2"
      ],
      "execution_count": 0,
      "outputs": [
        {
          "output_type": "stream",
          "text": [
            "/content/test_tha2\n"
          ],
          "name": "stdout"
        }
      ]
    },
    {
      "metadata": {
        "id": "-VOXqPrSQXxI",
        "colab_type": "code",
        "outputId": "6f30cc88-8e04-44bb-919f-feece6da3b91",
        "colab": {
          "base_uri": "https://localhost:8080/",
          "height": 35
        }
      },
      "cell_type": "code",
      "source": [
        "!mkdir sample_dir\n",
        "!ls -a"
      ],
      "execution_count": 0,
      "outputs": [
        {
          "output_type": "stream",
          "text": [
            ".  ..  .git  sample_dir\n"
          ],
          "name": "stdout"
        }
      ]
    },
    {
      "metadata": {
        "id": "bWgqk3CkQg-l",
        "colab_type": "code",
        "colab": {}
      },
      "cell_type": "code",
      "source": [
        "!git add ."
      ],
      "execution_count": 0,
      "outputs": []
    },
    {
      "metadata": {
        "id": "qGFjGm8rusX5",
        "colab_type": "text"
      },
      "cell_type": "markdown",
      "source": [
        "## Commiting changes\n",
        "\n"
      ]
    },
    {
      "metadata": {
        "id": "XqicbNBBQl_p",
        "colab_type": "code",
        "outputId": "9844d3ef-dbfc-493e-a9f0-301564f4591f",
        "colab": {
          "base_uri": "https://localhost:8080/",
          "height": 102
        }
      },
      "cell_type": "code",
      "source": [
        "!git commit -m \"added sample_dir\""
      ],
      "execution_count": 0,
      "outputs": [
        {
          "output_type": "stream",
          "text": [
            "On branch master\n",
            "Your branch is based on 'origin/master', but the upstream is gone.\n",
            "  (use \"git branch --unset-upstream\" to fixup)\n",
            "\n",
            "nothing to commit, working tree clean\n"
          ],
          "name": "stdout"
        }
      ]
    },
    {
      "metadata": {
        "id": "Ra46pt8vQrhb",
        "colab_type": "code",
        "colab": {}
      },
      "cell_type": "code",
      "source": [
        "!git config --global user.email \"ishadkanani@gmail.com\"\n",
        "!git config --global user.name \"ishakanani\""
      ],
      "execution_count": 0,
      "outputs": []
    },
    {
      "metadata": {
        "id": "QU2JEcS2Q61D",
        "colab_type": "code",
        "outputId": "1c34c5e1-c92b-41c9-e9b0-158fdc2dacfa",
        "colab": {
          "base_uri": "https://localhost:8080/",
          "height": 68
        }
      },
      "cell_type": "code",
      "source": [
        "!git commit -m \"added a graph\""
      ],
      "execution_count": 0,
      "outputs": [
        {
          "output_type": "stream",
          "text": [
            "[master (root-commit) 741023d] added a graph\n",
            " 1 file changed, 1 insertion(+)\n",
            " create mode 100644 README.md\n"
          ],
          "name": "stdout"
        }
      ]
    },
    {
      "metadata": {
        "id": "GNxtyTEXaIN0",
        "colab_type": "text"
      },
      "cell_type": "markdown",
      "source": [
        "##Push: The final step to update the repository on GitHub\n",
        "\n",
        "* Once the changes have been commited, we [push](https://git-scm.com/docs/git-push) the chnages.\n",
        "* Push **finalizes** changes online"
      ]
    },
    {
      "metadata": {
        "id": "bRSCuv-EXP0x",
        "colab_type": "code",
        "outputId": "949ff623-c185-44b6-a545-aacd5b0e010b",
        "colab": {
          "base_uri": "https://localhost:8080/",
          "height": 34
        }
      },
      "cell_type": "code",
      "source": [
        "!ls .."
      ],
      "execution_count": 0,
      "outputs": [
        {
          "output_type": "stream",
          "text": [
            "assignment2  sample_data  THA2\n"
          ],
          "name": "stdout"
        }
      ]
    },
    {
      "metadata": {
        "id": "iMTwK1L1cHqN",
        "colab_type": "code",
        "outputId": "25649690-038e-4e18-e30c-b070f191ded1",
        "colab": {
          "base_uri": "https://localhost:8080/",
          "height": 34
        }
      },
      "cell_type": "code",
      "source": [
        "cd ..\n"
      ],
      "execution_count": 0,
      "outputs": [
        {
          "output_type": "stream",
          "text": [
            "/content\n"
          ],
          "name": "stdout"
        }
      ]
    },
    {
      "metadata": {
        "id": "EmFSU5JcyOI0",
        "colab_type": "text"
      },
      "cell_type": "markdown",
      "source": [
        "[Generating and adding SSH](https://help.github.com/en/articles/generating-a-new-ssh-key-and-adding-it-to-the-ssh-agent)"
      ]
    },
    {
      "metadata": {
        "id": "3-w1Y4BG0r2W",
        "colab_type": "code",
        "outputId": "ab7d03ff-43c2-4f3c-8ea5-6f7c5e18e4f1",
        "colab": {
          "resources": {
            "http://localhost:8080/nbextensions/google.colab/files.js": {
              "data": "Ly8gQ29weXJpZ2h0IDIwMTcgR29vZ2xlIExMQwovLwovLyBMaWNlbnNlZCB1bmRlciB0aGUgQXBhY2hlIExpY2Vuc2UsIFZlcnNpb24gMi4wICh0aGUgIkxpY2Vuc2UiKTsKLy8geW91IG1heSBub3QgdXNlIHRoaXMgZmlsZSBleGNlcHQgaW4gY29tcGxpYW5jZSB3aXRoIHRoZSBMaWNlbnNlLgovLyBZb3UgbWF5IG9idGFpbiBhIGNvcHkgb2YgdGhlIExpY2Vuc2UgYXQKLy8KLy8gICAgICBodHRwOi8vd3d3LmFwYWNoZS5vcmcvbGljZW5zZXMvTElDRU5TRS0yLjAKLy8KLy8gVW5sZXNzIHJlcXVpcmVkIGJ5IGFwcGxpY2FibGUgbGF3IG9yIGFncmVlZCB0byBpbiB3cml0aW5nLCBzb2Z0d2FyZQovLyBkaXN0cmlidXRlZCB1bmRlciB0aGUgTGljZW5zZSBpcyBkaXN0cmlidXRlZCBvbiBhbiAiQVMgSVMiIEJBU0lTLAovLyBXSVRIT1VUIFdBUlJBTlRJRVMgT1IgQ09ORElUSU9OUyBPRiBBTlkgS0lORCwgZWl0aGVyIGV4cHJlc3Mgb3IgaW1wbGllZC4KLy8gU2VlIHRoZSBMaWNlbnNlIGZvciB0aGUgc3BlY2lmaWMgbGFuZ3VhZ2UgZ292ZXJuaW5nIHBlcm1pc3Npb25zIGFuZAovLyBsaW1pdGF0aW9ucyB1bmRlciB0aGUgTGljZW5zZS4KCi8qKgogKiBAZmlsZW92ZXJ2aWV3IEhlbHBlcnMgZm9yIGdvb2dsZS5jb2xhYiBQeXRob24gbW9kdWxlLgogKi8KKGZ1bmN0aW9uKHNjb3BlKSB7CmZ1bmN0aW9uIHNwYW4odGV4dCwgc3R5bGVBdHRyaWJ1dGVzID0ge30pIHsKICBjb25zdCBlbGVtZW50ID0gZG9jdW1lbnQuY3JlYXRlRWxlbWVudCgnc3BhbicpOwogIGVsZW1lbnQudGV4dENvbnRlbnQgPSB0ZXh0OwogIGZvciAoY29uc3Qga2V5IG9mIE9iamVjdC5rZXlzKHN0eWxlQXR0cmlidXRlcykpIHsKICAgIGVsZW1lbnQuc3R5bGVba2V5XSA9IHN0eWxlQXR0cmlidXRlc1trZXldOwogIH0KICByZXR1cm4gZWxlbWVudDsKfQoKLy8gTWF4IG51bWJlciBvZiBieXRlcyB3aGljaCB3aWxsIGJlIHVwbG9hZGVkIGF0IGEgdGltZS4KY29uc3QgTUFYX1BBWUxPQURfU0laRSA9IDEwMCAqIDEwMjQ7Ci8vIE1heCBhbW91bnQgb2YgdGltZSB0byBibG9jayB3YWl0aW5nIGZvciB0aGUgdXNlci4KY29uc3QgRklMRV9DSEFOR0VfVElNRU9VVF9NUyA9IDMwICogMTAwMDsKCmZ1bmN0aW9uIF91cGxvYWRGaWxlcyhpbnB1dElkLCBvdXRwdXRJZCkgewogIGNvbnN0IHN0ZXBzID0gdXBsb2FkRmlsZXNTdGVwKGlucHV0SWQsIG91dHB1dElkKTsKICBjb25zdCBvdXRwdXRFbGVtZW50ID0gZG9jdW1lbnQuZ2V0RWxlbWVudEJ5SWQob3V0cHV0SWQpOwogIC8vIENhY2hlIHN0ZXBzIG9uIHRoZSBvdXRwdXRFbGVtZW50IHRvIG1ha2UgaXQgYXZhaWxhYmxlIGZvciB0aGUgbmV4dCBjYWxsCiAgLy8gdG8gdXBsb2FkRmlsZXNDb250aW51ZSBmcm9tIFB5dGhvbi4KICBvdXRwdXRFbGVtZW50LnN0ZXBzID0gc3RlcHM7CgogIHJldHVybiBfdXBsb2FkRmlsZXNDb250aW51ZShvdXRwdXRJZCk7Cn0KCi8vIFRoaXMgaXMgcm91Z2hseSBhbiBhc3luYyBnZW5lcmF0b3IgKG5vdCBzdXBwb3J0ZWQgaW4gdGhlIGJyb3dzZXIgeWV0KSwKLy8gd2hlcmUgdGhlcmUgYXJlIG11bHRpcGxlIGFzeW5jaHJvbm91cyBzdGVwcyBhbmQgdGhlIFB5dGhvbiBzaWRlIGlzIGdvaW5nCi8vIHRvIHBvbGwgZm9yIGNvbXBsZXRpb24gb2YgZWFjaCBzdGVwLgovLyBUaGlzIHVzZXMgYSBQcm9taXNlIHRvIGJsb2NrIHRoZSBweXRob24gc2lkZSBvbiBjb21wbGV0aW9uIG9mIGVhY2ggc3RlcCwKLy8gdGhlbiBwYXNzZXMgdGhlIHJlc3VsdCBvZiB0aGUgcHJldmlvdXMgc3RlcCBhcyB0aGUgaW5wdXQgdG8gdGhlIG5leHQgc3RlcC4KZnVuY3Rpb24gX3VwbG9hZEZpbGVzQ29udGludWUob3V0cHV0SWQpIHsKICBjb25zdCBvdXRwdXRFbGVtZW50ID0gZG9jdW1lbnQuZ2V0RWxlbWVudEJ5SWQob3V0cHV0SWQpOwogIGNvbnN0IHN0ZXBzID0gb3V0cHV0RWxlbWVudC5zdGVwczsKCiAgY29uc3QgbmV4dCA9IHN0ZXBzLm5leHQob3V0cHV0RWxlbWVudC5sYXN0UHJvbWlzZVZhbHVlKTsKICByZXR1cm4gUHJvbWlzZS5yZXNvbHZlKG5leHQudmFsdWUucHJvbWlzZSkudGhlbigodmFsdWUpID0+IHsKICAgIC8vIENhY2hlIHRoZSBsYXN0IHByb21pc2UgdmFsdWUgdG8gbWFrZSBpdCBhdmFpbGFibGUgdG8gdGhlIG5leHQKICAgIC8vIHN0ZXAgb2YgdGhlIGdlbmVyYXRvci4KICAgIG91dHB1dEVsZW1lbnQubGFzdFByb21pc2VWYWx1ZSA9IHZhbHVlOwogICAgcmV0dXJuIG5leHQudmFsdWUucmVzcG9uc2U7CiAgfSk7Cn0KCi8qKgogKiBHZW5lcmF0b3IgZnVuY3Rpb24gd2hpY2ggaXMgY2FsbGVkIGJldHdlZW4gZWFjaCBhc3luYyBzdGVwIG9mIHRoZSB1cGxvYWQKICogcHJvY2Vzcy4KICogQHBhcmFtIHtzdHJpbmd9IGlucHV0SWQgRWxlbWVudCBJRCBvZiB0aGUgaW5wdXQgZmlsZSBwaWNrZXIgZWxlbWVudC4KICogQHBhcmFtIHtzdHJpbmd9IG91dHB1dElkIEVsZW1lbnQgSUQgb2YgdGhlIG91dHB1dCBkaXNwbGF5LgogKiBAcmV0dXJuIHshSXRlcmFibGU8IU9iamVjdD59IEl0ZXJhYmxlIG9mIG5leHQgc3RlcHMuCiAqLwpmdW5jdGlvbiogdXBsb2FkRmlsZXNTdGVwKGlucHV0SWQsIG91dHB1dElkKSB7CiAgY29uc3QgaW5wdXRFbGVtZW50ID0gZG9jdW1lbnQuZ2V0RWxlbWVudEJ5SWQoaW5wdXRJZCk7CiAgaW5wdXRFbGVtZW50LmRpc2FibGVkID0gZmFsc2U7CgogIGNvbnN0IG91dHB1dEVsZW1lbnQgPSBkb2N1bWVudC5nZXRFbGVtZW50QnlJZChvdXRwdXRJZCk7CiAgb3V0cHV0RWxlbWVudC5pbm5lckhUTUwgPSAnJzsKCiAgY29uc3QgcGlja2VkUHJvbWlzZSA9IG5ldyBQcm9taXNlKChyZXNvbHZlKSA9PiB7CiAgICBpbnB1dEVsZW1lbnQuYWRkRXZlbnRMaXN0ZW5lcignY2hhbmdlJywgKGUpID0+IHsKICAgICAgcmVzb2x2ZShlLnRhcmdldC5maWxlcyk7CiAgICB9KTsKICB9KTsKCiAgY29uc3QgY2FuY2VsID0gZG9jdW1lbnQuY3JlYXRlRWxlbWVudCgnYnV0dG9uJyk7CiAgaW5wdXRFbGVtZW50LnBhcmVudEVsZW1lbnQuYXBwZW5kQ2hpbGQoY2FuY2VsKTsKICBjYW5jZWwudGV4dENvbnRlbnQgPSAnQ2FuY2VsIHVwbG9hZCc7CiAgY29uc3QgY2FuY2VsUHJvbWlzZSA9IG5ldyBQcm9taXNlKChyZXNvbHZlKSA9PiB7CiAgICBjYW5jZWwub25jbGljayA9ICgpID0+IHsKICAgICAgcmVzb2x2ZShudWxsKTsKICAgIH07CiAgfSk7CgogIC8vIENhbmNlbCB1cGxvYWQgaWYgdXNlciBoYXNuJ3QgcGlja2VkIGFueXRoaW5nIGluIHRpbWVvdXQuCiAgY29uc3QgdGltZW91dFByb21pc2UgPSBuZXcgUHJvbWlzZSgocmVzb2x2ZSkgPT4gewogICAgc2V0VGltZW91dCgoKSA9PiB7CiAgICAgIHJlc29sdmUobnVsbCk7CiAgICB9LCBGSUxFX0NIQU5HRV9USU1FT1VUX01TKTsKICB9KTsKCiAgLy8gV2FpdCBmb3IgdGhlIHVzZXIgdG8gcGljayB0aGUgZmlsZXMuCiAgY29uc3QgZmlsZXMgPSB5aWVsZCB7CiAgICBwcm9taXNlOiBQcm9taXNlLnJhY2UoW3BpY2tlZFByb21pc2UsIHRpbWVvdXRQcm9taXNlLCBjYW5jZWxQcm9taXNlXSksCiAgICByZXNwb25zZTogewogICAgICBhY3Rpb246ICdzdGFydGluZycsCiAgICB9CiAgfTsKCiAgaWYgKCFmaWxlcykgewogICAgcmV0dXJuIHsKICAgICAgcmVzcG9uc2U6IHsKICAgICAgICBhY3Rpb246ICdjb21wbGV0ZScsCiAgICAgIH0KICAgIH07CiAgfQoKICBjYW5jZWwucmVtb3ZlKCk7CgogIC8vIERpc2FibGUgdGhlIGlucHV0IGVsZW1lbnQgc2luY2UgZnVydGhlciBwaWNrcyBhcmUgbm90IGFsbG93ZWQuCiAgaW5wdXRFbGVtZW50LmRpc2FibGVkID0gdHJ1ZTsKCiAgZm9yIChjb25zdCBmaWxlIG9mIGZpbGVzKSB7CiAgICBjb25zdCBsaSA9IGRvY3VtZW50LmNyZWF0ZUVsZW1lbnQoJ2xpJyk7CiAgICBsaS5hcHBlbmQoc3BhbihmaWxlLm5hbWUsIHtmb250V2VpZ2h0OiAnYm9sZCd9KSk7CiAgICBsaS5hcHBlbmQoc3BhbigKICAgICAgICBgKCR7ZmlsZS50eXBlIHx8ICduL2EnfSkgLSAke2ZpbGUuc2l6ZX0gYnl0ZXMsIGAgKwogICAgICAgIGBsYXN0IG1vZGlmaWVkOiAkewogICAgICAgICAgICBmaWxlLmxhc3RNb2RpZmllZERhdGUgPyBmaWxlLmxhc3RNb2RpZmllZERhdGUudG9Mb2NhbGVEYXRlU3RyaW5nKCkgOgogICAgICAgICAgICAgICAgICAgICAgICAgICAgICAgICAgICAnbi9hJ30gLSBgKSk7CiAgICBjb25zdCBwZXJjZW50ID0gc3BhbignMCUgZG9uZScpOwogICAgbGkuYXBwZW5kQ2hpbGQocGVyY2VudCk7CgogICAgb3V0cHV0RWxlbWVudC5hcHBlbmRDaGlsZChsaSk7CgogICAgY29uc3QgZmlsZURhdGFQcm9taXNlID0gbmV3IFByb21pc2UoKHJlc29sdmUpID0+IHsKICAgICAgY29uc3QgcmVhZGVyID0gbmV3IEZpbGVSZWFkZXIoKTsKICAgICAgcmVhZGVyLm9ubG9hZCA9IChlKSA9PiB7CiAgICAgICAgcmVzb2x2ZShlLnRhcmdldC5yZXN1bHQpOwogICAgICB9OwogICAgICByZWFkZXIucmVhZEFzQXJyYXlCdWZmZXIoZmlsZSk7CiAgICB9KTsKICAgIC8vIFdhaXQgZm9yIHRoZSBkYXRhIHRvIGJlIHJlYWR5LgogICAgbGV0IGZpbGVEYXRhID0geWllbGQgewogICAgICBwcm9taXNlOiBmaWxlRGF0YVByb21pc2UsCiAgICAgIHJlc3BvbnNlOiB7CiAgICAgICAgYWN0aW9uOiAnY29udGludWUnLAogICAgICB9CiAgICB9OwoKICAgIC8vIFVzZSBhIGNodW5rZWQgc2VuZGluZyB0byBhdm9pZCBtZXNzYWdlIHNpemUgbGltaXRzLiBTZWUgYi82MjExNTY2MC4KICAgIGxldCBwb3NpdGlvbiA9IDA7CiAgICB3aGlsZSAocG9zaXRpb24gPCBmaWxlRGF0YS5ieXRlTGVuZ3RoKSB7CiAgICAgIGNvbnN0IGxlbmd0aCA9IE1hdGgubWluKGZpbGVEYXRhLmJ5dGVMZW5ndGggLSBwb3NpdGlvbiwgTUFYX1BBWUxPQURfU0laRSk7CiAgICAgIGNvbnN0IGNodW5rID0gbmV3IFVpbnQ4QXJyYXkoZmlsZURhdGEsIHBvc2l0aW9uLCBsZW5ndGgpOwogICAgICBwb3NpdGlvbiArPSBsZW5ndGg7CgogICAgICBjb25zdCBiYXNlNjQgPSBidG9hKFN0cmluZy5mcm9tQ2hhckNvZGUuYXBwbHkobnVsbCwgY2h1bmspKTsKICAgICAgeWllbGQgewogICAgICAgIHJlc3BvbnNlOiB7CiAgICAgICAgICBhY3Rpb246ICdhcHBlbmQnLAogICAgICAgICAgZmlsZTogZmlsZS5uYW1lLAogICAgICAgICAgZGF0YTogYmFzZTY0LAogICAgICAgIH0sCiAgICAgIH07CiAgICAgIHBlcmNlbnQudGV4dENvbnRlbnQgPQogICAgICAgICAgYCR7TWF0aC5yb3VuZCgocG9zaXRpb24gLyBmaWxlRGF0YS5ieXRlTGVuZ3RoKSAqIDEwMCl9JSBkb25lYDsKICAgIH0KICB9CgogIC8vIEFsbCBkb25lLgogIHlpZWxkIHsKICAgIHJlc3BvbnNlOiB7CiAgICAgIGFjdGlvbjogJ2NvbXBsZXRlJywKICAgIH0KICB9Owp9CgpzY29wZS5nb29nbGUgPSBzY29wZS5nb29nbGUgfHwge307CnNjb3BlLmdvb2dsZS5jb2xhYiA9IHNjb3BlLmdvb2dsZS5jb2xhYiB8fCB7fTsKc2NvcGUuZ29vZ2xlLmNvbGFiLl9maWxlcyA9IHsKICBfdXBsb2FkRmlsZXMsCiAgX3VwbG9hZEZpbGVzQ29udGludWUsCn07Cn0pKHNlbGYpOwo=",
              "ok": true,
              "headers": [
                [
                  "content-type",
                  "application/javascript"
                ]
              ],
              "status": 200,
              "status_text": ""
            }
          },
          "base_uri": "https://localhost:8080/",
          "height": 37
        }
      },
      "cell_type": "code",
      "source": [
        "from google.colab import files \n",
        "uploaded = files.upload()"
      ],
      "execution_count": 0,
      "outputs": [
        {
          "output_type": "display_data",
          "data": {
            "text/html": [
              "\n",
              "     <input type=\"file\" id=\"files-3211a34c-a426-4d6d-83b0-afa226049012\" name=\"files[]\" multiple disabled />\n",
              "     <output id=\"result-3211a34c-a426-4d6d-83b0-afa226049012\">\n",
              "      Upload widget is only available when the cell has been executed in the\n",
              "      current browser session. Please rerun this cell to enable.\n",
              "      </output>\n",
              "      <script src=\"/nbextensions/google.colab/files.js\"></script> "
            ],
            "text/plain": [
              "<IPython.core.display.HTML object>"
            ]
          },
          "metadata": {
            "tags": []
          }
        }
      ]
    },
    {
      "metadata": {
        "id": "xTyuI9cPsvvO",
        "colab_type": "code",
        "outputId": "c3a55b40-92ae-4870-adfe-47f334aaa319",
        "colab": {
          "base_uri": "https://localhost:8080/",
          "height": 391
        }
      },
      "cell_type": "code",
      "source": [
        "!ssh-keygen -t rsa -b 4096 -C \"ishadkanani@gmail.com\""
      ],
      "execution_count": 0,
      "outputs": [
        {
          "output_type": "stream",
          "text": [
            "Generating public/private rsa key pair.\n",
            "Enter file in which to save the key (/root/.ssh/id_rsa): \n",
            "/root/.ssh/id_rsa already exists.\n",
            "Overwrite (y/n)? y\n",
            "Enter passphrase (empty for no passphrase): \n",
            "Enter same passphrase again: \n",
            "Your identification has been saved in /root/.ssh/id_rsa.\n",
            "Your public key has been saved in /root/.ssh/id_rsa.pub.\n",
            "The key fingerprint is:\n",
            "SHA256:O485tx313xlPDTxZD9hCzkC3saxng2eQDj8zhQinq4Y ishadkanani@gmail.com\n",
            "The key's randomart image is:\n",
            "+---[RSA 4096]----+\n",
            "|      . ..o +    |\n",
            "|       + . X *   |\n",
            "|      . o + X o .|\n",
            "|       . + = o +.|\n",
            "|      . S O * * .|\n",
            "|   . .   . O o +.|\n",
            "|  E o   o   .  .+|\n",
            "|   .    .=.. . .*|\n",
            "|        ooo..  .+|\n",
            "+----[SHA256]-----+\n"
          ],
          "name": "stdout"
        }
      ]
    },
    {
      "metadata": {
        "id": "WvMNUbzS5zZa",
        "colab_type": "code",
        "outputId": "27254ef4-84c4-4564-d4e8-ab9ff66c36b3",
        "colab": {
          "base_uri": "https://localhost:8080/",
          "height": 54
        }
      },
      "cell_type": "code",
      "source": [
        "!cat ~/.ssh/id_rsa.pub "
      ],
      "execution_count": 0,
      "outputs": [
        {
          "output_type": "stream",
          "text": [
            "ssh-rsa AAAAB3NzaC1yc2EAAAADAQABAAACAQC/1+Sz1rC/1pjPvCbAuJUX+NJ9mQNhX+ivb2kCZnOx5PKWLh5JGqpYSboMHLF6ms2WNVE86NYoNdpyj+N1pNJSlcO27KDJ0vMk5vGMR9dZdMnbLksswP79w2xpqXzylnnAIAyCYxDKULAtoHhcrxo3v2gkFYQRQsbVVpoSq5ZlTXF32fj7sUoBpnflZGCcN4zZtRoYVD4r/oRzX7o/g0g6M+BlRRBrljqcVn6xpMDnGUgSVnwaGkgCOk5pxnWtbiAitA+6hRYuDKLSQanbsAw9HaqdRIM/XRrlTXQlef4iwI1+eSNsrERnpZKNDGEcu+wozlZv+5bS26JA4bCZs7SNlwkFoA7LwxKdPG0HWeKoCug4YXoDVePKTVQbFwKgeXH0+3afA/r33FPyxCE3DaZZudyZbpTY2bIdEDHKiojDRyNgkYmTL3V+ols58QEtOtmTiY4XATRzGxSyrjG2iOPv5zo9WUn/qWHXLcoev6waYb/dlNxx8+KXyUvk2agxgSLCoouEsdzE5qHFD6Us++nTSpnB0GXA2xd+4h/ESG/gNteQAwXFSYoqFIgaj2gohcVmaZBYIVf8ntbghmFNklsrESxYkz5Uum4D8kGIDSuGkrpzb7SmvH8yFXr4BZrF9s0UoAh6rstfKEZ7pPO/t72doVQ90rW5GTRi7oHTaxaiYw== ishadkanani@gmail.com\n"
          ],
          "name": "stdout"
        }
      ]
    },
    {
      "metadata": {
        "id": "d3n9YnCl6U6a",
        "colab_type": "code",
        "outputId": "7a6c7105-f13c-414e-dcd9-a51b0dd08bcb",
        "colab": {
          "base_uri": "https://localhost:8080/",
          "height": 34
        }
      },
      "cell_type": "code",
      "source": [
        "cd THA2"
      ],
      "execution_count": 0,
      "outputs": [
        {
          "output_type": "stream",
          "text": [
            "/content/THA2\n"
          ],
          "name": "stdout"
        }
      ]
    },
    {
      "metadata": {
        "id": "UsJHcfwpVJm0",
        "colab_type": "code",
        "outputId": "c8a060bf-145c-4496-d49f-adc835fa9add",
        "colab": {
          "base_uri": "https://localhost:8080/",
          "height": 51
        }
      },
      "cell_type": "code",
      "source": [
        "!git remote add origin \"https://github.com/IshaKanani/THA2.git\"\n",
        "!git push origin master "
      ],
      "execution_count": 0,
      "outputs": [
        {
          "output_type": "stream",
          "text": [
            "fatal: remote origin already exists.\n",
            "fatal: could not read Username for 'https://github.com': No such device or address\n"
          ],
          "name": "stdout"
        }
      ]
    },
    {
      "metadata": {
        "id": "iqHJjB_cSAtA",
        "colab_type": "text"
      },
      "cell_type": "markdown",
      "source": [
        "##Pull: Updating the local directory\n",
        "\n",
        "* Since the repository is shared, multiple people might have pushed commits\n",
        "* Make sure you work with the most recent directory\n",
        "* If not, commit might have errors"
      ]
    },
    {
      "metadata": {
        "id": "knWi0esmSjUq",
        "colab_type": "code",
        "outputId": "4d4acb04-eb6a-4aef-f7a0-9cb546105d01",
        "colab": {
          "base_uri": "https://localhost:8080/",
          "height": 34
        }
      },
      "cell_type": "code",
      "source": [
        "!git pull"
      ],
      "execution_count": 0,
      "outputs": [
        {
          "output_type": "stream",
          "text": [
            "Already up to date.\n"
          ],
          "name": "stdout"
        }
      ]
    },
    {
      "metadata": {
        "id": "Vw__3ua8i6uZ",
        "colab_type": "text"
      },
      "cell_type": "markdown",
      "source": [
        "![Basic Commands](https://rubygarage.s3.amazonaws.com/uploads/article_image/file/600/git-cheatsheet-6.jpg)"
      ]
    },
    {
      "metadata": {
        "id": "BbeSS77Qvlef",
        "colab_type": "text"
      },
      "cell_type": "markdown",
      "source": [
        "#Introduction to Github on Colab\n",
        "\n",
        "* Google colab is designed to get smoothely integrated with github\n",
        "* One can easily load github files to colab and vice versa\n"
      ]
    },
    {
      "metadata": {
        "id": "FlBf7h3Xv4uc",
        "colab_type": "text"
      },
      "cell_type": "markdown",
      "source": [
        "##Loading a file from github to colab\n",
        "\n",
        "* Go to the link: https://github.com/IshaKanani/-datasciencecoursera/blob/master/Week_6_Documenting_data_and_version_controlipynb.ipynb\n",
        "* \"Open in Colab\" option is provided, clikcing which will open the file in google colab\n"
      ]
    },
    {
      "metadata": {
        "id": "NTFKOFNPwQHL",
        "colab_type": "text"
      },
      "cell_type": "markdown",
      "source": [
        "##Chrome extension\n",
        "\n",
        "* Chrome provides it's [ Open in colab extension](https://chrome.google.com/webstore/detail/open-in-colab/iogfkhleblhcpcekbiedikdehleodpjo), by installing which, one can always get the option of opening any notebook in colab"
      ]
    },
    {
      "metadata": {
        "id": "dMO1yzmIxB2s",
        "colab_type": "text"
      },
      "cell_type": "markdown",
      "source": [
        "##Searching github through colab\n",
        "\n",
        "* One can search the github repos on colab by using [this link](https://colab.research.google.com/github/)\n",
        "* The link provides easy search of any files by the file name, or by the user or organziation name\n",
        "* It would return all the available files on github, and one can access the same in colab by clicking any options\n",
        "* One can also edit the link provided above by adding the user or organizaton name to directly access particular files\n",
        "* example: https://colab.research.google.com/github/ishakanani/\n",
        "* Access particular folders: https://colab.research.google.com/github/ishakanani/data_mgmt_rsch_lifecycle\n"
      ]
    },
    {
      "metadata": {
        "id": "2UDLJK_Fx62n",
        "colab_type": "text"
      },
      "cell_type": "markdown",
      "source": [
        "##Saving a colab notebook to your github\n",
        "\n",
        "1. Go to File --> Save a copy in GitHub...\n",
        "2. Connect your GitHub account to colab\n",
        "3. Choose the repository to save the notebook to or make a new one\n",
        "4. Choose the settings: Public or Private"
      ]
    },
    {
      "metadata": {
        "id": "Sk330guswnhg",
        "colab_type": "text"
      },
      "cell_type": "markdown",
      "source": [
        ""
      ]
    },
    {
      "metadata": {
        "id": "jc8q0xYSvYzl",
        "colab_type": "text"
      },
      "cell_type": "markdown",
      "source": [
        "#Resources:\n",
        "\n",
        "[colab-github](https://colab.research.google.com/github/googlecolab/colabtools/blob/master/notebooks/colab-github-demo.ipynb)\n",
        "\n",
        "[Git commands](https://git-scm.com/docs)"
      ]
    }
  ]
}