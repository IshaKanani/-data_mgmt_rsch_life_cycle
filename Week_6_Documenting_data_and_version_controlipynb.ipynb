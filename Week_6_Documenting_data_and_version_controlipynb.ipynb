{
  "nbformat": 4,
  "nbformat_minor": 0,
  "metadata": {
    "colab": {
      "name": "Week 6_Documenting data and version controlipynb",
      "version": "0.3.2",
      "provenance": [],
      "include_colab_link": true
    },
    "kernelspec": {
      "name": "python3",
      "display_name": "Python 3"
    }
  },
  "cells": [
    {
      "cell_type": "markdown",
      "metadata": {
        "id": "view-in-github",
        "colab_type": "text"
      },
      "source": [
        "<a href=\"https://colab.research.google.com/github/IshaKanani/-datasciencecoursera/blob/master/Week_6_Documenting_data_and_version_controlipynb.ipynb\" target=\"_parent\"><img src=\"https://colab.research.google.com/assets/colab-badge.svg\" alt=\"Open In Colab\"/></a>"
      ]
    },
    {
      "metadata": {
        "id": "Rjbgd1igFSnu",
        "colab_type": "text"
      },
      "cell_type": "markdown",
      "source": [
        "### Learning objectives\n",
        "* Introduction to GitHub\n",
        "* Managing and sharing on GitHub\n",
        "* Pull, Add, Commit functions on GitHub\n",
        "* Using Colab with GitHub"
      ]
    }
  ]
}