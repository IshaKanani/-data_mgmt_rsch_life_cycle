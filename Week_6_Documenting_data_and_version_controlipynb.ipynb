{
  "nbformat": 4,
  "nbformat_minor": 0,
  "metadata": {
    "colab": {
      "name": "Week 6_Documenting data and version controlipynb",
      "version": "0.3.2",
      "provenance": [],
      "include_colab_link": true
    },
    "kernelspec": {
      "name": "python3",
      "display_name": "Python 3"
    }
  },
  "cells": [
    {
      "cell_type": "markdown",
      "metadata": {
        "id": "view-in-github",
        "colab_type": "text"
      },
      "source": [
        "<a href=\"https://colab.research.google.com/github/IshaKanani/-data_mgmt_rsch_life_cycle/blob/master/Week_6_Documenting_data_and_version_controlipynb.ipynb\" target=\"_parent\"><img src=\"https://colab.research.google.com/assets/colab-badge.svg\" alt=\"Open In Colab\"/></a>"
      ]
    },
    {
      "metadata": {
        "id": "Rjbgd1igFSnu",
        "colab_type": "text"
      },
      "cell_type": "markdown",
      "source": [
        "### Learning objectives\n",
        "* Introduction to GitHub\n",
        "* Managing and sharing on GitHub\n",
        "* Pull, Add, Commit functions on GitHub\n",
        "* Using Colab with GitHub\n",
        "\n",
        "**To-do List**\n",
        "1. Fmiliarize with bing\n",
        "2. Find a key for bing using microsoft account"
      ]
    },
    {
      "metadata": {
        "id": "BbeSS77Qvlef",
        "colab_type": "text"
      },
      "cell_type": "markdown",
      "source": [
        "#Introduction\n",
        "\n",
        "* Google colab is designed to get smoothely integrated with github\n",
        "* One can easily load github files to colab and vice versa\n"
      ]
    },
    {
      "metadata": {
        "id": "FlBf7h3Xv4uc",
        "colab_type": "text"
      },
      "cell_type": "markdown",
      "source": [
        "##Loading a file from github to colab\n",
        "\n",
        "* Go to the link: https://github.com/IshaKanani/-datasciencecoursera/blob/master/Week_6_Documenting_data_and_version_controlipynb.ipynb\n",
        "* \"Open in Colab\" option is provided, clikcing which will open the file in google colab\n"
      ]
    },
    {
      "metadata": {
        "id": "NTFKOFNPwQHL",
        "colab_type": "text"
      },
      "cell_type": "markdown",
      "source": [
        "##Chrome extension\n",
        "\n",
        "* Chrome provides it's [ Open in colab extension](https://chrome.google.com/webstore/detail/open-in-colab/iogfkhleblhcpcekbiedikdehleodpjo), by installing which, one can always get the option of opening any notebook in colab"
      ]
    },
    {
      "metadata": {
        "id": "dMO1yzmIxB2s",
        "colab_type": "text"
      },
      "cell_type": "markdown",
      "source": [
        "##Searching github through colab\n",
        "\n",
        "* One can search the github repos on colab by using [this link](https://colab.research.google.com/github/)\n",
        "* The link provides easy search of any files by the file name, or by the user or organziation name\n",
        "* It would return all the available files on github, and one can access the same in colab by clicking any options\n",
        "* One can also edit the link provided above by adding the user or organizaton name to directly access particular files\n",
        "* example: https://colab.research.google.com/github/ishakanani/\n",
        "* Access particular folders: https://colab.research.google.com/github/ishakanani/data_mgmt_rsch_lifecycle\n"
      ]
    },
    {
      "metadata": {
        "id": "2UDLJK_Fx62n",
        "colab_type": "text"
      },
      "cell_type": "markdown",
      "source": [
        "##Saving a colab notebook to your github\n",
        "\n",
        "1. Go to File --> Save a copy in GitHub...\n",
        "2. Connect your GitHub account to colab\n",
        "3. Choose the repository to save the notebook to or make a new one\n",
        "4. Choose the settings: Public or Private"
      ]
    },
    {
      "metadata": {
        "id": "Sk330guswnhg",
        "colab_type": "text"
      },
      "cell_type": "markdown",
      "source": [
        ""
      ]
    },
    {
      "metadata": {
        "id": "jc8q0xYSvYzl",
        "colab_type": "text"
      },
      "cell_type": "markdown",
      "source": [
        "#Resources:\n",
        "\n",
        "[colab-github](https://colab.research.google.com/github/googlecolab/colabtools/blob/master/notebooks/colab-github-demo.ipynb)"
      ]
    }
  ]
}