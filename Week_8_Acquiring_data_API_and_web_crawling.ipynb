{
  "nbformat": 4,
  "nbformat_minor": 0,
  "metadata": {
    "colab": {
      "name": "Week 8_Acquiring data: API and web crawling.ipynb",
      "version": "0.3.2",
      "provenance": [],
      "collapsed_sections": [],
      "include_colab_link": true
    },
    "kernelspec": {
      "name": "python3",
      "display_name": "Python 3"
    },
    "accelerator": "GPU"
  },
  "cells": [
    {
      "cell_type": "markdown",
      "metadata": {
        "id": "view-in-github",
        "colab_type": "text"
      },
      "source": [
        "<a href=\"https://colab.research.google.com/github/IshaKanani/-data_mgmt_rsch_life_cycle/blob/master/Week_8_Acquiring_data_API_and_web_crawling.ipynb\" target=\"_parent\"><img src=\"https://colab.research.google.com/assets/colab-badge.svg\" alt=\"Open In Colab\"/></a>"
      ]
    },
    {
      "metadata": {
        "id": "u0FZFgCCFgnl",
        "colab_type": "text"
      },
      "cell_type": "markdown",
      "source": [
        "### Learning objectives\n",
        "* Introduction to Bing\n",
        "* Use bing API, retriev api\n",
        "* Get a list of articles using Bing\n",
        "* Use newspaper3k with bing"
      ]
    },
    {
      "metadata": {
        "id": "pcL5YhGG4aDm",
        "colab_type": "text"
      },
      "cell_type": "markdown",
      "source": [
        "# Bing"
      ]
    },
    {
      "metadata": {
        "id": "I-Ukdtq0k-Yb",
        "colab_type": "text"
      },
      "cell_type": "markdown",
      "source": [
        "## Why API\n",
        "\n",
        "* ***Suggest search terms in real time***:\tImprove your application experience by using the Bing Autosuggest API to display suggested search terms as they're typed.\n",
        "* ***Filter and restrict results by content type***: \tCustomize and refine search results with filters and query parameters for web pages, images, videos, safe search, and more.\n",
        "* ***Hit highlighting for unicode characters***:\tIdentify and remove unwanted unicode characters from search results before displaying them to users with hit highlighting.\n",
        "* ***Localize search results by country, region, and/or market***: \tBing Web Search supports more than three dozen countries or regions. Use this feature to refine search results for a specific country/region or market.\n",
        "* ***Analyze search metrics with Bing Statistics:*** \tBing Statistics is a paid subscription that provides analytics on call volume, top query strings, geographic distribution, and more."
      ]
    },
    {
      "metadata": {
        "id": "tDAPVWcKlFNf",
        "colab_type": "text"
      },
      "cell_type": "markdown",
      "source": [
        "## Step1: Retrieving Response\n",
        "\n",
        "* Retrieve the subscription key from microsoft account\n",
        "* Paste the subsciprion key in headers\n",
        "* Define Params\n",
        "* Request a url\n",
        "* Parse the response in JSON\n",
        "\n",
        "Function used:\n",
        "1. [request.get](http://docs.python-requests.org/en/master/user/quickstart/)\n",
        "2. [Exception Handling](https://www.w3schools.com/python/python_try_except.asp)\n",
        "\n",
        "[Bing Parameters](https://docs.microsoft.com/en-us/rest/api/cognitiveservices/bing-custom-search-api-v7-reference)"
      ]
    },
    {
      "metadata": {
        "id": "khfphy8ojHlk",
        "colab_type": "code",
        "outputId": "6a25def4-1c31-4a41-a2b9-a6592f53184e",
        "colab": {
          "base_uri": "https://localhost:8080/",
          "height": 34
        }
      },
      "cell_type": "code",
      "source": [
        "import json\n",
        "import requests\n",
        "\n",
        "headers = {\n",
        "    # Request headers\n",
        "    # Add any of the two keys from microsoft account here\n",
        "    'Ocp-Apim-Subscription-Key': '56de6ee45d3e474b8a664174fcabdf81',\n",
        "}\n",
        "\n",
        "params = ({\n",
        "    # Request parameters\n",
        "    \n",
        "    #q: Query or key word\n",
        "    'q': 'bill gates',\n",
        "    \n",
        "    #count: The number of articles to be retrieved\n",
        "    'count': '10',\n",
        "    \n",
        "    #offset: The first number of articles to skip before retrieving the list\n",
        "    'offset': '0',\n",
        "    \n",
        "    #mkt: The region/ country market to focus while retrieving articles\n",
        "    #market codes: https://docs.microsoft.com/en-us/azure/cognitive-services/bing-web-search/language-support\n",
        "    'mkt': 'en-us',\n",
        "    \n",
        "    #safesearch: A filter used to filter results for adult content.\n",
        "    'safesearch': 'Off', #'Strict', 'Off', 'Moderate',\n",
        "})\n",
        "\n",
        "\n",
        "\n",
        "try:\n",
        "  \n",
        "    #Request a response by providing url, subscription key and cpnstraints\n",
        "    response = requests.get(\"https://api.cognitive.microsoft.com//bing/v7.0/news/search?%s?\", headers=headers, params=params)\n",
        "    \n",
        "    #Check for error\n",
        "    response.raise_for_status()\n",
        "    \n",
        "    print(response)\n",
        "\n",
        "#Deal with the exception if one is raised\n",
        "except Exception as e:\n",
        "    print(\"[Errno {0}] {1}\".format(e.errno, e.strerror))\n"
      ],
      "execution_count": 1,
      "outputs": [
        {
          "output_type": "stream",
          "text": [
            "<Response [200]>\n"
          ],
          "name": "stdout"
        }
      ]
    },
    {
      "metadata": {
        "id": "CWehT0sG66J4",
        "colab_type": "text"
      },
      "cell_type": "markdown",
      "source": [
        "### Understanding Exception Handling"
      ]
    },
    {
      "metadata": {
        "id": "f6UXRlP9x1xs",
        "colab_type": "code",
        "outputId": "a0678a25-c6b6-43ce-f4f2-ac6c1bbe7dd2",
        "colab": {
          "base_uri": "https://localhost:8080/",
          "height": 54
        }
      },
      "cell_type": "code",
      "source": [
        "headers = {\n",
        "    # Request headers\n",
        "    'Ocp-Apim-Subscription-Key': '56de6ee45d3e474b8a664174fcabdf8',\n",
        "}\n",
        "\n",
        "params = ({\n",
        "    # Request parameters\n",
        "    \n",
        "    #q: Query or key word\n",
        "    'q': 'bill gates',\n",
        "    'count': '10',\n",
        "    'offset': '0',\n",
        "    'mkt': 'en-us',\n",
        "    'safesearch': 'Moderate',\n",
        "})\n",
        "\n",
        "try:\n",
        "    response_er = requests.get(\"https://api.cognitive.microsoft.com//bing/v7.0/news/search?%s?\", headers=headers, params=params)\n",
        "    response_er.raise_for_status()\n",
        "    print(response_er)\n",
        "except Exception as e:\n",
        "    print(\"[Errno {0}]\".format(e))"
      ],
      "execution_count": 2,
      "outputs": [
        {
          "output_type": "stream",
          "text": [
            "[Errno 401 Client Error: Access Denied for url: https://api.cognitive.microsoft.com//bing/v7.0/news/search?%s?&q=bill+gates&count=10&offset=0&mkt=en-us&safesearch=Moderate]\n"
          ],
          "name": "stdout"
        }
      ]
    },
    {
      "metadata": {
        "id": "JontnQxQ6_JZ",
        "colab_type": "text"
      },
      "cell_type": "markdown",
      "source": [
        "### Retrieving JSON response"
      ]
    },
    {
      "metadata": {
        "id": "x4ffU1SvwVHJ",
        "colab_type": "code",
        "outputId": "c83f651f-4a0f-405d-edcb-08ba29bbd85d",
        "colab": {
          "base_uri": "https://localhost:8080/",
          "height": 2557
        }
      },
      "cell_type": "code",
      "source": [
        "#Get the response in JSON format\n",
        "search_results = response.json()\n",
        "\n",
        "#Display JSON\n",
        "search_results"
      ],
      "execution_count": 3,
      "outputs": [
        {
          "output_type": "execute_result",
          "data": {
            "text/plain": [
              "{'_type': 'News',\n",
              " 'queryContext': {'adultIntent': False, 'originalQuery': 'bill gates'},\n",
              " 'readLink': 'https://api.cognitive.microsoft.com/api/v7/news/search?q=bill+gates',\n",
              " 'sort': [{'id': 'relevance',\n",
              "   'isSelected': True,\n",
              "   'name': 'Best match',\n",
              "   'url': 'https://api.cognitive.microsoft.com/api/v7/news/search?q=bill+gates'},\n",
              "  {'id': 'date',\n",
              "   'isSelected': False,\n",
              "   'name': 'Most recent',\n",
              "   'url': 'https://api.cognitive.microsoft.com/api/v7/news/search?q=bill+gates&sortby=date'}],\n",
              " 'totalEstimatedMatches': 62700,\n",
              " 'value': [{'about': [{'name': 'Bill Gates',\n",
              "     'readLink': 'https://api.cognitive.microsoft.com/api/v7/entities/0d47c987-0042-5576-15e8-97af601614fa'}],\n",
              "   'category': 'Health',\n",
              "   'datePublished': '2019-03-13T03:29:00.0000000Z',\n",
              "   'description': 'In the most recent \"Ask Me Anything\" on Reddit, Microsoft cofounder Bill Gates was asked a host of humanitarian-related questions ranging from topics like climate change to the future of education. About 30 minutes into his live session, questions shifted ...',\n",
              "   'image': {'thumbnail': {'contentUrl': 'https://www.bing.com/th?id=ON.4C3E3F0A7EF5085246EA6870E9E0DB1C&pid=News',\n",
              "     'height': 524,\n",
              "     'width': 700}},\n",
              "   'name': \"Bill Gates says he's happier at 63 than he was at 25 because he does 4 simple things\",\n",
              "   'provider': [{'_type': 'Organization',\n",
              "     'image': {'thumbnail': {'contentUrl': 'https://www.bing.com/th?id=AR_86ac6d5fd1859e509650fb5feef96bf7&pid=news'}},\n",
              "     'name': 'Business Insider'}],\n",
              "   'url': 'https://www.businessinsider.com/bill-gates-says-hes-happier-at-age-63-than-25-because-of-4-things-2019-3'},\n",
              "  {'about': [{'name': 'Bill Gates',\n",
              "     'readLink': 'https://api.cognitive.microsoft.com/api/v7/entities/0d47c987-0042-5576-15e8-97af601614fa'},\n",
              "    {'name': 'Microsoft',\n",
              "     'readLink': 'https://api.cognitive.microsoft.com/api/v7/entities/a093e9b9-90f5-a3d5-c4b8-5855e1b01f85'}],\n",
              "   'category': 'ScienceAndTechnology',\n",
              "   'datePublished': '2019-03-15T04:35:00.0000000Z',\n",
              "   'description': \"If you wanted a job with Microsoft at the height of the personal computer revolution, you only needed to display two qualities — at least, that's what Microsoft co-founder Bill Gates told NBC's ...\",\n",
              "   'name': 'Watch 33-year-old Bill Gates describe the ideal candidate for a job at Microsoft in 1989',\n",
              "   'provider': [{'_type': 'Organization', 'name': 'Yahoo Finance'}],\n",
              "   'url': 'https://finance.yahoo.com/news/watch-33-old-bill-gates-141248255.html'},\n",
              "  {'about': [{'name': 'Bill Gates',\n",
              "     'readLink': 'https://api.cognitive.microsoft.com/api/v7/entities/0d47c987-0042-5576-15e8-97af601614fa'},\n",
              "    {'name': 'Michael Bloomberg',\n",
              "     'readLink': 'https://api.cognitive.microsoft.com/api/v7/entities/79464325-4ebf-5477-3c6f-975a3cb4d4a4'},\n",
              "    {'name': 'Increase',\n",
              "     'readLink': 'https://api.cognitive.microsoft.com/api/v7/entities/b1c77f61-b2b1-9da9-ba28-c3f6383ab6b9'}],\n",
              "   'category': 'Business',\n",
              "   'datePublished': '2019-03-12T08:00:00.0000000Z',\n",
              "   'description': 'Bill Gates, Elizabeth Warren and Bernie Sanders all want the rich to pay more taxes, but Gates is saying what the Democratic candidates appear to be thinking: Go for the capital gains rate. Gates, the billionaire co-founder of Microsoft Corp. and the world ...',\n",
              "   'image': {'thumbnail': {'contentUrl': 'https://www.bing.com/th?id=ON.B45934E21B19A63ACB9E46303803A54C&pid=News',\n",
              "     'height': 466,\n",
              "     'width': 700}},\n",
              "   'mentions': [{'name': 'Michael Bloomberg'},\n",
              "    {'name': 'Increase'},\n",
              "    {'name': 'Tax'}],\n",
              "   'name': 'Bill Gates Spells Out Democrats’ Tax Plans as a Capital Gains Hike',\n",
              "   'provider': [{'_type': 'Organization',\n",
              "     'image': {'thumbnail': {'contentUrl': 'https://www.bing.com/th?id=AR_547fa6d5f7b56fc1176cbdaadbcad3bc&pid=news'}},\n",
              "     'name': 'Bloomberg L.P.'}],\n",
              "   'url': 'https://www.bloomberg.com/news/articles/2019-03-12/capital-gains-increase-at-heart-of-democrats-tax-the-rich-plans?srnd=politics-vp'},\n",
              "  {'about': [{'name': 'Bill Gates',\n",
              "     'readLink': 'https://api.cognitive.microsoft.com/api/v7/entities/0d47c987-0042-5576-15e8-97af601614fa'},\n",
              "    {'name': 'Chicago',\n",
              "     'readLink': 'https://api.cognitive.microsoft.com/api/v7/entities/28deeb39-ca49-4bd4-913b-929b1de4b25b'},\n",
              "    {'name': 'Recognition',\n",
              "     'readLink': 'https://api.cognitive.microsoft.com/api/v7/entities/07ffb00d-0100-4482-7ad4-af7bb4816671'}],\n",
              "   'category': 'ScienceAndTechnology',\n",
              "   'datePublished': '2019-03-15T13:22:00.0000000Z',\n",
              "   'description': 'Philanthropist Bill Gates recently highlighted Chicago’s Network for College Success, which uses the “Freshmen-On-Track” metric to identify struggling students and keep them on the path to graduation, Chalkbeat reports. Gates, whose foundation is ...',\n",
              "   'name': 'Chicago Network for College Success gets Gates recognition for focus on freshmen',\n",
              "   'provider': [{'_type': 'Organization',\n",
              "     'image': {'thumbnail': {'contentUrl': 'https://www.bing.com/th?id=AR_367dff7d14edab56ab932b8b3e4b05e2&pid=news'}},\n",
              "     'name': 'Education Dive'}],\n",
              "   'url': 'https://www.educationdive.com/news/chicago-network-for-college-success-gets-gates-recognition-for-focus-on-fre/549935/'},\n",
              "  {'category': 'ScienceAndTechnology',\n",
              "   'datePublished': '2019-03-13T04:37:00.0000000Z',\n",
              "   'description': 'You could make a strong argument in March 2019 that the pulse of American politics is the Twitter of AOC. A politician that’s 6 years too young to be able to even run as the next POTUS, this ...',\n",
              "   'image': {'thumbnail': {'contentUrl': 'https://www.bing.com/th?id=ON.359886C2A3DD954FFEC9C3527A9067D8&pid=News',\n",
              "     'height': 525,\n",
              "     'width': 700}},\n",
              "   'name': 'AOC and Bill Gates Agree and Disagree on Automation',\n",
              "   'provider': [{'_type': 'Organization',\n",
              "     'image': {'thumbnail': {'contentUrl': 'https://www.bing.com/th?id=AR_b3e93cffa961fbff66cfbd26395bf0c6&pid=news'}},\n",
              "     'name': 'Medium'}],\n",
              "   'url': 'https://medium.com/utopiapress/aoc-and-bill-gates-agree-and-disagree-on-automation-59cbd3357377'},\n",
              "  {'category': 'ScienceAndTechnology',\n",
              "   'datePublished': '2019-03-09T20:02:00.0000000Z',\n",
              "   'description': 'Last week, we began the first of a two-part series, detailing Bill Gates’ top technology breakthroughs for 2019 from the perspective of an investor. A link to Part 1 of this series can be found here, but for those who don’t wish to go flipping between ...',\n",
              "   'image': {'thumbnail': {'contentUrl': 'https://www.bing.com/th?id=ON.46E27CDEA83497BB9E74CC8D9FAA7D6B&pid=News',\n",
              "     'height': 466,\n",
              "     'width': 700}},\n",
              "   'name': \"Bill Gates' Top Technology Picks of 2019: An Investor's Guide (Part 2)\",\n",
              "   'provider': [{'_type': 'Organization',\n",
              "     'image': {'thumbnail': {'contentUrl': 'https://www.bing.com/th?id=AR_1e19f0a8e63073d76702452713cf04e3&pid=news'}},\n",
              "     'name': 'Wealth Daily'}],\n",
              "   'url': 'https://www.wealthdaily.com/articles/bill-gates-top-technology-picks-of-2019-an-investor-s-guide-part-2-/91705'},\n",
              "  {'about': [{'name': 'Bill Gates',\n",
              "     'readLink': 'https://api.cognitive.microsoft.com/api/v7/entities/0d47c987-0042-5576-15e8-97af601614fa'}],\n",
              "   'category': 'ScienceAndTechnology',\n",
              "   'datePublished': '2019-03-12T16:00:00.0000000Z',\n",
              "   'description': 'If you want to be the best at something, billionaire Bill Gates suggests thinking back to whatever you obsessed over as a teenager. \"The thing you do obsessively between age 13 and 18, that\\'s the ...',\n",
              "   'name': \"Bill Gates: Use this simple trick to figure out what you'll be great at in life\",\n",
              "   'provider': [{'_type': 'Organization', 'name': 'Yahoo Finance'}],\n",
              "   'url': 'https://finance.yahoo.com/news/bill-gates-simple-trick-figure-152314051.html'},\n",
              "  {'about': [{'name': 'Bill Gates',\n",
              "     'readLink': 'https://api.cognitive.microsoft.com/api/v7/entities/0d47c987-0042-5576-15e8-97af601614fa'},\n",
              "    {'name': 'Trampoline',\n",
              "     'readLink': 'https://api.cognitive.microsoft.com/api/v7/entities/8462ec23-7cb2-8f3a-028a-a68740f98c02'}],\n",
              "   'datePublished': '2019-03-08T23:48:00.0000000Z',\n",
              "   'description': \"Bill Gates may be one of the richest men in the world (second only to Amazon CEO Jeff Bezos, as of the latest figures), but that doesn't mean the Microsoft founder is an all-work, no-fun kinda guy. Want proof? His home has a trampoline room. Yup, an ...\",\n",
              "   'image': {'thumbnail': {'contentUrl': 'https://www.bing.com/th?id=ON.E8EC254061CEA1FEBD49C0DA27023FE1&pid=News',\n",
              "     'height': 385,\n",
              "     'width': 685}},\n",
              "   'name': \"Bill Gates Has a Home Feature That'll Leave You Floored: Can You Guess What It Is?\",\n",
              "   'provider': [{'_type': 'Organization', 'name': 'Realtor.com'}],\n",
              "   'url': 'https://www.realtor.com/news/celebrity-real-estate/bill-gates-has-a-trampoline-room-in-his-home/'},\n",
              "  {'category': 'ScienceAndTechnology',\n",
              "   'datePublished': '2019-03-11T18:58:00.0000000Z',\n",
              "   'description': 'Microsoft co-founder Bill Gates agrees with liberal Democratic firebrand Alexandria Ocasio-Cortez that robots ought to be taxed just like real people. Billionaire Bill Gates and left-wing political wunderkind Alexandria Ocasio-Cortez might disagree on how ...',\n",
              "   'image': {'thumbnail': {'contentUrl': 'https://www.bing.com/th?id=ON.E3E2C075C495FB9AFA97376E3A7E428B&pid=News',\n",
              "     'height': 393,\n",
              "     'width': 700}},\n",
              "   'name': 'Bill Gates finds an ally in Washington for his idea to tax robots: Alexandria Ocasio-Cortez',\n",
              "   'provider': [{'_type': 'Organization',\n",
              "     'image': {'thumbnail': {'contentUrl': 'https://www.bing.com/th?id=AR_441785deaf1a49733ea1c3b5b1003bbd&pid=news'}},\n",
              "     'name': 'MarketWatch'}],\n",
              "   'url': 'https://www.marketwatch.com/story/bill-gates-finds-an-ally-in-washington-for-his-idea-to-tax-robots-alexandria-ocasio-cortez-2019-03-11?mod=market-extra'},\n",
              "  {'about': [{'name': 'Patrick Brown',\n",
              "     'readLink': 'https://api.cognitive.microsoft.com/api/v7/entities/5f0ee4b0-498b-4170-1e5e-10cb7feb1760'},\n",
              "    {'name': 'Bill Gates',\n",
              "     'readLink': 'https://api.cognitive.microsoft.com/api/v7/entities/0d47c987-0042-5576-15e8-97af601614fa'},\n",
              "    {'name': 'Corporate Europe Observatory',\n",
              "     'readLink': 'https://api.cognitive.microsoft.com/api/v7/entities/471f809b-f156-39f0-ae7b-fe87cf97ab37'}],\n",
              "   'category': 'ScienceAndTechnology',\n",
              "   'datePublished': '2019-03-08T03:11:00.0000000Z',\n",
              "   'description': 'When Pat Brown was working in his research lab in 2009, he had \"zero\" intention of starting a business — much less one that would win United Nations backing and investment from the likes of Microsoft founder Bill Gates. No, his goal then was \"simple.',\n",
              "   'image': {'thumbnail': {'contentUrl': 'https://www.bing.com/th?id=ON.05E5F6EA09DF90A2D90E1AFF7FE8C293&pid=News',\n",
              "     'height': 400,\n",
              "     'width': 600}},\n",
              "   'name': \"How Impossible Burger's 'simple' vision won hundreds of millions in funding — and backing from Bill Gates\",\n",
              "   'provider': [{'_type': 'Organization',\n",
              "     'image': {'thumbnail': {'contentUrl': 'https://www.bing.com/th?id=AR_4efc5b36002beed4d9e08a53512d7e9e&pid=news'}},\n",
              "     'name': 'CNBC'}],\n",
              "   'url': 'https://www.cnbc.com/2019/03/08/bill-gates-backed-impossible-burger-ceo-patrick-brown-on-fighting-meat.html',\n",
              "   'video': {'allowHttpsEmbed': True,\n",
              "    'embedHtml': '<iframe src=\"https://player.cnbc.com/p/gZWlPC/cnbc_global?playertype=synd&byGuid=7000060566\" width=\"530\" height=\"298\" type=\"application/x-shockwave-flash\" allowFullScreen=\"true\" bgcolor=\"#131313\" scrolling=\"no\"></iframe>',\n",
              "    'name': 'How the Beyond Meat burger is taking on the multibillion-dollar beef industry',\n",
              "    'thumbnail': {'height': 269, 'width': 480},\n",
              "    'thumbnailUrl': 'https://www.bing.com/th?id=ON.9C035FFA9A0A1345CBB14F82A4713AE7&pid=News'}}]}"
            ]
          },
          "metadata": {
            "tags": []
          },
          "execution_count": 3
        }
      ]
    },
    {
      "metadata": {
        "id": "av__DgLYlLOE",
        "colab_type": "text"
      },
      "cell_type": "markdown",
      "source": [
        "## Step2: Structured Format: JSON\n",
        "\n",
        "### JSON\n",
        "\n",
        "* JavaScript Object Notation\n",
        "* Language independent\n",
        "* Self describing due to key-value pairs\n",
        "* Uses JavaScript Syntax for data Objects\n",
        "\n",
        "What is a JSON object?\n",
        "Same as Dictionary\n",
        "\n",
        "\n",
        "![JSON format](https://image.slidesharecdn.com/json-130530085957-phpapp01/95/json-the-basics-13-638.jpg?cb=1369904720)"
      ]
    },
    {
      "metadata": {
        "id": "nnRaxfF6jq2F",
        "colab_type": "code",
        "outputId": "15d3391a-eae8-4d6b-e917-35da77606bb7",
        "colab": {
          "base_uri": "https://localhost:8080/",
          "height": 122
        }
      },
      "cell_type": "code",
      "source": [
        "#Understanding the hierarchy of JSON response\n",
        "for obj in search_results:\n",
        "  print(obj)"
      ],
      "execution_count": 4,
      "outputs": [
        {
          "output_type": "stream",
          "text": [
            "_type\n",
            "readLink\n",
            "queryContext\n",
            "totalEstimatedMatches\n",
            "sort\n",
            "value\n"
          ],
          "name": "stdout"
        }
      ]
    },
    {
      "metadata": {
        "id": "2-kQWfUOczLK",
        "colab_type": "code",
        "colab": {
          "base_uri": "https://localhost:8080/",
          "height": 54
        },
        "outputId": "64e2e719-c120-46c6-d798-e213bd1ad5de"
      },
      "cell_type": "code",
      "source": [
        "search_results.keys()"
      ],
      "execution_count": 13,
      "outputs": [
        {
          "output_type": "execute_result",
          "data": {
            "text/plain": [
              "dict_keys(['_type', 'readLink', 'queryContext', 'totalEstimatedMatches', 'sort', 'value'])"
            ]
          },
          "metadata": {
            "tags": []
          },
          "execution_count": 13
        }
      ]
    },
    {
      "metadata": {
        "id": "vhKR1nrUc9Xa",
        "colab_type": "code",
        "colab": {
          "base_uri": "https://localhost:8080/",
          "height": 34
        },
        "outputId": "bbe1ba43-f533-4295-816a-26888b2b819c"
      },
      "cell_type": "code",
      "source": [
        "search_results['totalEstimatedMatches']"
      ],
      "execution_count": 14,
      "outputs": [
        {
          "output_type": "execute_result",
          "data": {
            "text/plain": [
              "62700"
            ]
          },
          "metadata": {
            "tags": []
          },
          "execution_count": 14
        }
      ]
    },
    {
      "metadata": {
        "id": "xBPQoRWb6KQT",
        "colab_type": "code",
        "outputId": "3b729cbb-7119-46bc-a39c-fe2e11ed539c",
        "colab": {
          "base_uri": "https://localhost:8080/",
          "height": 212
        }
      },
      "cell_type": "code",
      "source": [
        "#Studying the hierarchy of particular key \"value\" \n",
        "for record in search_results['value']:\n",
        "  print(record['url'])"
      ],
      "execution_count": 7,
      "outputs": [
        {
          "output_type": "stream",
          "text": [
            "https://www.businessinsider.com/bill-gates-says-hes-happier-at-age-63-than-25-because-of-4-things-2019-3\n",
            "https://finance.yahoo.com/news/watch-33-old-bill-gates-141248255.html\n",
            "https://www.bloomberg.com/news/articles/2019-03-12/capital-gains-increase-at-heart-of-democrats-tax-the-rich-plans?srnd=politics-vp\n",
            "https://www.educationdive.com/news/chicago-network-for-college-success-gets-gates-recognition-for-focus-on-fre/549935/\n",
            "https://medium.com/utopiapress/aoc-and-bill-gates-agree-and-disagree-on-automation-59cbd3357377\n",
            "https://www.wealthdaily.com/articles/bill-gates-top-technology-picks-of-2019-an-investor-s-guide-part-2-/91705\n",
            "https://finance.yahoo.com/news/bill-gates-simple-trick-figure-152314051.html\n",
            "https://www.realtor.com/news/celebrity-real-estate/bill-gates-has-a-trampoline-room-in-his-home/\n",
            "https://www.marketwatch.com/story/bill-gates-finds-an-ally-in-washington-for-his-idea-to-tax-robots-alexandria-ocasio-cortez-2019-03-11?mod=market-extra\n",
            "https://www.cnbc.com/2019/03/08/bill-gates-backed-impossible-burger-ceo-patrick-brown-on-fighting-meat.html\n"
          ],
          "name": "stdout"
        }
      ]
    },
    {
      "metadata": {
        "id": "5r7u6SfblTgr",
        "colab_type": "text"
      },
      "cell_type": "markdown",
      "source": [
        "## Step3: Generating a list using key values"
      ]
    },
    {
      "metadata": {
        "id": "zO55szSqhk4U",
        "colab_type": "code",
        "outputId": "acf801d9-4af0-4009-ba2d-061ea956b9e6",
        "colab": {
          "base_uri": "https://localhost:8080/",
          "height": 212
        }
      },
      "cell_type": "code",
      "source": [
        "#Empty list\n",
        "list_articles=[]\n",
        "\n",
        "#Retrieving urls from search_results['value']\n",
        "for obj in search_results['value']:\n",
        "  list_articles.append(obj['url'])\n",
        " \n",
        "list_articles"
      ],
      "execution_count": 15,
      "outputs": [
        {
          "output_type": "execute_result",
          "data": {
            "text/plain": [
              "['https://www.businessinsider.com/bill-gates-says-hes-happier-at-age-63-than-25-because-of-4-things-2019-3',\n",
              " 'https://finance.yahoo.com/news/watch-33-old-bill-gates-141248255.html',\n",
              " 'https://www.bloomberg.com/news/articles/2019-03-12/capital-gains-increase-at-heart-of-democrats-tax-the-rich-plans?srnd=politics-vp',\n",
              " 'https://www.educationdive.com/news/chicago-network-for-college-success-gets-gates-recognition-for-focus-on-fre/549935/',\n",
              " 'https://medium.com/utopiapress/aoc-and-bill-gates-agree-and-disagree-on-automation-59cbd3357377',\n",
              " 'https://www.wealthdaily.com/articles/bill-gates-top-technology-picks-of-2019-an-investor-s-guide-part-2-/91705',\n",
              " 'https://finance.yahoo.com/news/bill-gates-simple-trick-figure-152314051.html',\n",
              " 'https://www.realtor.com/news/celebrity-real-estate/bill-gates-has-a-trampoline-room-in-his-home/',\n",
              " 'https://www.marketwatch.com/story/bill-gates-finds-an-ally-in-washington-for-his-idea-to-tax-robots-alexandria-ocasio-cortez-2019-03-11?mod=market-extra',\n",
              " 'https://www.cnbc.com/2019/03/08/bill-gates-backed-impossible-burger-ceo-patrick-brown-on-fighting-meat.html']"
            ]
          },
          "metadata": {
            "tags": []
          },
          "execution_count": 15
        }
      ]
    },
    {
      "metadata": {
        "id": "7Dg-RgJLyTbi",
        "colab_type": "text"
      },
      "cell_type": "markdown",
      "source": [
        "## Bonus Assignment: 5 points\n",
        "\n",
        "The assignment deadline is **03/15 (today) 11:59 pm**.\n",
        "\n",
        "1. Use your own search keywords instead of \"Bill Gates\"\n",
        "2. Using these new words, retrieve the list of URLs using your own Bing API key\n",
        "3. Give the list of URLs as an inout to \"newspaper\" to get the article data. Retrieve data that you find relevant like text, authors, title etc. (Get at least 3 types of data)\n",
        "4. Save this data in a .tsv file\n",
        "5. Upload both the file and the python code on your GitHub.\n"
      ]
    },
    {
      "metadata": {
        "id": "fYCsL-lJpGjj",
        "colab_type": "text"
      },
      "cell_type": "markdown",
      "source": [
        "Refrence:\n",
        "\n",
        "\n",
        "\n",
        "\n",
        "[Bing API](https://dev.cognitive.microsoft.com/docs/services/f40197291cd14401b93a478716e818bf/operations/56b4447dcf5ff8098cef380d)\n",
        "\n",
        "[Documentation](https://docs.microsoft.com/en-us/azure/cognitive-services/bing-web-search/)"
      ]
    }
  ]
}