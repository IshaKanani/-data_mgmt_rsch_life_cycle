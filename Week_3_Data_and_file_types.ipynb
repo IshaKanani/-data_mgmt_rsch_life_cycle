{
  "nbformat": 4,
  "nbformat_minor": 0,
  "metadata": {
    "colab": {
      "name": "Week 3_Data and file types",
      "version": "0.3.2",
      "provenance": [],
      "collapsed_sections": [],
      "toc_visible": true,
      "include_colab_link": true
    },
    "kernelspec": {
      "name": "python3",
      "display_name": "Python 3"
    }
  },
  "cells": [
    {
      "cell_type": "markdown",
      "metadata": {
        "id": "view-in-github",
        "colab_type": "text"
      },
      "source": [
        "<a href=\"https://colab.research.google.com/github/IshaKanani/-data_mgmt_rsch_life_cycle/blob/master/Week_3_Data_and_file_types.ipynb\" target=\"_parent\"><img src=\"https://colab.research.google.com/assets/colab-badge.svg\" alt=\"Open In Colab\"/></a>"
      ]
    },
    {
      "metadata": {
        "id": "2qx7cOkfIAKP",
        "colab_type": "text"
      },
      "cell_type": "markdown",
      "source": [
        "### Objectives of the Lab Session\n",
        "* Introduction to basic dataframe functions: To be utilized while analysing potential datasets for THA1\n",
        "* Merging variables from two or more dataframes: To be utilized while creating a sample dataset for THA1\n",
        "\n",
        "### By the end of this session, a student should be able to:\n",
        "\n",
        "* Get the basic idea of how to view different datasets, their particular columns, understand data types of the dataset.\n",
        "* Perform similar functions for the potential dataset of THA1\n",
        "* Learn how to merge two or more tables of different datasets\n",
        "* Compile a sample using values of two or more tables for THA1\n",
        "\n",
        "\n",
        "### To-do list\n",
        "1. Install [gephi](https://gephi.org/)\n",
        "2. Register for a GitHib account: Check any installment requirements for windows, e.g. git bash\n",
        "3. Install git bash\n"
      ]
    },
    {
      "metadata": {
        "id": "scTjSuOZXkHj",
        "colab_type": "text"
      },
      "cell_type": "markdown",
      "source": [
        "#Basic DataFrame Functions\n",
        "\n",
        "* Retrieving first or last n records\n",
        "* Getting column titles\n",
        "* Getting values of one or multiple specific columns\n",
        "\n",
        "\n"
      ]
    },
    {
      "metadata": {
        "id": "kpV1Ae2APAJr",
        "colab_type": "text"
      },
      "cell_type": "markdown",
      "source": [
        "##Dataframe Functions: head, tail, list\n",
        "\n",
        "**Functions used in the code cell below**\n",
        "1. [pd.read_csv](https://pandas.pydata.org/pandas-docs/stable/reference/api/pandas.read_csv.html): Reading data from csv file to python script into Pandas\n",
        "2. [DataFrame.head(n)](https://pandas.pydata.org/pandas-docs/stable/reference/api/pandas.DataFrame.head.html):  To retrieve first n observations of a dataframe\n",
        "3. [DataFrame.tail(n)](https://pandas.pydata.org/pandas-docs/stable/reference/api/pandas.DataFrame.tail.html): To retrieve last n observations of a dataframe\n",
        "4. list(DataFrame): To get the column names"
      ]
    },
    {
      "metadata": {
        "id": "VfCm3xh0YREM",
        "colab_type": "code",
        "outputId": "aa03475c-bec5-4231-f450-348e54376f4a",
        "colab": {
          "base_uri": "https://localhost:8080/",
          "height": 1822
        }
      },
      "cell_type": "code",
      "source": [
        "import pandas as pd\n",
        "\n",
        "#The dataset used here is open sorce\n",
        "#link for reference: https://www.huduser.gov/portal/datasets/fmr.html#2019_data\n",
        "\n",
        "data = pd.read_excel(\"https://www.huduser.gov/portal/datasets/fmr/fmr2019/FY19_4050_FMRs.xlsx\")\n",
        "print(\"1. Getting the first 10 records\")\n",
        "print(data.head(10))\n",
        "\n",
        "print(\"\\n2. Retrieving last 10 records\")\n",
        "print(data.tail(10))\n",
        "\n",
        "print(\"\\n3. Getting column values\")\n",
        "print(data.columns)\n",
        "print(list(data))"
      ],
      "execution_count": 0,
      "outputs": [
        {
          "output_type": "stream",
          "text": [
            "1. Getting the first 10 records\n",
            "    fips2010  fmr_0  fmr_1  fmr_2  fmr_3  fmr_4  state        metro_code  \\\n",
            "0  100199999    581    696    825   1043   1436      1  METRO33860M33860   \n",
            "1  100399999    756    773    888   1252   1501      1  METRO19300M19300   \n",
            "2  100599999    500    503    666    838    941      1  NCNTY01005N01005   \n",
            "3  100799999    706    763    873   1154   1282      1  METRO13820M13820   \n",
            "4  100999999    706    763    873   1154   1282      1  METRO13820M13820   \n",
            "5  101199999    492    501    628    832    887      1  NCNTY01011N01011   \n",
            "6  101399999    473    476    628    814   1103      1  NCNTY01013N01013   \n",
            "7  101599999    457    513    676    886   1031      1  METRO11500M11500   \n",
            "8  101799999    467    579    691    868    958      1  NCNTY01017N01017   \n",
            "9  101999999    472    475    628    846    849      1  NCNTY01019N01019   \n",
            "\n",
            "                                   areaname  county  cousub       countyname  \\\n",
            "0                        Montgomery, AL MSA       1   99999   Autauga County   \n",
            "1             Daphne-Fairhope-Foley, AL MSA       3   99999   Baldwin County   \n",
            "2                        Barbour County, AL       5   99999   Barbour County   \n",
            "3  Birmingham-Hoover, AL HUD Metro FMR Area       7   99999      Bibb County   \n",
            "4  Birmingham-Hoover, AL HUD Metro FMR Area       9   99999    Blount County   \n",
            "5                        Bullock County, AL      11   99999   Bullock County   \n",
            "6                         Butler County, AL      13   99999    Butler County   \n",
            "7      Anniston-Oxford-Jacksonville, AL MSA      15   99999   Calhoun County   \n",
            "8                       Chambers County, AL      17   99999  Chambers County   \n",
            "9                       Cherokee County, AL      19   99999  Cherokee County   \n",
            "\n",
            "  county_town_name  pop2010  acs_2018_2 state_alpha  fmr_type  metro  \\\n",
            "0   Autauga County    54571         829          AL        40      1   \n",
            "1   Baldwin County   182265         879          AL        40      1   \n",
            "2   Barbour County    27457         657          AL        40      0   \n",
            "3      Bibb County    22915         882          AL        40      1   \n",
            "4    Blount County    57322         882          AL        40      1   \n",
            "5   Bullock County    10914         606          AL        40      0   \n",
            "6    Butler County    20947         606          AL        40      0   \n",
            "7   Calhoun County   118572         679          AL        40      1   \n",
            "8  Chambers County    34215         676          AL        40      0   \n",
            "9  Cherokee County    25989         606          AL        40      0   \n",
            "\n",
            "   fmr_pct_chg  fmr_dollar_chg  \n",
            "0    -0.004825              -4  \n",
            "1     0.010239               9  \n",
            "2     0.013699               9  \n",
            "3    -0.010204              -9  \n",
            "4    -0.010204              -9  \n",
            "5     0.036304              22  \n",
            "6     0.036304              22  \n",
            "7    -0.004418              -3  \n",
            "8     0.022189              15  \n",
            "9     0.036304              22  \n",
            "\n",
            "2. Retrieving last 10 records\n",
            "        fips2010  fmr_0  fmr_1  fmr_2  fmr_3  fmr_4  state        metro_code  \\\n",
            "4757  7214199999    364    373    427    535    577     72  METRO10380N72141   \n",
            "4758  7214399999    431    459    549    728    913     72  METRO41980MM7440   \n",
            "4759  7214599999    431    459    549    728    913     72  METRO41980MM7440   \n",
            "4760  7214799999    335    343    416    558    653     72  NCNTY72923N72923   \n",
            "4761  7214999999    398    408    467    675    818     72  METRO38660M38660   \n",
            "4762  7215199999    431    459    549    728    913     72  METRO41980MM7440   \n",
            "4763  7215399999    354    363    416    575    731     72  METRO38660M49500   \n",
            "4764  7801099999    779    794    970   1215   1311     78  NCNTY78010N78010   \n",
            "4765  7802099999   1034   1225   1523   1908   2059     78  NCNTY78020N78020   \n",
            "4766  7803099999    744    897   1123   1407   1518     78  NCNTY78030N78030   \n",
            "\n",
            "                                      areaname  county  cousub  \\\n",
            "4757   Utuado Municipio, PR HUD Metro FMR Area     141   99999   \n",
            "4758  San Juan-Guaynabo, PR HUD Metro FMR Area     143   99999   \n",
            "4759  San Juan-Guaynabo, PR HUD Metro FMR Area     145   99999   \n",
            "4760             Puerto Rico HUD Nonmetro Area     147   99999   \n",
            "4761              Ponce, PR HUD Metro FMR Area     149   99999   \n",
            "4762  San Juan-Guaynabo, PR HUD Metro FMR Area     151   99999   \n",
            "4763              Yauco, PR HUD Metro FMR Area     153   99999   \n",
            "4764                      St. Croix Island, VI      10   99999   \n",
            "4765                       St. John Island, VI      20   99999   \n",
            "4766                     St. Thomas Island, VI      30   99999   \n",
            "\n",
            "               countyname     county_town_name  pop2010  acs_2018_2  \\\n",
            "4757     Utuado Municipio     Utuado Municipio    33149         415   \n",
            "4758  Vega Alta Municipio  Vega Alta Municipio    39951         530   \n",
            "4759  Vega Baja Municipio  Vega Baja Municipio    59662         530   \n",
            "4760    Vieques Municipio    Vieques Municipio     9301         389   \n",
            "4761   Villalba Municipio   Villalba Municipio    26073         438   \n",
            "4762    Yabucoa Municipio    Yabucoa Municipio    37941         530   \n",
            "4763      Yauco Municipio      Yauco Municipio    42043         389   \n",
            "4764            St. Croix            St. Croix    53234         916   \n",
            "4765             St. John             St. John     4197        1439   \n",
            "4766           St. Thomas           St. Thomas    51181        1061   \n",
            "\n",
            "     state_alpha  fmr_type  metro  fmr_pct_chg  fmr_dollar_chg  \n",
            "4757          PR        40      1     0.028916              12  \n",
            "4758          PR        40      1     0.035849              19  \n",
            "4759          PR        40      1     0.035849              19  \n",
            "4760          PR        40      0     0.069409              27  \n",
            "4761          PR        40      1     0.066210              29  \n",
            "4762          PR        40      1     0.035849              19  \n",
            "4763          PR        40      1     0.069409              27  \n",
            "4764          VI        40      0     0.058952              54  \n",
            "4765          VI        40      0     0.058374              84  \n",
            "4766          VI        40      0     0.058435              62  \n",
            "\n",
            "3. Getting column values\n",
            "Index(['fips2010', 'fmr_0', 'fmr_1', 'fmr_2', 'fmr_3', 'fmr_4', 'state',\n",
            "       'metro_code', 'areaname', 'county', 'cousub', 'countyname',\n",
            "       'county_town_name', 'pop2010', 'acs_2018_2', 'state_alpha', 'fmr_type',\n",
            "       'metro', 'fmr_pct_chg', 'fmr_dollar_chg'],\n",
            "      dtype='object')\n",
            "['fips2010', 'fmr_0', 'fmr_1', 'fmr_2', 'fmr_3', 'fmr_4', 'state', 'metro_code', 'areaname', 'county', 'cousub', 'countyname', 'county_town_name', 'pop2010', 'acs_2018_2', 'state_alpha', 'fmr_type', 'metro', 'fmr_pct_chg', 'fmr_dollar_chg']\n"
          ],
          "name": "stdout"
        }
      ]
    },
    {
      "metadata": {
        "id": "BiYxwGX4O7Nb",
        "colab_type": "text"
      },
      "cell_type": "markdown",
      "source": [
        "##Dataframe Functions: location, partial display\n",
        "\n",
        "**Functions used in the code cell below**\n",
        "1. [DataFrame.loc[index]](https://pandas.pydata.org/pandas-docs/stable/user_guide/indexing.html): To retrieve observation at particular index\n",
        "2. [DataFrame[colname]](https://pandas.pydata.org/pandas-docs/stable/user_guide/indexing.html): To retrieve one or more column values"
      ]
    },
    {
      "metadata": {
        "id": "vP9GRcBybsyc",
        "colab_type": "code",
        "outputId": "93951fd7-8802-45bc-f25f-6b6a10fc30a4",
        "colab": {
          "base_uri": "https://localhost:8080/",
          "height": 1377
        }
      },
      "cell_type": "code",
      "source": [
        "print(\"\\n4. Getting specific observation based on index location\")\n",
        "print(data.loc[54])\n",
        "\n",
        "print(\"\\n5. Getting specific columns\")\n",
        "data_ein_desc = data[[\"areaname\", \"county\"]]\n",
        "print(data_ein_desc.head(5))\n",
        "\n",
        "print(\"\\n6. Basic conditions\")\n",
        "print(data[data[\"fmr_pct_chg\"]>0.09].head(10))"
      ],
      "execution_count": 0,
      "outputs": [
        {
          "output_type": "stream",
          "text": [
            "\n",
            "4. Getting specific observation based on index location\n",
            "fips2010                   110999999\n",
            "fmr_0                            482\n",
            "fmr_1                            540\n",
            "fmr_2                            628\n",
            "fmr_3                            849\n",
            "fmr_4                            849\n",
            "state                              1\n",
            "metro_code          NCNTY01109N01109\n",
            "areaname             Pike County, AL\n",
            "county                           109\n",
            "cousub                         99999\n",
            "countyname               Pike County\n",
            "county_town_name         Pike County\n",
            "pop2010                        32899\n",
            "acs_2018_2                       606\n",
            "state_alpha                       AL\n",
            "fmr_type                          40\n",
            "metro                              0\n",
            "fmr_pct_chg                0.0363036\n",
            "fmr_dollar_chg                    22\n",
            "Name: 54, dtype: object\n",
            "\n",
            "5. Getting specific columns\n",
            "                                   areaname  county\n",
            "0                        Montgomery, AL MSA       1\n",
            "1             Daphne-Fairhope-Foley, AL MSA       3\n",
            "2                        Barbour County, AL       5\n",
            "3  Birmingham-Hoover, AL HUD Metro FMR Area       7\n",
            "4  Birmingham-Hoover, AL HUD Metro FMR Area       9\n",
            "\n",
            "6. Basic conditions\n",
            "      fips2010  fmr_0  fmr_1  fmr_2  fmr_3  fmr_4  state        metro_code  \\\n",
            "15   103199999    555    558    680    983   1194      1  NCNTY01031N01031   \n",
            "41   108399999    586    685    809   1084   1421      1  METRO26620M26620   \n",
            "44   108999999    586    685    809   1084   1421      1  METRO26620M26620   \n",
            "73   207099999   1004   1068   1312   1813   1814      2  NCNTY02070N02070   \n",
            "80   215099999    954   1031   1222   1646   1652      2  NCNTY02150N02150   \n",
            "85   218599999   1012   1160   1328   1664   1847      2  NCNTY02185N02185   \n",
            "98   400599999    898   1007   1237   1611   1948      4  METRO22380M22380   \n",
            "105  401799999    615    619    796   1067   1182      4  NCNTY04017N04017   \n",
            "160  509999999    555    566    749    938   1012      5  NCNTY05099N05099   \n",
            "189  600799999    808    894   1144   1654   1921      6  METRO17020M17020   \n",
            "\n",
            "                       areaname  county  cousub              countyname  \\\n",
            "15            Coffee County, AL      31   99999           Coffee County   \n",
            "41           Huntsville, AL MSA      83   99999        Limestone County   \n",
            "44           Huntsville, AL MSA      89   99999          Madison County   \n",
            "73   Dillingham Census Area, AK      70   99999  Dillingham Census Area   \n",
            "80    Kodiak Island Borough, AK     150   99999   Kodiak Island Borough   \n",
            "85      North Slope Borough, AK     185   99999     North Slope Borough   \n",
            "98            Flagstaff, AZ MSA       5   99999         Coconino County   \n",
            "105           Navajo County, AZ      17   99999           Navajo County   \n",
            "160           Nevada County, AR      99   99999           Nevada County   \n",
            "189               Chico, CA MSA       7   99999            Butte County   \n",
            "\n",
            "           county_town_name  pop2010  acs_2018_2 state_alpha  fmr_type  metro  \\\n",
            "15            Coffee County    49948         619          AL        40      0   \n",
            "41         Limestone County    82782         717          AL        40      1   \n",
            "44           Madison County   334811         717          AL        40      1   \n",
            "73   Dillingham Census Area     4847        1201          AK        40      0   \n",
            "80    Kodiak Island Borough    13592        1061          AK        40      0   \n",
            "85      North Slope Borough     9430        1180          AK        40      0   \n",
            "98          Coconino County   134421        1129          AZ        40      1   \n",
            "105           Navajo County   107449         722          AZ        40      0   \n",
            "160           Nevada County     8997         643          AR        40      0   \n",
            "189            Butte County   220000         992          CA        40      1   \n",
            "\n",
            "     fmr_pct_chg  fmr_dollar_chg  \n",
            "15      0.098546              61  \n",
            "41      0.128312              92  \n",
            "44      0.128312              92  \n",
            "73      0.092423             111  \n",
            "80      0.151744             161  \n",
            "85      0.125424             148  \n",
            "98      0.095660             108  \n",
            "105     0.102493              74  \n",
            "160     0.164852             106  \n",
            "189     0.153226             152  \n"
          ],
          "name": "stdout"
        }
      ]
    },
    {
      "metadata": {
        "id": "DwrqTPYwRr1j",
        "colab_type": "text"
      },
      "cell_type": "markdown",
      "source": [
        "#In-class Practice:\n",
        "\n",
        "1. Import \"https://www.huduser.gov/portal/datasets/fmr/fmr2018/FY18_4050_FMRs_rev.xlsx\" into Pandas Dataframe\n",
        "2. Print last 15 obdervations\n",
        "3. Print the observation at the index 122\n",
        "4. Print the columns \"fmr_dollar_chg\" & \"county_town_name\"\n",
        "5. Print observations where \"fmr_dollar_chg\" > \"150\""
      ]
    },
    {
      "metadata": {
        "id": "jgtYIIBE4MpG",
        "colab_type": "text"
      },
      "cell_type": "markdown",
      "source": [
        ""
      ]
    },
    {
      "metadata": {
        "id": "s_yV8eagcE5R",
        "colab_type": "text"
      },
      "cell_type": "markdown",
      "source": [
        "#Working with two datasets"
      ]
    },
    {
      "metadata": {
        "id": "4eKrJBvfszYq",
        "colab_type": "text"
      },
      "cell_type": "markdown",
      "source": [
        "##Task 1: Importing both the datasets"
      ]
    },
    {
      "metadata": {
        "id": "XFWEHGp6n_RH",
        "colab_type": "code",
        "outputId": "b7bcbc54-e5dd-46a1-d017-e7becbdff95c",
        "colab": {
          "base_uri": "https://localhost:8080/",
          "height": 935
        }
      },
      "cell_type": "code",
      "source": [
        "import pandas as pd\n",
        "\n",
        "fmr_2019 = pd.read_excel(\"https://www.huduser.gov/portal/datasets/fmr/fmr2019/FY19_4050_FMRs.xlsx\")\n",
        "\n",
        "fmr_2018 = pd.read_excel(\"https://www.huduser.gov/portal/datasets/fmr/fmr2018/FY18_4050_FMRs_rev.xlsx\")\n",
        "\n",
        "print(fmr_2019.head())\n",
        "\n",
        "print(fmr_2018.head())"
      ],
      "execution_count": 0,
      "outputs": [
        {
          "output_type": "stream",
          "text": [
            "    fips2010  fmr_0  fmr_1  fmr_2  fmr_3  fmr_4  state        metro_code  \\\n",
            "0  100199999    581    696    825   1043   1436      1  METRO33860M33860   \n",
            "1  100399999    756    773    888   1252   1501      1  METRO19300M19300   \n",
            "2  100599999    500    503    666    838    941      1  NCNTY01005N01005   \n",
            "3  100799999    706    763    873   1154   1282      1  METRO13820M13820   \n",
            "4  100999999    706    763    873   1154   1282      1  METRO13820M13820   \n",
            "\n",
            "                                   areaname  county  cousub      countyname  \\\n",
            "0                        Montgomery, AL MSA       1   99999  Autauga County   \n",
            "1             Daphne-Fairhope-Foley, AL MSA       3   99999  Baldwin County   \n",
            "2                        Barbour County, AL       5   99999  Barbour County   \n",
            "3  Birmingham-Hoover, AL HUD Metro FMR Area       7   99999     Bibb County   \n",
            "4  Birmingham-Hoover, AL HUD Metro FMR Area       9   99999   Blount County   \n",
            "\n",
            "  county_town_name  pop2010  acs_2018_2 state_alpha  fmr_type  metro  \\\n",
            "0   Autauga County    54571         829          AL        40      1   \n",
            "1   Baldwin County   182265         879          AL        40      1   \n",
            "2   Barbour County    27457         657          AL        40      0   \n",
            "3      Bibb County    22915         882          AL        40      1   \n",
            "4    Blount County    57322         882          AL        40      1   \n",
            "\n",
            "   fmr_pct_chg  fmr_dollar_chg  \n",
            "0    -0.004825              -4  \n",
            "1     0.010239               9  \n",
            "2     0.013699               9  \n",
            "3    -0.010204              -9  \n",
            "4    -0.010204              -9  \n",
            "    fips2010  fmr_0  fmr_1  fmr_2  fmr_3  fmr_4  state        metro_code  \\\n",
            "0  100199999    588    691    829   1055   1451      1  METRO33860M33860   \n",
            "1  100399999    729    762    879   1280   1471      1  METRO19300M19300   \n",
            "2  100599999    491    494    657    824    929      1  NCNTY01005N01005   \n",
            "3  100799999    692    768    882   1176   1315      1  METRO13820M13820   \n",
            "4  100999999    692    768    882   1176   1315      1  METRO13820M13820   \n",
            "\n",
            "                                   areaname  county  cousub      countyname  \\\n",
            "0                        Montgomery, AL MSA       1   99999  Autauga County   \n",
            "1             Daphne-Fairhope-Foley, AL MSA       3   99999  Baldwin County   \n",
            "2                        Barbour County, AL       5   99999  Barbour County   \n",
            "3  Birmingham-Hoover, AL HUD Metro FMR Area       7   99999     Bibb County   \n",
            "4  Birmingham-Hoover, AL HUD Metro FMR Area       9   99999   Blount County   \n",
            "\n",
            "  county_town_name   pop2010  acs_2017_2 state_alpha  fmr_type  metro  \\\n",
            "0   Autauga County   54571.0         822          AL        40      1   \n",
            "1   Baldwin County  182265.0         977          AL        40      1   \n",
            "2   Barbour County   27457.0         671          AL        40      0   \n",
            "3      Bibb County   22915.0         866          AL        40      1   \n",
            "4    Blount County   57322.0         866          AL        40      1   \n",
            "\n",
            "   fmr_pct_chg  fmr_dollar_chg  \n",
            "0     0.008516               7  \n",
            "1    -0.100307             -98  \n",
            "2    -0.020864             -14  \n",
            "3     0.018476              16  \n",
            "4     0.018476              16  \n"
          ],
          "name": "stdout"
        }
      ]
    },
    {
      "metadata": {
        "id": "l567Edxbablp",
        "colab_type": "code",
        "outputId": "bb75318b-61da-4e31-cec3-7c5261bd910f",
        "colab": {
          "base_uri": "https://localhost:8080/",
          "height": 34
        }
      },
      "cell_type": "code",
      "source": [
        "len(fmr_2018), len(fmr_2019)"
      ],
      "execution_count": 0,
      "outputs": [
        {
          "output_type": "execute_result",
          "data": {
            "text/plain": [
              "(4769, 4767)"
            ]
          },
          "metadata": {
            "tags": []
          },
          "execution_count": 2
        }
      ]
    },
    {
      "metadata": {
        "id": "Jw6ZKR7Drjmo",
        "colab_type": "text"
      },
      "cell_type": "markdown",
      "source": [
        "##Task 2: Obtaining required columns"
      ]
    },
    {
      "metadata": {
        "id": "NwObL2oGro0a",
        "colab_type": "code",
        "outputId": "53ea799e-36c1-4947-def0-b67a8fe2937a",
        "colab": {
          "base_uri": "https://localhost:8080/",
          "height": 71
        }
      },
      "cell_type": "code",
      "source": [
        "print(list(fmr_2019))\n",
        "print(list(fmr_2018))"
      ],
      "execution_count": 0,
      "outputs": [
        {
          "output_type": "stream",
          "text": [
            "['fips2010', 'fmr_0', 'fmr_1', 'fmr_2', 'fmr_3', 'fmr_4', 'state', 'metro_code', 'areaname', 'county', 'cousub', 'countyname', 'county_town_name', 'pop2010', 'acs_2018_2', 'state_alpha', 'fmr_type', 'metro', 'fmr_pct_chg', 'fmr_dollar_chg']\n",
            "['fips2010', 'fmr_0', 'fmr_1', 'fmr_2', 'fmr_3', 'fmr_4', 'state', 'metro_code', 'areaname', 'county', 'cousub', 'countyname', 'county_town_name', 'pop2010', 'acs_2017_2', 'state_alpha', 'fmr_type', 'metro', 'fmr_pct_chg', 'fmr_dollar_chg']\n"
          ],
          "name": "stdout"
        }
      ]
    },
    {
      "metadata": {
        "id": "Ca7AOi2Dr4aW",
        "colab_type": "code",
        "outputId": "b7bb6c17-31a6-4468-c705-8738a9eb61e3",
        "colab": {
          "base_uri": "https://localhost:8080/",
          "height": 221
        }
      },
      "cell_type": "code",
      "source": [
        "fmr_2019_col = fmr_2019[[\"fips2010\", \"fmr_pct_chg\"]]\n",
        "print(fmr_2019_col.head())\n",
        "\n",
        "fmr_2018_col = fmr_2018[[\"fips2010\", \"county_town_name\"]]\n",
        "print(fmr_2018_col.sample(5))"
      ],
      "execution_count": 0,
      "outputs": [
        {
          "output_type": "stream",
          "text": [
            "    fips2010  fmr_pct_chg\n",
            "0  100199999    -0.004825\n",
            "1  100399999     0.010239\n",
            "2  100599999     0.013699\n",
            "3  100799999    -0.010204\n",
            "4  100999999    -0.010204\n",
            "        fips2010 county_town_name\n",
            "792   1707399999     Henry County\n",
            "807   1710399999       Lee County\n",
            "4400  5107999999    Greene County\n",
            "2612  2922599999   Webster County\n",
            "1461  2300724775  Farmington town\n"
          ],
          "name": "stdout"
        }
      ]
    },
    {
      "metadata": {
        "id": "8Aj1A8Odskvq",
        "colab_type": "text"
      },
      "cell_type": "markdown",
      "source": [
        "##Task3: Merging both the dataframes\n",
        "\n",
        "Function Used:\n",
        "\n",
        "[DataFrame.merge() ](https://pandas.pydata.org/pandas-docs/stable/reference/api/pandas.DataFrame.merge.html): To merge two dataframes, variable outputs depending on parameters provided"
      ]
    },
    {
      "metadata": {
        "id": "M9mjqMVOssAY",
        "colab_type": "code",
        "outputId": "f7e871fa-e1d1-431d-bd4c-9ca8c43d4898",
        "colab": {
          "base_uri": "https://localhost:8080/",
          "height": 204
        }
      },
      "cell_type": "code",
      "source": [
        "fmr_2018_2019 = fmr_2019_col.merge(fmr_2018_col, on=\"fips2010\", how=\"inner\")\n",
        "print(fmr_2018_2019.sample(10))\n",
        "\n",
        "#fmr_2018_2019.to_pickle(\"sample_data/ntee_ein_desc.pkl.gz\")"
      ],
      "execution_count": 0,
      "outputs": [
        {
          "output_type": "stream",
          "text": [
            "        fips2010  fmr_pct_chg           county_town_name\n",
            "3382  3915199999     0.080893               Stark County\n",
            "3702  4608799999     0.117798              McCook County\n",
            "4298  5002321925    -0.026316       East Montpelier town\n",
            "2657  3008999999     0.004304             Sanders County\n",
            "4535  5400799999    -0.031056             Braxton County\n",
            "3747  4704399999     0.100798             Dickson County\n",
            "93     227599999     0.028067  Wrangell City and Borough\n",
            "480   1100199999    -0.071389       District of Columbia\n",
            "240    610999999     0.036573            Tuolumne County\n",
            "3226  3714599999     0.029112              Person County\n"
          ],
          "name": "stdout"
        }
      ]
    },
    {
      "metadata": {
        "id": "xhtiD_7g6NPs",
        "colab_type": "text"
      },
      "cell_type": "markdown",
      "source": [
        "# In-class practice."
      ]
    },
    {
      "metadata": {
        "id": "_54xb40ASodW",
        "colab_type": "text"
      },
      "cell_type": "markdown",
      "source": [
        "1. Use the two datasets used above\n",
        "2. Take random 1,000 samples of each: refer to [function sample](https://pandas.pydata.org/pandas-docs/stable/reference/api/pandas.DataFrame.sample.html)\n",
        "3. Perform merge on both using \"fips2010\" as implemented in the code cell above."
      ]
    },
    {
      "metadata": {
        "id": "IkgfkejbaSrq",
        "colab_type": "code",
        "colab": {}
      },
      "cell_type": "code",
      "source": [
        ""
      ],
      "execution_count": 0,
      "outputs": []
    }
  ]
}